{
 "cells": [
  {
   "cell_type": "markdown",
   "id": "c5ac9e87",
   "metadata": {
    "id": "3uiwpfhEzPS5",
    "papermill": {
     "duration": 0.00565,
     "end_time": "2025-05-23T20:29:30.701272",
     "exception": false,
     "start_time": "2025-05-23T20:29:30.695622",
     "status": "completed"
    },
    "tags": []
   },
   "source": [
    "<div style=\"background-color: black; color: white; padding: 10px;text-align: center;\">\n",
    "  <strong>Date Published:</strong> May 23, 2025 <strong>Author:</strong> Adnan Alaref\n",
    "</div>"
   ]
  },
  {
   "cell_type": "markdown",
   "id": "adac4bef",
   "metadata": {
    "id": "_6KcspBzqtSm",
    "papermill": {
     "duration": 0.006442,
     "end_time": "2025-05-23T20:29:30.712687",
     "exception": false,
     "start_time": "2025-05-23T20:29:30.706245",
     "status": "completed"
    },
    "tags": []
   },
   "source": [
    "# **✅ Concept Introduction**"
   ]
  },
  {
   "cell_type": "markdown",
   "id": "4f2d4067",
   "metadata": {
    "id": "asrwEJa0kCP2",
    "papermill": {
     "duration": 0.004591,
     "end_time": "2025-05-23T20:29:30.722177",
     "exception": false,
     "start_time": "2025-05-23T20:29:30.717586",
     "status": "completed"
    },
    "tags": []
   },
   "source": [
    ">### **Let's break down Categorical Focal Cross Entropy step by step in a simple way.**"
   ]
  },
  {
   "cell_type": "markdown",
   "id": "40079698",
   "metadata": {
    "id": "rZSvvqrZX_9C",
    "papermill": {
     "duration": 0.004538,
     "end_time": "2025-05-23T20:29:30.731710",
     "exception": false,
     "start_time": "2025-05-23T20:29:30.727172",
     "status": "completed"
    },
    "tags": []
   },
   "source": [
    "# 🌟 Step 1: Start with Categorical Cross Entropy (CCE)\n",
    "\n",
    "CCE is used in **multi-class classification** tasks — like predicting whether an image shows a **cat, dog, or bird**.\n",
    "\n",
    "### 💡 How it works:\n",
    "\n",
    "- Measures the difference between the predicted probabilities and the true class.\n",
    "- Penalizes the model more when it's confident but **wrong**.\n",
    "\n",
    "### 🧮 Formula:\n",
    "\n",
    "$$\n",
    "\\text{CCE} = -\\sum_{i=1}^{C} y_i \\cdot \\log(p_i)\n",
    "$$\n",
    "\n",
    "Where:\n",
    "\n",
    "- \\( C \\): total number of classes  \n",
    "- \\( y_i \\): 1 if class \\( i \\) is the true class, else 0  \n",
    "- \\( p_i \\): model's predicted probability for class \\( i \\)\n",
    "\n",
    "---\n",
    "\n",
    "# 🔥 Step 2: Problem — CCE Struggles with Imbalanced Data\n",
    "\n",
    "In real datasets, some classes are more frequent than others (e.g., 90% class 0, 10% class 1).  \n",
    "Using CCE alone can cause the model to:\n",
    "\n",
    "- Predict only the **majority class**\n",
    "- Ignore rare but **important** classes\n",
    "\n",
    "---\n",
    "\n",
    "# 🎯 Step 3: Add “Focal” — Focus on Hard Examples\n",
    "\n",
    "**Focal Loss** improves upon CCE by focusing more on **difficult (misclassified)** examples and less on **easy (correct)** ones.\n",
    "\n",
    "### 🧮 Modulating factor:\n",
    "\n",
    "$$\n",
    "(1 - p_t)^ᵞ\n",
    "$$\n",
    "\n",
    "Where:\n",
    "\n",
    "- \\( p_t \\): the predicted probability for the **true class**  \n",
    "- \\( γ ≥ 0 \\): focusing parameter (commonly 2)\n",
    "\n",
    "### 🔍 Behavior:\n",
    "\n",
    "- \\( p_t = 0.95 \\) → \\( (1 - p_t)^ᵞ ≈ 0.003 \\): down-weighted (easy example)  \n",
    "- \\( p_t = 0.2 \\) → \\( (1 - p_t)^ᵞ = 0.8^ᵞ \\): boosted (hard example)\n",
    "\n",
    "---\n",
    "\n",
    "# 🧠 Step 4: Categorical Focal Cross Entropy\n",
    "\n",
    "Combine CCE with the modulating factor:\n",
    "\n",
    "$$\n",
    "\\text{Focal Loss} = -\\sum_{i=1}^{C} y_i ⋅ (1 - p_i)^ᵞ ⋅ \\log(p_i)\n",
    "$$\n",
    "\n",
    "This:\n",
    "\n",
    "- **Down-weights** easy examples  \n",
    "- **Up-weights** hard examples\n",
    "\n",
    "---\n",
    "\n",
    "# ⚖️ Step 5: Add Class Weights — \\( α \\)\n",
    "\n",
    "To handle **class imbalance**, we add a weighting factor \\( α_i \\) for each class:\n",
    "\n",
    "- Higher weight for **rare** classes  \n",
    "- Lower weight for **common** ones\n",
    "\n",
    "### 📘 Final Formula:\n",
    "\n",
    "$$\n",
    "\\text{Focal Loss} = -\\sum_{i=1}^{C} α_i ⋅ y_i ⋅ (1 - p_i)^ᵞ ⋅ \\log(p_i)\n",
    "$$\n",
    "\n",
    "Where:\n",
    "\n",
    "- \\( α_i ∈ [0, 1] \\): weight assigned to class \\( i \\)  \n",
    "- All other terms as before\n",
    "\n",
    "---\n",
    "\n",
    "### ✅ Summary Table\n",
    "\n",
    "| Term         | Meaning                                 |\n",
    "|--------------|------------------------------------------|\n",
    "| \\( y_i \\)     | True class (1-hot)                      |\n",
    "| \\( p_i \\)     | Model’s predicted probability for class \\( i \\) |\n",
    "| \\( γ \\)  | Focus on hard examples                  |\n",
    "| \\( α_i \\)| Class-specific weight                   |\n",
    "| \\( C \\)       | Total number of classes                 |\n"
   ]
  },
  {
   "cell_type": "markdown",
   "id": "347f5157",
   "metadata": {
    "id": "f0IIVbJ3ltXP",
    "papermill": {
     "duration": 0.00454,
     "end_time": "2025-05-23T20:29:30.741134",
     "exception": false,
     "start_time": "2025-05-23T20:29:30.736594",
     "status": "completed"
    },
    "tags": []
   },
   "source": [
    "## Let's Code"
   ]
  },
  {
   "cell_type": "markdown",
   "id": "b4b6a57f",
   "metadata": {
    "id": "D6RzIGstloOo",
    "papermill": {
     "duration": 0.004471,
     "end_time": "2025-05-23T20:29:30.750351",
     "exception": false,
     "start_time": "2025-05-23T20:29:30.745880",
     "status": "completed"
    },
    "tags": []
   },
   "source": [
    "# **◍ Step 1: Import Libraries.**"
   ]
  },
  {
   "cell_type": "code",
   "execution_count": 1,
   "id": "9c47e177",
   "metadata": {
    "execution": {
     "iopub.execute_input": "2025-05-23T20:29:30.761981Z",
     "iopub.status.busy": "2025-05-23T20:29:30.760638Z",
     "iopub.status.idle": "2025-05-23T20:29:38.222862Z",
     "shell.execute_reply": "2025-05-23T20:29:38.221872Z"
    },
    "executionInfo": {
     "elapsed": 7,
     "status": "ok",
     "timestamp": 1748028550231,
     "user": {
      "displayName": "Adnan Alaref",
      "userId": "03256264963634723986"
     },
     "user_tz": -180
    },
    "id": "zAG3GYl7km4R",
    "papermill": {
     "duration": 7.469887,
     "end_time": "2025-05-23T20:29:38.224934",
     "exception": false,
     "start_time": "2025-05-23T20:29:30.755047",
     "status": "completed"
    },
    "tags": []
   },
   "outputs": [],
   "source": [
    "import torch\n",
    "import numpy as np\n",
    "import pandas as pd\n",
    "import torch.nn as nn\n",
    "import torch.nn.functional as F\n",
    "\n",
    "import warnings\n",
    "warnings.filterwarnings(action='ignore')\n",
    "warnings.simplefilter(action='ignore' ,category=FutureWarning)"
   ]
  },
  {
   "cell_type": "markdown",
   "id": "e8fa35db",
   "metadata": {
    "id": "_pEV8nWRl08U",
    "papermill": {
     "duration": 0.00514,
     "end_time": "2025-05-23T20:29:38.235429",
     "exception": false,
     "start_time": "2025-05-23T20:29:38.230289",
     "status": "completed"
    },
    "tags": []
   },
   "source": [
    "# **◍ Step 2: Compute alpha values.**"
   ]
  },
  {
   "cell_type": "code",
   "execution_count": 2,
   "id": "96f433bd",
   "metadata": {
    "execution": {
     "iopub.execute_input": "2025-05-23T20:29:38.246984Z",
     "iopub.status.busy": "2025-05-23T20:29:38.246452Z",
     "iopub.status.idle": "2025-05-23T20:29:38.253597Z",
     "shell.execute_reply": "2025-05-23T20:29:38.252452Z"
    },
    "executionInfo": {
     "elapsed": 12,
     "status": "ok",
     "timestamp": 1748028552726,
     "user": {
      "displayName": "Adnan Alaref",
      "userId": "03256264963634723986"
     },
     "user_tz": -180
    },
    "id": "1w63s84yXxnx",
    "papermill": {
     "duration": 0.015051,
     "end_time": "2025-05-23T20:29:38.255360",
     "exception": false,
     "start_time": "2025-05-23T20:29:38.240309",
     "status": "completed"
    },
    "tags": []
   },
   "outputs": [],
   "source": [
    "def compute_alpha(labels_or_counts ,num_classes = None):\n",
    "  # If input is a tensor of labels\n",
    "  if isinstance(labels_or_counts ,torch.Tensor) and labels_or_counts .dtype == torch.long:\n",
    "    '''\n",
    "     Is the input a PyTorch Tenso?\n",
    "     Is that tensor made of integers, i.e., class indices like [0, 1, 2]?\n",
    "    '''\n",
    "    if num_classes == None:\n",
    "      num_classes = int(labels_or_counts.max().item()) +1\n",
    "\n",
    "    class_counts = torch.bincount(input = labels_or_counts ,minlength=num_classes).float()\n",
    "\n",
    "  # If input is list/array of class counts\n",
    "  else:\n",
    "    class_counts = torch.tensor(labels_or_counts ,dtype=torch.float64)\n",
    "\n",
    "\n",
    "  # Step 1: Calc inv_frq\n",
    "  inv_frq = 1.0 / class_counts\n",
    "\n",
    "  # Step 2: Normalize inv_frq\n",
    "  alpha = inv_frq / inv_frq.sum()\n",
    "\n",
    "  return alpha ,class_counts  # also return counts to test manulay"
   ]
  },
  {
   "cell_type": "markdown",
   "id": "c620f331",
   "metadata": {
    "id": "st3yAh6Cx8RC",
    "papermill": {
     "duration": 0.004638,
     "end_time": "2025-05-23T20:29:38.265028",
     "exception": false,
     "start_time": "2025-05-23T20:29:38.260390",
     "status": "completed"
    },
    "tags": []
   },
   "source": [
    "# **◍ Step 3: Compute Focal Loss.**"
   ]
  },
  {
   "cell_type": "code",
   "execution_count": 3,
   "id": "e2bb59c4",
   "metadata": {
    "execution": {
     "iopub.execute_input": "2025-05-23T20:29:38.276587Z",
     "iopub.status.busy": "2025-05-23T20:29:38.276230Z",
     "iopub.status.idle": "2025-05-23T20:29:38.284451Z",
     "shell.execute_reply": "2025-05-23T20:29:38.283108Z"
    },
    "id": "GVElCDvix1BE",
    "papermill": {
     "duration": 0.016477,
     "end_time": "2025-05-23T20:29:38.286380",
     "exception": false,
     "start_time": "2025-05-23T20:29:38.269903",
     "status": "completed"
    },
    "tags": []
   },
   "outputs": [],
   "source": [
    "class FocalLoss(nn.Module):\n",
    "  def __init__(self ,gamma= 2.0 ,alpha= None ,reduction = \"mean\"):\n",
    "    super(FocalLoss ,self).__init__()\n",
    "\n",
    "    self.gamma = gamma\n",
    "    self.alpha = alpha # Should be a list or tensor of class weights\n",
    "\n",
    "  def forward(self,inputs ,targets):\n",
    "    # inputs: raw logits, shape (batch_size, num_classes)\n",
    "    # targets: class indices, shape (batch_size,)\n",
    "    num_classes = inputs.shape[1]\n",
    "\n",
    "    # Convert logits to probabilities\n",
    "    probs = F.softmax(inputs)\n",
    "    safe_probs = torch.clamp(probs ,1e-7 ,1.0) # limit probs to prevent log(0)\n",
    "\n",
    "    # One-hot encode targets\n",
    "    y_true_one_hot = F.one_hot(targets ,num_classes=num_classes).float()\n",
    "\n",
    "    # Compute standard cross entropy\n",
    "    ce_loss = -y_true_one_hot * torch.log(safe_probs)\n",
    "\n",
    "    # Compute focal factor\n",
    "    focal_factor = ce_loss * (1 - safe_probs)**self.gamma\n",
    "\n",
    "    # Alpha weighting\n",
    "    if self.alpha is not None:\n",
    "      alpha = torch.tensor(self.alpha).to(inputs.device)\n",
    "      alpha_facotr =  alpha * y_true_one_hot\n",
    "      loss = alpha_facotr * focal_factor * ce_loss\n",
    "    else:\n",
    "      loss = focal_factor * ce_loss\n",
    "\n",
    "    if self.reduction == \"mean\":\n",
    "      return loss.mean() # Average over batch\n",
    "    elif self.reduction == \"sum\":\n",
    "      return loss.sum()\n",
    "    else:\n",
    "      return loss"
   ]
  },
  {
   "cell_type": "markdown",
   "id": "c284903b",
   "metadata": {
    "id": "mXqKPzouyTsI",
    "papermill": {
     "duration": 0.00452,
     "end_time": "2025-05-23T20:29:38.295919",
     "exception": false,
     "start_time": "2025-05-23T20:29:38.291399",
     "status": "completed"
    },
    "tags": []
   },
   "source": [
    "# **◍ Step 4: Check code.**"
   ]
  },
  {
   "cell_type": "markdown",
   "id": "53f5eed4",
   "metadata": {
    "id": "hqxFEJ8VpMYv",
    "papermill": {
     "duration": 0.004954,
     "end_time": "2025-05-23T20:29:38.305592",
     "exception": false,
     "start_time": "2025-05-23T20:29:38.300638",
     "status": "completed"
    },
    "tags": []
   },
   "source": [
    "## ✅ Get number of samples in each class."
   ]
  },
  {
   "cell_type": "code",
   "execution_count": 4,
   "id": "c2cea21a",
   "metadata": {
    "execution": {
     "iopub.execute_input": "2025-05-23T20:29:38.316425Z",
     "iopub.status.busy": "2025-05-23T20:29:38.316119Z",
     "iopub.status.idle": "2025-05-23T20:29:38.323148Z",
     "shell.execute_reply": "2025-05-23T20:29:38.322181Z"
    },
    "id": "RWuYZaSBpION",
    "papermill": {
     "duration": 0.014504,
     "end_time": "2025-05-23T20:29:38.324868",
     "exception": false,
     "start_time": "2025-05-23T20:29:38.310364",
     "status": "completed"
    },
    "tags": []
   },
   "outputs": [
    {
     "data": {
      "text/plain": [
       "'\\nimport torch\\nlabels = torch.tensor([0,1,2,3]) # Your target lables\\nnum_classes = int(labels.max().item())+1\\nclass_counts = torch.bincount(inputs = labels ,minlength=num_classes).float()  \\n# use it if we have row lables [0,1,1,2,3,3]\\n'"
      ]
     },
     "execution_count": 4,
     "metadata": {},
     "output_type": "execute_result"
    }
   ],
   "source": [
    "# In pandas\n",
    "'''\n",
    "import pandas as pd\n",
    "df = pd.read_csv(\"Your path\")\n",
    "class_counts = df[\"label\"].value_counts().sort_index().values\n",
    "'''\n",
    "\n",
    "# In torch\n",
    "'''\n",
    "import torch\n",
    "labels = torch.tensor([0,1,2,3]) # Your target lables\n",
    "num_classes = int(labels.max().item())+1\n",
    "class_counts = torch.bincount(inputs = labels ,minlength=num_classes).float()  \n",
    "# use it if we have row lables [0,1,1,2,3,3]\n",
    "'''"
   ]
  },
  {
   "cell_type": "markdown",
   "id": "209ab094",
   "metadata": {
    "id": "sqJNJyk3omqj",
    "papermill": {
     "duration": 0.004829,
     "end_time": "2025-05-23T20:29:38.334620",
     "exception": false,
     "start_time": "2025-05-23T20:29:38.329791",
     "status": "completed"
    },
    "tags": []
   },
   "source": [
    "## ✅ Example 1: From raw labels"
   ]
  },
  {
   "cell_type": "code",
   "execution_count": 5,
   "id": "e9d0d953",
   "metadata": {
    "execution": {
     "iopub.execute_input": "2025-05-23T20:29:38.345638Z",
     "iopub.status.busy": "2025-05-23T20:29:38.345247Z",
     "iopub.status.idle": "2025-05-23T20:29:38.476972Z",
     "shell.execute_reply": "2025-05-23T20:29:38.475877Z"
    },
    "executionInfo": {
     "elapsed": 23,
     "status": "ok",
     "timestamp": 1748028835957,
     "user": {
      "displayName": "Adnan Alaref",
      "userId": "03256264963634723986"
     },
     "user_tz": -180
    },
    "id": "SsTgEOs1ozv5",
    "outputId": "9bbfe258-d447-4be2-ff7d-7b1b41b1238a",
    "papermill": {
     "duration": 0.139093,
     "end_time": "2025-05-23T20:29:38.478532",
     "exception": false,
     "start_time": "2025-05-23T20:29:38.339439",
     "status": "completed"
    },
    "tags": []
   },
   "outputs": [
    {
     "name": "stdout",
     "output_type": "stream",
     "text": [
      "(tensor([0.2727, 0.5455, 0.1818]), tensor([2., 1., 3.]))\n"
     ]
    }
   ],
   "source": [
    "labels = torch.tensor([0, 0, 1, 2, 2, 2])  # 2x class 0, 1x class 1, 3x class 2\n",
    "alpha = compute_alpha(labels,num_classes=3)\n",
    "print(alpha)"
   ]
  },
  {
   "cell_type": "markdown",
   "id": "f7b316e5",
   "metadata": {
    "id": "StsLOS1woqm8",
    "papermill": {
     "duration": 0.004796,
     "end_time": "2025-05-23T20:29:38.488270",
     "exception": false,
     "start_time": "2025-05-23T20:29:38.483474",
     "status": "completed"
    },
    "tags": []
   },
   "source": [
    "## ✅ Example 2: From class counts"
   ]
  },
  {
   "cell_type": "code",
   "execution_count": 6,
   "id": "0a84bc18",
   "metadata": {
    "execution": {
     "iopub.execute_input": "2025-05-23T20:29:38.499710Z",
     "iopub.status.busy": "2025-05-23T20:29:38.498754Z",
     "iopub.status.idle": "2025-05-23T20:29:38.507957Z",
     "shell.execute_reply": "2025-05-23T20:29:38.506913Z"
    },
    "executionInfo": {
     "elapsed": 52,
     "status": "ok",
     "timestamp": 1748028850637,
     "user": {
      "displayName": "Adnan Alaref",
      "userId": "03256264963634723986"
     },
     "user_tz": -180
    },
    "id": "JHZcX9yco3iZ",
    "outputId": "dca1ce2d-1a51-4b67-9c43-3e002d6b8b86",
    "papermill": {
     "duration": 0.01659,
     "end_time": "2025-05-23T20:29:38.509700",
     "exception": false,
     "start_time": "2025-05-23T20:29:38.493110",
     "status": "completed"
    },
    "tags": []
   },
   "outputs": [
    {
     "name": "stdout",
     "output_type": "stream",
     "text": [
      "(tensor([0.0448, 0.2388, 0.7164], dtype=torch.float64), tensor([800., 150.,  50.], dtype=torch.float64))\n"
     ]
    }
   ],
   "source": [
    "class_counts = [800, 150, 50]  # class imbalance\n",
    "alpha = compute_alpha(class_counts)\n",
    "print(alpha)"
   ]
  },
  {
   "cell_type": "markdown",
   "id": "d52ce300",
   "metadata": {
    "id": "pHMboYXqu_DW",
    "papermill": {
     "duration": 0.00476,
     "end_time": "2025-05-23T20:29:38.519823",
     "exception": false,
     "start_time": "2025-05-23T20:29:38.515063",
     "status": "completed"
    },
    "tags": []
   },
   "source": [
    "## **📊 Visualize Class Imbalance.**"
   ]
  },
  {
   "cell_type": "code",
   "execution_count": 7,
   "id": "c1a68c3d",
   "metadata": {
    "execution": {
     "iopub.execute_input": "2025-05-23T20:29:38.530930Z",
     "iopub.status.busy": "2025-05-23T20:29:38.530587Z",
     "iopub.status.idle": "2025-05-23T20:29:38.817142Z",
     "shell.execute_reply": "2025-05-23T20:29:38.816124Z"
    },
    "executionInfo": {
     "elapsed": 281,
     "status": "ok",
     "timestamp": 1748030395718,
     "user": {
      "displayName": "Adnan Alaref",
      "userId": "03256264963634723986"
     },
     "user_tz": -180
    },
    "id": "AU-w0X6Ks7O4",
    "outputId": "96264363-1b33-4b27-8e46-2b1a989888cd",
    "papermill": {
     "duration": 0.294242,
     "end_time": "2025-05-23T20:29:38.819021",
     "exception": false,
     "start_time": "2025-05-23T20:29:38.524779",
     "status": "completed"
    },
    "tags": []
   },
   "outputs": [
    {
     "data": {
      "image/png": "[encoded data removed]",
      "text/plain": [
       "<Figure size 600x400 with 1 Axes>"
      ]
     },
     "metadata": {},
     "output_type": "display_data"
    }
   ],
   "source": [
    "import matplotlib.pyplot as plt\n",
    "\n",
    "# Simulate example class counts\n",
    "alpha, class_counts = compute_alpha([800, 150, 50])\n",
    "classes = [f'Class {i}' for i in range(len(class_counts))]\n",
    "\n",
    "fig ,ax = plt.subplots(figsize = (6,4))\n",
    "\n",
    "ax.bar(classes, class_counts.numpy(), color='blue')\n",
    "plt.title(\"📊 Class Distribution\")\n",
    "plt.ylabel('Number of Samples')\n",
    "plt.xlabel('Classes')\n",
    "fig.text(0.5 ,0.01 ,\"Source: Show Classes Distribution\",ha = \"center\",fontsize=8,color = \"black\")\n",
    "\n",
    "plt.grid(axis='y', linestyle='--', alpha=0.7)\n",
    "plt.tight_layout()\n",
    "plt.show()"
   ]
  },
  {
   "cell_type": "markdown",
   "id": "9e473223",
   "metadata": {
    "id": "nFshWouAynav",
    "papermill": {
     "duration": 0.005537,
     "end_time": "2025-05-23T20:29:38.830520",
     "exception": false,
     "start_time": "2025-05-23T20:29:38.824983",
     "status": "completed"
    },
    "tags": []
   },
   "source": [
    "## **📈 Visualize Modulating Factor Behavior**"
   ]
  },
  {
   "cell_type": "code",
   "execution_count": 8,
   "id": "0971dac1",
   "metadata": {
    "execution": {
     "iopub.execute_input": "2025-05-23T20:29:38.843242Z",
     "iopub.status.busy": "2025-05-23T20:29:38.842905Z",
     "iopub.status.idle": "2025-05-23T20:29:39.098154Z",
     "shell.execute_reply": "2025-05-23T20:29:39.097079Z"
    },
    "executionInfo": {
     "elapsed": 433,
     "status": "ok",
     "timestamp": 1748030530488,
     "user": {
      "displayName": "Adnan Alaref",
      "userId": "03256264963634723986"
     },
     "user_tz": -180
    },
    "id": "1dn5ZhS7vO1h",
    "outputId": "5c41c821-7598-4936-e71e-3cee8bd9fe81",
    "papermill": {
     "duration": 0.264182,
     "end_time": "2025-05-23T20:29:39.100150",
     "exception": false,
     "start_time": "2025-05-23T20:29:38.835968",
     "status": "completed"
    },
    "tags": []
   },
   "outputs": [
    {
     "data": {
      "image/png": "[encoded data removed]",
      "text/plain": [
       "<Figure size 600x400 with 1 Axes>"
      ]
     },
     "metadata": {},
     "output_type": "display_data"
    }
   ],
   "source": [
    "import numpy as np\n",
    "\n",
    "p_t = np.linspace(0, 1, 100)\n",
    "plt.figure(figsize=(6, 4))\n",
    "for gamma in [0.5, 1, 2, 5]:\n",
    "    plt.plot(p_t, (1 - p_t) ** gamma, label=f'γ = {gamma}')\n",
    "\n",
    "plt.title('📈 Modulating Factor (1 - pₜ)^γ')\n",
    "plt.xlabel('pₜ (confidence in true class)')\n",
    "plt.ylabel('Weight')\n",
    "plt.legend()\n",
    "plt.grid(True)\n",
    "plt.tight_layout()\n",
    "plt.show()"
   ]
  },
  {
   "cell_type": "markdown",
   "id": "365b1355",
   "metadata": {
    "id": "Z43M9hjKnitb",
    "papermill": {
     "duration": 0.006736,
     "end_time": "2025-05-23T20:29:39.114620",
     "exception": false,
     "start_time": "2025-05-23T20:29:39.107884",
     "status": "completed"
    },
    "tags": []
   },
   "source": [
    "# **◍ Step 5: Test code.**"
   ]
  },
  {
   "cell_type": "code",
   "execution_count": 9,
   "id": "86b6cc64",
   "metadata": {
    "execution": {
     "iopub.execute_input": "2025-05-23T20:29:39.129623Z",
     "iopub.status.busy": "2025-05-23T20:29:39.129249Z",
     "iopub.status.idle": "2025-05-23T20:29:39.136811Z",
     "shell.execute_reply": "2025-05-23T20:29:39.135969Z"
    },
    "executionInfo": {
     "elapsed": 18,
     "status": "ok",
     "timestamp": 1748028560068,
     "user": {
      "displayName": "Adnan Alaref",
      "userId": "03256264963634723986"
     },
     "user_tz": -180
    },
    "id": "aRi_O3EJnhej",
    "outputId": "46cc764c-1546-42f3-88e6-7a9acf548aa2",
    "papermill": {
     "duration": 0.017005,
     "end_time": "2025-05-23T20:29:39.138363",
     "exception": false,
     "start_time": "2025-05-23T20:29:39.121358",
     "status": "completed"
    },
    "tags": []
   },
   "outputs": [
    {
     "data": {
      "text/plain": [
       "array([0, 1, 1, 0, 1, 2, 4, 3, 0, 1, 0, 4, 1, 3, 0, 0, 3, 2, 0, 1, 1, 3,\n",
       "       3, 0, 0, 0, 0, 3, 0, 0, 0, 0, 1, 3, 3, 2, 1, 0, 2, 0, 0, 0, 2, 0,\n",
       "       0, 3, 1, 3, 1, 3, 0, 0, 2, 1, 1, 2, 0, 1, 0, 1, 1, 3, 2, 0, 0, 3,\n",
       "       0, 2, 0, 0, 4, 0, 2, 0, 3, 0, 1, 0, 0, 0, 1, 0, 0, 1, 0, 0, 0, 0,\n",
       "       0, 4, 4, 1, 3, 0, 4, 0, 3, 0, 1, 0])"
      ]
     },
     "execution_count": 9,
     "metadata": {},
     "output_type": "execute_result"
    }
   ],
   "source": [
    "'''\n",
    "size=100: generate 100 labels.\n",
    "p=[0.5, 0.2, 0.1, 0.1, 0.1]: set the probability of each class.\n",
    "Class 0: 50% → expected ~50 samples\n",
    "Class 1: 20% → ~20 samples\n",
    "Class 2, 3, 4: 10% each → ~10 samples each\n",
    "'''\n",
    "y_train = np.random.choice([0, 1, 2, 3, 4], size=100, p=[0.5, 0.2, 0.1, 0.1, 0.1])  # imbalanced labels\n",
    "y_train"
   ]
  },
  {
   "cell_type": "code",
   "execution_count": 10,
   "id": "d9d5c3fc",
   "metadata": {
    "execution": {
     "iopub.execute_input": "2025-05-23T20:29:39.153737Z",
     "iopub.status.busy": "2025-05-23T20:29:39.153418Z",
     "iopub.status.idle": "2025-05-23T20:29:39.164166Z",
     "shell.execute_reply": "2025-05-23T20:29:39.163177Z"
    },
    "executionInfo": {
     "elapsed": 153,
     "status": "ok",
     "timestamp": 1748028563282,
     "user": {
      "displayName": "Adnan Alaref",
      "userId": "03256264963634723986"
     },
     "user_tz": -180
    },
    "id": "idyAtdvFnnev",
    "outputId": "ece2ee17-7ae6-4802-a17d-01077eafc9fe",
    "papermill": {
     "duration": 0.020683,
     "end_time": "2025-05-23T20:29:39.166125",
     "exception": false,
     "start_time": "2025-05-23T20:29:39.145442",
     "status": "completed"
    },
    "tags": []
   },
   "outputs": [
    {
     "data": {
      "text/plain": [
       "(tensor([0.0535, 0.1196, 0.2512, 0.1570, 0.4187]),\n",
       " FocalLoss(),\n",
       " tensor([47., 21., 10., 16.,  6.]))"
      ]
     },
     "execution_count": 10,
     "metadata": {},
     "output_type": "execute_result"
    }
   ],
   "source": [
    "alpha,counts = compute_alpha(torch.tensor(y_train), num_classes=5)\n",
    "criterion = FocalLoss(gamma=2.0, alpha=alpha)\n",
    "alpha ,criterion   ,counts #"
   ]
  },
  {
   "cell_type": "markdown",
   "id": "92130a96",
   "metadata": {
    "id": "0WegDheOvw2z",
    "papermill": {
     "duration": 0.006625,
     "end_time": "2025-05-23T20:29:39.179864",
     "exception": false,
     "start_time": "2025-05-23T20:29:39.173239",
     "status": "completed"
    },
    "tags": []
   },
   "source": [
    "# ✅ Conclusion\n",
    "In real-world machine learning tasks—especially classification problems with imbalanced data—traditional loss functions like Categorical Cross Entropy can fall short. They tend to bias the model toward majority classes, leading to poor generalization on underrepresented categories.\n",
    "\n",
    "To address this, Focal Loss introduces a dynamic scaling factor that down-weights easy examples and focuses the learning on hard, misclassified examples. When combined with class weights (α), it becomes a powerful tool for handling severe class imbalance.\n",
    "\n",
    "In this notebook, we:\n",
    "\n",
    "Broke down the intuition and mathematics behind Categorical Focal Loss step-by-step\n",
    "\n",
    "Visualized how modulating factors behave under different conditions\n",
    "\n",
    "Implemented a clean and reusable PyTorch version of Focal Loss\n",
    "\n",
    "Explored how class imbalance can be quantified and corrected\n",
    "\n",
    "By using Focal Loss, especially in tasks like medical diagnosis, fraud detection, or rare-event classification, practitioners can build models that are not just accurate—but fair and robust across all classes."
   ]
  },
  {
   "cell_type": "markdown",
   "id": "270f4d0f",
   "metadata": {
    "id": "VnHITdG-zV27",
    "papermill": {
     "duration": 0.006882,
     "end_time": "2025-05-23T20:29:39.193642",
     "exception": false,
     "start_time": "2025-05-23T20:29:39.186760",
     "status": "completed"
    },
    "tags": []
   },
   "source": [
    "<a id=\"Import\"></a>\n",
    "<p style=\"background-color: #000000; font-family: 'Verdana', sans-serif; color: #FFFFFF; font-size: 160%; text-align: center; border-radius: 25px; padding: 12px 20px; margin-top: 20px; border: 2px solid transparent; background-image: linear-gradient(black, black), linear-gradient(45deg, #FF00FF, #00FFFF, #FFFF00, #FF4500); background-origin: border-box; background-clip: content-box, border-box; box-shadow: 0px 4px 20px rgba(255, 105, 180, 0.8);\">\n",
    "   Thanks & Upvote ❤️</p>"
   ]
  }
 ],
 "metadata": {
  "colab": {
   "authorship_tag": "ABX9TyOZ2ZomXWVvQrzxxsSwT6qU",
   "provenance": [],
   "toc_visible": true
  },
  "kaggle": {
   "accelerator": "none",
   "dataSources": [],
   "dockerImageVersionId": 31040,
   "isGpuEnabled": false,
   "isInternetEnabled": true,
   "language": "python",
   "sourceType": "notebook"
  },
  "kernelspec": {
   "display_name": "Python 3",
   "language": "python",
   "name": "python3"
  },
  "language_info": {
   "codemirror_mode": {
    "name": "ipython",
    "version": 3
   },
   "file_extension": ".py",
   "mimetype": "text/x-python",
   "name": "python",
   "nbconvert_exporter": "python",
   "pygments_lexer": "ipython3",
   "version": "3.11.11"
  },
  "papermill": {
   "default_parameters": {},
   "duration": 16.207279,
   "end_time": "2025-05-23T20:29:41.865072",
   "environment_variables": {},
   "exception": null,
   "input_path": "__notebook__.ipynb",
   "output_path": "__notebook__.ipynb",
   "parameters": {},
   "start_time": "2025-05-23T20:29:25.657793",
   "version": "2.6.0"
  }
 },
 "nbformat": 4,
 "nbformat_minor": 5
}
