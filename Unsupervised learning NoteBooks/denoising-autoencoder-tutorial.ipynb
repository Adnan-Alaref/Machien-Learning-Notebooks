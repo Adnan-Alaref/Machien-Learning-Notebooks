{
 "cells": [
  {
   "cell_type": "markdown",
   "id": "931b7b1c",
   "metadata": {
    "id": "gayePFPP3H9i",
    "papermill": {
     "duration": 0.003843,
     "end_time": "2025-06-03T13:09:54.736365",
     "exception": false,
     "start_time": "2025-06-03T13:09:54.732522",
     "status": "completed"
    },
    "tags": []
   },
   "source": [
    "<div style=\"background-color: black; color: white; padding: 10px;text-align: center;\">\n",
    "  <strong>Date Published:</strong> June 03, 2025 <strong>Author:</strong> Adnan Alaref\n",
    "</div>"
   ]
  },
  {
   "cell_type": "markdown",
   "id": "db8570e0",
   "metadata": {
    "papermill": {
     "duration": 0.002778,
     "end_time": "2025-06-03T13:09:54.742509",
     "exception": false,
     "start_time": "2025-06-03T13:09:54.739731",
     "status": "completed"
    },
    "tags": []
   },
   "source": [
    "# 🧼 Denoising Autoencoder (DAE)\n",
    "\n",
    ">A **Denoising Autoencoder (DAE)** is a type of autoencoder neural network designed not only to compress and reconstruct input data, but also to learn **robust representations** by removing noise from corrupted input data. It is an **unsupervised learning model** introduced by *Vincent et al. (2008)* to improve the ability of autoencoders to learn meaningful latent structures.\n",
    "\n",
    "---\n",
    "\n",
    "## 🧠 Key Idea\n",
    "\n",
    ">DAEs are trained to recover the original clean input **`x`** from a corrupted version **`x̃`**.  \n",
    "This forces the network to learn stable, noise-invariant features, instead of simply memorizing the input.\n",
    "\n",
    "**Formal Pipeline:**\n",
    "\n",
    "$$\n",
    "x → (corruption) → x̃ → Encoder → h → Decoder → x̂ ≈ x\n",
    "$$\n",
    "\n",
    "Where:\n",
    "\n",
    "- `x`: Original input  \n",
    "- `x̃`: Noisy version of input  \n",
    "- `h`: Latent (compressed) representation  \n",
    "- `x̂`: Reconstructed (cleaned) output\n",
    "\n",
    "---\n",
    "\n",
    "## 🧪 Corruption Techniques \n",
    "\n",
    "> We Implement each techniqe bleow.\n",
    "The corruption step is *intentional* and helps the model generalize:\n",
    "\n",
    "- **Gaussian Noise**  \n",
    "  Add small random noise:  \n",
    "  $$\n",
    "  x̃ = x + ϵ, where ϵ ∼ 𝒩(0, σ^2)\n",
    "  $$\n",
    "\n",
    "- **Masking Noise**  \n",
    "  Randomly set some input values to 0.\n",
    "\n",
    "- **Salt-and-Pepper Noise**  \n",
    "  Randomly set some pixel values to 1 or 0 (used in image denoising).\n",
    "\n",
    "---\n",
    "\n",
    "## 🏗️ Architecture\n",
    "\n",
    "A DAE consists of two main parts:\n",
    "\n",
    "### 1. Encoder\n",
    "Maps the noisy input `x̃` to a latent space `h`:\n",
    "\n",
    "$$\n",
    "h = f_θ(x̃) = σ(Wx̃ + b)\n",
    "$$\n",
    "\n",
    "### 2. Decoder\n",
    "Reconstructs the original clean input from `h`:\n",
    "\n",
    "$$\n",
    "x̂ = g_θ(h) = σ(W' h + b')\n",
    "$$\n",
    "\n",
    "Parameters `θ = {W, b, W', b'}` are optimized to minimize reconstruction error.\n",
    "\n",
    "---\n",
    "\n",
    "## 📉 Loss Function\n",
    "\n",
    "Two common loss functions depending on the data type:\n",
    "\n",
    "- **Mean Squared Error (MSE)**  \n",
    "  $$\n",
    "  L(x, x̂) = ∥x - x̂∥²\n",
    "  $$\n",
    "\n",
    "- **Binary Cross-Entropy (BCE)** (for binary or [0,1] inputs)  \n",
    "  $$\n",
    "  L(x, x̂) = - ∑ [x log(x̂) + (1 - x) log(1 - x̂)]\n",
    "  $$\n",
    "\n",
    "---\n",
    "\n",
    "## ✅ Why Use Denoising Autoencoders?\n",
    "\n",
    "- **Feature robustness**: Learns to ignore irrelevant noise and extract meaningful patterns.\n",
    "- **Improved generalization**: Avoids overfitting by learning noise-invariant features.\n",
    "- **Data denoising**: Cleans corrupted inputs (e.g., blurry or noisy images).\n",
    "- **Pretraining**: Can initialize deep networks (greedy layer-wise training).\n",
    "\n",
    "---\n",
    "\n",
    "## 📦 Example Use Cases\n",
    "\n",
    "- Image denoising (removing blur, scratches, artifacts)\n",
    "- Text denoising (e.g., OCR error correction)\n",
    "- Speech enhancement (cleaning noisy audio)\n",
    "- Pretraining layers for deep neural networks\n",
    "\n",
    "---\n",
    ">Let's Code..."
   ]
  },
  {
   "cell_type": "markdown",
   "id": "f7acf064",
   "metadata": {
    "id": "VsS6twGPWr2H",
    "papermill": {
     "duration": 0.00274,
     "end_time": "2025-06-03T13:09:54.748242",
     "exception": false,
     "start_time": "2025-06-03T13:09:54.745502",
     "status": "completed"
    },
    "tags": []
   },
   "source": [
    "# **◍ Step 1: Import Libraries .:.**"
   ]
  },
  {
   "cell_type": "code",
   "execution_count": 1,
   "id": "01574e44",
   "metadata": {
    "execution": {
     "iopub.execute_input": "2025-06-03T13:09:54.756022Z",
     "iopub.status.busy": "2025-06-03T13:09:54.755303Z",
     "iopub.status.idle": "2025-06-03T13:10:03.517816Z",
     "shell.execute_reply": "2025-06-03T13:10:03.517216Z"
    },
    "executionInfo": {
     "elapsed": 17658,
     "status": "ok",
     "timestamp": 1748916144953,
     "user": {
      "displayName": "Adnan Alaref",
      "userId": "03256264963634723986"
     },
     "user_tz": -180
    },
    "id": "EnMAncpPWZz7",
    "papermill": {
     "duration": 8.767928,
     "end_time": "2025-06-03T13:10:03.519137",
     "exception": false,
     "start_time": "2025-06-03T13:09:54.751209",
     "status": "completed"
    },
    "tags": []
   },
   "outputs": [],
   "source": [
    "import torch\n",
    "import torch.nn as nn\n",
    "import torch.optim as optim\n",
    "import matplotlib.pyplot as plt\n",
    "from torch.utils.data import DataLoader\n",
    "from torchvision import datasets, transforms\n",
    "\n",
    "import warnings\n",
    "warnings.filterwarnings(action='ignore')\n",
    "warnings.simplefilter(action='ignore' ,category=FutureWarning)"
   ]
  },
  {
   "cell_type": "markdown",
   "id": "5caff56f",
   "metadata": {
    "id": "XEytN_IsoEjL",
    "papermill": {
     "duration": 0.002557,
     "end_time": "2025-06-03T13:10:03.524655",
     "exception": false,
     "start_time": "2025-06-03T13:10:03.522098",
     "status": "completed"
    },
    "tags": []
   },
   "source": [
    "# **◍ Step 2: Add Corruption (three wayes to do that) .:.**"
   ]
  },
  {
   "cell_type": "markdown",
   "id": "136abf19",
   "metadata": {
    "id": "il3mZ27CoMrC",
    "papermill": {
     "duration": 0.002348,
     "end_time": "2025-06-03T13:10:03.529547",
     "exception": false,
     "start_time": "2025-06-03T13:10:03.527199",
     "status": "completed"
    },
    "tags": []
   },
   "source": [
    "### **The corruption step is intentional and can be applied in various ways, such as:**\n",
    "\n",
    "- **Gaussian noise**: Add small random noise :  xˇ = x + ϵ , where \\(ϵ ∼ 𝑵(0, σ^2)\n",
    "\n",
    "- **Masking noise**: Randomly set some input values to 0.\n",
    "\n",
    "- **Salt-and-pepper noise**: Randomly set values to 1 or 0 (used in image denoising)."
   ]
  },
  {
   "cell_type": "code",
   "execution_count": 2,
   "id": "03a7ffec",
   "metadata": {
    "execution": {
     "iopub.execute_input": "2025-06-03T13:10:03.535614Z",
     "iopub.status.busy": "2025-06-03T13:10:03.535282Z",
     "iopub.status.idle": "2025-06-03T13:10:03.566218Z",
     "shell.execute_reply": "2025-06-03T13:10:03.565406Z"
    },
    "executionInfo": {
     "elapsed": 38,
     "status": "ok",
     "timestamp": 1748916148503,
     "user": {
      "displayName": "Adnan Alaref",
      "userId": "03256264963634723986"
     },
     "user_tz": -180
    },
    "id": "SvDsZwMLn9HJ",
    "outputId": "54caef67-97d8-4893-9b93-caa2c672fb0f",
    "papermill": {
     "duration": 0.03529,
     "end_time": "2025-06-03T13:10:03.567295",
     "exception": false,
     "start_time": "2025-06-03T13:10:03.532005",
     "status": "completed"
    },
    "tags": []
   },
   "outputs": [
    {
     "name": "stdout",
     "output_type": "stream",
     "text": [
      "Tensor before applay any noise: tensor([[0.2000, 0.5000, 0.9000, 0.3000]])\n",
      "Gaussian Noise: tensor([[0.1928, 0.3559, 0.9731, 0.4331]])\n",
      "Mask  tensor([[1., 0., 1., 0.]])\n",
      "Masking Noise: tensor([[0.2000, 0.0000, 0.9000, 0.0000]])\n",
      "Salt-and-Pepper Noise: tensor([[0.2000, 0.5000, 0.9000, 0.3000]])\n"
     ]
    }
   ],
   "source": [
    "# Original tensor with 4 values\n",
    "x = torch.tensor([[0.2, 0.5, 0.9, 0.3]])\n",
    "print(f\"Tensor before applay any noise: {x}\")\n",
    "\n",
    "#-----------------------------\n",
    "# 1. Gaussian Noise\n",
    "#-----------------------------\n",
    "'''\n",
    "👉 Add small random Gaussian noise to each element in the tensor\n",
    "torch.randn_like(x) generates random numbers from N(0,1) with same shape as x\n",
    "Multiply by 0.1 to scale noise to N(0, 0.1^2)\n",
    "'''\n",
    "noise_gauss = torch.randn_like(x) * 0.1 # ε ~ N(0, 0.01)\n",
    "x_gauss_noisy = x + noise_gauss         # Add noise element-wise\n",
    "print(f\"Gaussian Noise: {x_gauss_noisy}\")\n",
    "\n",
    "#-----------------------------\n",
    "# 2. Masking Noise\n",
    "#-----------------------------\n",
    "'''\n",
    "👉 Randomly zero out some elements of the tensor (simulate missing data)\n",
    "torch.rand_like(x) generates uniform random numbers between 0 and 1\n",
    "Create a mask where ~70% of values are kept (mask=1), and ~30% are zeroed out (mask=0)\n",
    "'''\n",
    "mask = (torch.rand_like(x) > 0.3).float()\n",
    "print(\"Mask \", mask)\n",
    "x_mask_noisy = x * mask # Element-wise multiply to zero out masked elements\n",
    "print(f\"Masking Noise: {x_mask_noisy}\")\n",
    "\n",
    "\n",
    "#-----------------------------\n",
    "# 3. Salt-and-Pepper Noise\n",
    "#-----------------------------\n",
    "# 👉 Randomly replace some elements by 0 (pepper) or 1 (salt)\n",
    "rand = torch.rand_like(x)                  # Uniform random values [0,1]\n",
    "x_salt_pepper = x.clone()                  # Create a copy to avoid modifying original tensor\n",
    "x_salt_pepper[rand < 0.05] = 0.0           # Set ~5% of values to 0 (pepper noise)\n",
    "x_salt_pepper[rand > 0.95] = 1.0           # Set ~5% of values to 1 (salt noise)\n",
    "print(f\"Salt-and-Pepper Noise: {x_salt_pepper}\")"
   ]
  },
  {
   "cell_type": "markdown",
   "id": "15f5320b",
   "metadata": {
    "id": "rx04ihGyV_tS",
    "papermill": {
     "duration": 0.002502,
     "end_time": "2025-06-03T13:10:03.572495",
     "exception": false,
     "start_time": "2025-06-03T13:10:03.569993",
     "status": "completed"
    },
    "tags": []
   },
   "source": [
    "# **◍ Step 3: Denoising AutoEncoder Simple Implemintaion .:.**"
   ]
  },
  {
   "cell_type": "code",
   "execution_count": 3,
   "id": "00b8737e",
   "metadata": {
    "execution": {
     "iopub.execute_input": "2025-06-03T13:10:03.578408Z",
     "iopub.status.busy": "2025-06-03T13:10:03.578065Z",
     "iopub.status.idle": "2025-06-03T13:10:03.582542Z",
     "shell.execute_reply": "2025-06-03T13:10:03.581891Z"
    },
    "id": "bTuNw5HpV_MO",
    "papermill": {
     "duration": 0.008665,
     "end_time": "2025-06-03T13:10:03.583667",
     "exception": false,
     "start_time": "2025-06-03T13:10:03.575002",
     "status": "completed"
    },
    "tags": []
   },
   "outputs": [],
   "source": [
    "class dnoiseautoencoder(nn.Module):\n",
    "  def __init__(self,input_dim,hidden_dim):\n",
    "    super(dnoiseautoencoder,self).__init__()\n",
    "\n",
    "    # Setup encoder\n",
    "    self.encoder = nn.Sequential(\n",
    "        nn.Linear(input_dim ,hidden_dim),\n",
    "        nn.ReLU()\n",
    "        ## add rest layers\n",
    "    )\n",
    "\n",
    "    # Setup decoder\n",
    "    self.decoder = nn.Sequential(\n",
    "        nn.Linear(hidden_dim ,input_dim),\n",
    "        ## add rest layers\n",
    "        nn.Sigmoid()\n",
    "    )\n",
    "\n",
    "    # Setup forward\n",
    "    def forward(self,x_noisy):\n",
    "      encoded = self.encoder(x_noisy)\n",
    "      decoded = self.decoder(encoded)\n",
    "      return decoded"
   ]
  },
  {
   "cell_type": "markdown",
   "id": "4c103547",
   "metadata": {
    "id": "ZYdCAC_6V41j",
    "papermill": {
     "duration": 0.002423,
     "end_time": "2025-06-03T13:10:03.588679",
     "exception": false,
     "start_time": "2025-06-03T13:10:03.586256",
     "status": "completed"
    },
    "tags": []
   },
   "source": [
    "# **◍ Step 4: Full Example For Using Denoising Autoencoder .:.**"
   ]
  },
  {
   "cell_type": "code",
   "execution_count": 4,
   "id": "04e08db1",
   "metadata": {
    "execution": {
     "iopub.execute_input": "2025-06-03T13:10:03.594943Z",
     "iopub.status.busy": "2025-06-03T13:10:03.594738Z",
     "iopub.status.idle": "2025-06-03T14:09:06.338167Z",
     "shell.execute_reply": "2025-06-03T14:09:06.337374Z"
    },
    "executionInfo": {
     "elapsed": 4090676,
     "status": "ok",
     "timestamp": 1748920423236,
     "user": {
      "displayName": "Adnan Alaref",
      "userId": "03256264963634723986"
     },
     "user_tz": -180
    },
    "id": "aSchjqUYWSnC",
    "outputId": "84b18b56-c0b0-457f-fdf0-01ca9d51d6f0",
    "papermill": {
     "duration": 3542.751111,
     "end_time": "2025-06-03T14:09:06.342502",
     "exception": false,
     "start_time": "2025-06-03T13:10:03.591391",
     "status": "completed"
    },
    "tags": []
   },
   "outputs": [
    {
     "name": "stderr",
     "output_type": "stream",
     "text": [
      "100%|██████████| 9.91M/9.91M [00:00<00:00, 17.8MB/s]\n",
      "100%|██████████| 28.9k/28.9k [00:00<00:00, 483kB/s]\n",
      "100%|██████████| 1.65M/1.65M [00:00<00:00, 4.42MB/s]\n",
      "100%|██████████| 4.54k/4.54k [00:00<00:00, 7.80MB/s]\n"
     ]
    },
    {
     "name": "stdout",
     "output_type": "stream",
     "text": [
      "Epoch [1/10] - Train Loss: 0.0662 - Test Loss: 0.0485\n",
      "Epoch [2/10] - Train Loss: 0.0379 - Test Loss: 0.0322\n",
      "Epoch [3/10] - Train Loss: 0.0299 - Test Loss: 0.0278\n",
      "Epoch [4/10] - Train Loss: 0.0268 - Test Loss: 0.0252\n",
      "Epoch [5/10] - Train Loss: 0.0246 - Test Loss: 0.0234\n",
      "Epoch [6/10] - Train Loss: 0.0227 - Test Loss: 0.0214\n",
      "Epoch [7/10] - Train Loss: 0.0213 - Test Loss: 0.0201\n",
      "Epoch [8/10] - Train Loss: 0.0199 - Test Loss: 0.0190\n",
      "Epoch [9/10] - Train Loss: 0.0190 - Test Loss: 0.0181\n",
      "Epoch [10/10] - Train Loss: 0.0184 - Test Loss: 0.0176\n"
     ]
    }
   ],
   "source": [
    "# -------------------------------------\n",
    "# 1. Hyperparameters\n",
    "# -------------------------------------\n",
    "Train_BATCH_SIZE = 128\n",
    "Test_BATCH_SIZE = 128\n",
    "NOISE_STD = 0.3\n",
    "EPOCHS = 10\n",
    "LR = 1e-3\n",
    "\n",
    "\n",
    "# -------------------------------------\n",
    "# 2. Data Preparation (MNIST)\n",
    "# -------------------------------------\n",
    "transform = transforms.Compose([\n",
    "        transforms.ToTensor(),# converts to [0, 1]\n",
    "])\n",
    "train_dataset = datasets.MNIST(root = './data', train=True, download=True, transform = transform)\n",
    "test_dataset = datasets.MNIST(root = './data', train =False, download  =True,transform = transform)\n",
    "\n",
    "train_loader = DataLoader(train_dataset, batch_size=Train_BATCH_SIZE, shuffle=True)\n",
    "test_loader = DataLoader(test_dataset, batch_size=Test_BATCH_SIZE, shuffle=False)\n",
    "\n",
    "# -------------------------------------\n",
    "# 3. Denoising Autoencoder Model\n",
    "# -------------------------------------\n",
    "class DnoiseAutoencoder(nn.Module):\n",
    "  def __init__(self):\n",
    "    super(DnoiseAutoencoder,self).__init__()\n",
    "    # Input (784) → Hidden (128) → Hidden (64) → Latent (32) → Hidden (64) → Hidden (128) → Output (784)\n",
    "    # Setup encoder\n",
    "    self.encoder = nn.Sequential(\n",
    "        nn.Linear(28*28,128),\n",
    "        nn.ReLU(),\n",
    "        nn.Linear(128,64),\n",
    "        nn.ReLU(),\n",
    "        nn.Linear(64,32),\n",
    "        nn.ReLU()\n",
    "    )\n",
    "    # Setup Decoder\n",
    "    self.decoder = nn.Sequential(\n",
    "        nn.Linear(32,64),\n",
    "        nn.ReLU(),\n",
    "        nn.Linear(64,128),\n",
    "        nn.ReLU(),\n",
    "        nn.Linear(128,28*28),\n",
    "        nn.Sigmoid() # because output should be in [0, 1]\n",
    "    )\n",
    "  # Forward function\n",
    "  def forward(self, x_noisy):\n",
    "    encoded = self.encoder(x_noisy)\n",
    "    decoded = self.decoder(encoded)\n",
    "    return decoded\n",
    "\n",
    "\n",
    "# -------------------------------------\n",
    "# 4. Add Gaussian Noise Function\n",
    "# -------------------------------------\n",
    "def add_gussian_noise(x, std):\n",
    "  noise = torch.randn_like(x) * std\n",
    "  x_noisy = x + noise\n",
    "  return x_noisy.clamp(0,1) # Keep values in [0, 1]\n",
    "\n",
    "\n",
    "# -------------------------------------\n",
    "# 5. Setup Loss and Optimizer\n",
    "# -------------------------------------\n",
    "device = torch.device(\"cuda\" if torch.cuda.is_available() else \"cpu\")\n",
    "DAE_Model = DnoiseAutoencoder().to(device)\n",
    "criterion = nn.MSELoss()\n",
    "optimizer = optim.Adam(params=DAE_Model.parameters(), lr=LR)\n",
    "train_losses = []\n",
    "test_losses = []\n",
    "'''\n",
    "Note:why using nn.MSELoss() not nn.BCELoss()\n",
    "The output is not a label, it’s a vector of real-valued pixels like:\n",
    "        input:      [0.2, 0.9, 0.1, 0.7]  ← original clean image\n",
    "        prediction: [0.18, 0.85, 0.15, 0.68]  ← model tries to match this\n",
    "'''\n",
    "\n",
    "\n",
    "# -------------------------------------\n",
    "# 6. Training Loop\n",
    "# -------------------------------------\n",
    "for epoch in range(EPOCHS):\n",
    "  # Set Model In Traing Mode\n",
    "  DAE_Model.train()\n",
    "  total_train_loss = 0\n",
    "\n",
    "  for images,_ in train_loader: # images = images.view(BATCH_SIZE, 784) -1 == 1 × 28 × 28 = 784\n",
    "    images = images.view(images.shape[0] ,-1).to(device) # Flatten: [B, 784], Because a linear autoencoder takes 1D input\n",
    "    noise_images = add_gussian_noise(images, NOISE_STD)\n",
    "\n",
    "    # 1- Forward pass\n",
    "    model_outputs = DAE_Model(noise_images)\n",
    "\n",
    "    # 2- Claculate the loss (target ,ground_truth)\n",
    "    train_loss = criterion(model_outputs, images) # Compare with original clean images\n",
    "\n",
    "    # 3- Optimizer zero_grad\n",
    "    optimizer.zero_grad()\n",
    "\n",
    "    # 4- Backpropagation Loss backword\n",
    "    train_loss.backward()\n",
    "\n",
    "    # 5- Optimizer step(gradent descent)\n",
    "    optimizer.step()\n",
    "    total_train_loss += train_loss.item()\n",
    "\n",
    "    # --- EVALUATE ON TEST SET ---\n",
    "    # Set Model In Testing Mode\n",
    "    DAE_Model.eval()\n",
    "    total_test_loss = 0\n",
    "    with torch.inference_mode():\n",
    "      for images,_ in test_loader:\n",
    "        test_images = images.view(images.shape[0] ,-1).to(device) # Flatten: [B, 784], Because a linear autoencoder takes 1D input\n",
    "        noise_test_images = add_gussian_noise(test_images, NOISE_STD)\n",
    "\n",
    "        # 1- Forward pass\n",
    "        test_outputs = DAE_Model(noise_test_images)\n",
    "\n",
    "        # 2- Clac Loss\n",
    "        test_loss = criterion(test_outputs ,test_images)\n",
    "        total_test_loss +=  test_loss.item()\n",
    "\n",
    "  # Save all losses in train,test\n",
    "  train_losses.append(total_train_loss)\n",
    "  test_losses.append(total_test_loss)\n",
    "\n",
    "  # Show resultes per epoch\n",
    "  avg_train_loss = total_train_loss / len(train_loader)\n",
    "  avg_test_loss = total_test_loss / len(test_loader)\n",
    "  print(f\"Epoch [{epoch+1}/{EPOCHS}] - Train Loss: {avg_train_loss:.4f} - Test Loss: {avg_test_loss:.4f}\")"
   ]
  },
  {
   "cell_type": "markdown",
   "id": "d21fd8e3",
   "metadata": {
    "id": "2EFuK4d8xs7c",
    "papermill": {
     "duration": 0.003478,
     "end_time": "2025-06-03T14:09:06.349930",
     "exception": false,
     "start_time": "2025-06-03T14:09:06.346452",
     "status": "completed"
    },
    "tags": []
   },
   "source": [
    "# **◍ Step 5: Testing and visualization .:.**"
   ]
  },
  {
   "cell_type": "code",
   "execution_count": 5,
   "id": "068497bd",
   "metadata": {
    "execution": {
     "iopub.execute_input": "2025-06-03T14:09:06.359850Z",
     "iopub.status.busy": "2025-06-03T14:09:06.359176Z",
     "iopub.status.idle": "2025-06-03T14:09:07.203813Z",
     "shell.execute_reply": "2025-06-03T14:09:07.203065Z"
    },
    "executionInfo": {
     "elapsed": 500,
     "status": "ok",
     "timestamp": 1748921706140,
     "user": {
      "displayName": "Adnan Alaref",
      "userId": "03256264963634723986"
     },
     "user_tz": -180
    },
    "id": "wztUOiobm-Fe",
    "outputId": "c7c112ef-6dae-4b46-cf34-0760ce8a1388",
    "papermill": {
     "duration": 0.850565,
     "end_time": "2025-06-03T14:09:07.205192",
     "exception": false,
     "start_time": "2025-06-03T14:09:06.354627",
     "status": "completed"
    },
    "tags": []
   },
   "outputs": [
    {
     "data": {
      "image/png": "[encoded data removed]",
      "text/plain": [
       "<Figure size 1200x400 with 30 Axes>"
      ]
     },
     "metadata": {},
     "output_type": "display_data"
    }
   ],
   "source": [
    "# -------------------------------------\n",
    "# 7. Testing and visualization\n",
    "# -------------------------------------\n",
    "def show_images(orignal, noise, reconstructd, num):\n",
    "  # Note: Matplotlib not work in GPU convert to CPU\n",
    "  orignal = orignal.view(-1,1,28,28).cpu()\n",
    "  noise = noise.view(-1,1,28,28).cpu()\n",
    "  reconstructd = reconstructd.view(-1,1,28,28).cpu().detach() # detach because the output is part of the computation graph.\n",
    "\n",
    "  fig ,axes = plt.subplots(nrows=3 ,ncols=10,figsize = (12,4))\n",
    "  fig.suptitle('Denoising Autoencoder Results', fontweight = 'bold', fontsize=16)\n",
    "\n",
    "  for i in range(num):\n",
    "    # Original\n",
    "    axes[0][i].imshow(orignal[i][0], cmap = 'gray') # [28,28]\n",
    "    axes[0][i].axis('off')\n",
    "\n",
    "    # Noisy\n",
    "    axes[1][i].imshow(noise[i][0], cmap = 'gray')\n",
    "    axes[1][i].axis('off')\n",
    "\n",
    "    # Reconstructed\n",
    "    axes[2][i].imshow(reconstructd[i][0], cmap = 'gray')\n",
    "    axes[2][i].axis('off')\n",
    "\n",
    "  axes[0][0].set_ylabel(\"Clean\", fontsize=12)\n",
    "  axes[1][0].set_ylabel(\"Noisy\", fontsize=12)\n",
    "  axes[2][0].set_ylabel(\"Denoised\", fontsize=12)\n",
    "\n",
    "  plt.tight_layout()\n",
    "  plt.show()\n",
    "\n",
    "\n",
    "# Sample Visualization\n",
    "DAE_Model.eval()\n",
    "with torch.inference_mode():\n",
    "    test_images,_ = next(iter(test_loader))\n",
    "    sample_images = test_images.view(test_images.shape[0], -1).to(device)\n",
    "    sample_noise_images = add_gussian_noise(sample_images, NOISE_STD)\n",
    "    reconstructed = DAE_Model(sample_noise_images)\n",
    "\n",
    "\n",
    "show_images(test_images, sample_noise_images, reconstructed, 10)"
   ]
  },
  {
   "cell_type": "markdown",
   "id": "40345a52",
   "metadata": {
    "id": "ZmasptOWd_O3",
    "papermill": {
     "duration": 0.004627,
     "end_time": "2025-06-03T14:09:07.214956",
     "exception": false,
     "start_time": "2025-06-03T14:09:07.210329",
     "status": "completed"
    },
    "tags": []
   },
   "source": [
    "### ✅ Final Summary\n",
    "\n",
    "| **Tensor**       | **Comes From**             | **Correct Handling**                    |\n",
    "|------------------|-----------------------------|------------------------------------------|\n",
    "| `orignal`        | `next(iter(test_loader))`   | `.view(B, -1).cpu()`                     |\n",
    "| `noise`          | `orignal + noise`           | `.view(B, -1).cpu()`                     |\n",
    "| `reconstructd`   | `model(noise)`              | `.view(B, -1).cpu().detach()`← **important!** |\n",
    "\n",
    "---\n"
   ]
  },
  {
   "cell_type": "markdown",
   "id": "62a3a8b9",
   "metadata": {
    "id": "O4YMOO4J3SJh",
    "papermill": {
     "duration": 0.004371,
     "end_time": "2025-06-03T14:09:07.223925",
     "exception": false,
     "start_time": "2025-06-03T14:09:07.219554",
     "status": "completed"
    },
    "tags": []
   },
   "source": [
    "<a id=\"Import\"></a>\n",
    "<p style=\"background-color: #000000; font-family: 'Verdana', sans-serif; color: #FFFFFF; font-size: 160%; text-align: center; border-radius: 25px; padding: 12px 20px; margin-top: 20px; border: 2px solid transparent; background-image: linear-gradient(black, black), linear-gradient(45deg, #FF00FF, #00FFFF, #FFFF00, #FF4500); background-origin: border-box; background-clip: content-box, border-box; box-shadow: 0px 4px 20px rgba(255, 105, 180, 0.8);\">\n",
    "   Thanks & Upvote ❤️</p>"
   ]
  }
 ],
 "metadata": {
  "accelerator": "GPU",
  "colab": {
   "authorship_tag": "ABX9TyMHWo9YLiVQFHDoQrmcpy9j",
   "gpuType": "T4",
   "provenance": []
  },
  "kaggle": {
   "accelerator": "gpu",
   "dataSources": [],
   "dockerImageVersionId": 31041,
   "isGpuEnabled": true,
   "isInternetEnabled": true,
   "language": "python",
   "sourceType": "notebook"
  },
  "kernelspec": {
   "display_name": "Python 3",
   "language": "python",
   "name": "python3"
  },
  "language_info": {
   "codemirror_mode": {
    "name": "ipython",
    "version": 3
   },
   "file_extension": ".py",
   "mimetype": "text/x-python",
   "name": "python",
   "nbconvert_exporter": "python",
   "pygments_lexer": "ipython3",
   "version": "3.11.11"
  },
  "papermill": {
   "default_parameters": {},
   "duration": 3558.537011,
   "end_time": "2025-06-03T14:09:09.254091",
   "environment_variables": {},
   "exception": null,
   "input_path": "__notebook__.ipynb",
   "output_path": "__notebook__.ipynb",
   "parameters": {},
   "start_time": "2025-06-03T13:09:50.717080",
   "version": "2.6.0"
  }
 },
 "nbformat": 4,
 "nbformat_minor": 5
}
