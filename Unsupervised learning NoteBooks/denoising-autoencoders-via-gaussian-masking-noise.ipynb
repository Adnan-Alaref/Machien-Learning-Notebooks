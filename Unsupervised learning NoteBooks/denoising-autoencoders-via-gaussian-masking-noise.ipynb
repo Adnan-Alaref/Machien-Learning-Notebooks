{
 "cells": [
  {
   "cell_type": "markdown",
   "id": "25d6274b",
   "metadata": {
    "id": "IP73LGaKph7Q",
    "papermill": {
     "duration": 0.005813,
     "end_time": "2025-10-14T09:33:32.243079",
     "exception": false,
     "start_time": "2025-10-14T09:33:32.237266",
     "status": "completed"
    },
    "tags": []
   },
   "source": [
    "<div style=\"background-color: black; color: white; padding: 10px;text-align: center;\">\n",
    "  <strong>Date Published:</strong> October 14, 2025 <strong>Author:</strong> Adnan Alaref\n",
    "</div>"
   ]
  },
  {
   "cell_type": "code",
   "execution_count": null,
   "id": "12cfee06",
   "metadata": {
    "papermill": {
     "duration": 0.00426,
     "end_time": "2025-10-14T09:33:32.252335",
     "exception": false,
     "start_time": "2025-10-14T09:33:32.248075",
     "status": "completed"
    },
    "tags": []
   },
   "outputs": [],
   "source": []
  },
  {
   "cell_type": "markdown",
   "id": "c3ced307",
   "metadata": {
    "id": "3az4ADgrb0cN",
    "papermill": {
     "duration": 0.004364,
     "end_time": "2025-10-14T09:33:32.262472",
     "exception": false,
     "start_time": "2025-10-14T09:33:32.258108",
     "status": "completed"
    },
    "tags": []
   },
   "source": [
    "# 🧩 1️⃣ Gaussian Noise (Feature-wise or Adaptive)\n",
    "\n",
    "---\n",
    "\n",
    "### 🔹 Goal\n",
    "To make the **autoencoder** learn to reconstruct the *clean* data even when the input is slightly corrupted by random continuous noise.  \n",
    "This trains the model to focus on the **underlying structure** of the data, not the exact numerical values.\n",
    "\n",
    "---\n",
    "\n",
    "### 🔹 Intuitive Explanation\n",
    "Imagine you have a simple vector:\n",
    "\n",
    "$$\n",
    "x = [0.2, 0.4, 0.6, 0.8]\n",
    "$$\n",
    "\n",
    "If you add Gaussian noise, you slightly “jitter” each feature:\n",
    "\n",
    "$$\n",
    "x_{\\text{noisy}} = x + \\varepsilon, \\quad \\varepsilon \\sim \\mathcal{N}(0, \\sigma^2)\n",
    "$$\n",
    "\n",
    "\n",
    "Example:\n",
    "\n",
    "$$\n",
    "x_noisy = [0.25, 0.39, 0.62, 0.79]\n",
    "$$\n",
    "\n",
    "The **Denoising Autoencoder (DAE)** sees this noisy version and learns to output the clean version:\n",
    "\n",
    "$$\n",
    "[0.2, 0.4, 0.6, 0.8]\n",
    "$$\n",
    "\n",
    "---\n",
    "\n",
    "### 🔹 Mathematical View\n",
    "\n",
    "$$\n",
    "x_noisy = x + α ⋅ σₓ ⋅ N(0, 1)\n",
    "$$\n",
    "\n",
    "Where:\n",
    "\n",
    "| Symbol | Meaning |\n",
    "|:--------|:---------|\n",
    "| **α** | Hyperparameter controlling overall noise strength |\n",
    "| **σₓ** | Standard deviation of each feature — scales noise relative to feature variance |\n",
    "| **𝒩(0,1)** | Standard Gaussian random variable |\n",
    "\n",
    "This formulation makes the noise **feature-adaptive** — features with higher natural variance get proportionally more noise.\n",
    "\n",
    "---\n",
    "\n",
    "## ⚖️ Comparison: Simple Version vs. Adaptive Version\n",
    "\n",
    "| Aspect | Simple | Adaptive |\n",
    "|:-------|:--------|:----------|\n",
    "| **Formula** | x_noisy = x + σ ⋅ N(0, 1)  | x_nosiy = x + σ ⋅ std(x) ⋅ N (0, 1) |\n",
    "| **Noise strength** | Fixed across all features | Scaled per feature’s natural variance |\n",
    "| **Simplicity** | ✅ Very simple | Slightly more complex |\n",
    "| **When to use** | Data is normalized or all features on same scale | Features have very different scales (e.g., income vs. age) |\n",
    "| **Behavior** | Adds equal noise everywhere | Adds more noise to features with high natural variability |\n",
    "| **Risk** | Might over-noise small-scale features | More balanced corruption |\n",
    "\n",
    "\n",
    "\n",
    "## ✅ Final Verdict\n",
    "\n",
    "| Case | Recommended Version |\n",
    "|:------|:---------------------|\n",
    "| **Data normalized to [0,1]** | **Simple version** |\n",
    "| **Raw tabular data (unscaled)** | **Adaptive version** |\n",
    "| **Image data (pixels 0–1)** | **Simple version** |\n",
    "| **Complex numeric features** | **Adaptive version** |\n",
    "\n",
    "\n",
    "\n",
    "### 🧠 Summary Insight\n",
    "- If your dataset is **normalized** or features are on the **same scale**, the **simple Gaussian noise** version is perfectly fine.  \n",
    "- If your features vary greatly in scale (e.g., salary vs. age), use the **adaptive version** to prevent uneven corruption.  \n",
    "- Both methods are **differentiable** and useful for **denoising autoencoders**, **VAEs**, or **robust feature learning** in general.\n",
    "\n",
    "> ⚡ *In short:* Adaptive Gaussian noise = balanced robustness.  \n",
    "> Simple Gaussian noise = quick and effective when scaling is uniform.\n",
    "\n",
    "---\n",
    "\n",
    "### 🔹 Why It’s Popular\n",
    "✅ Works with almost every data type (images, tabular, embeddings)  \n",
    "✅ **Differentiable** — gradients can flow through during training  \n",
    "✅ **Smooths the manifold** — encourages better generalization  \n",
    "✅ Still serves as the **baseline** for most denoising tasks and even **Variational Autoencoders (VAEs)**\n",
    "\n",
    "---\n",
    "\n",
    "🔹 Key Insight (Expert View)\n",
    "* Gaussian noise encourages local invariance —\n",
    "the DAE learns: **If my input slightly shifts in the continuous space, I should still output the same clean pattern.**\n",
    "\n",
    "* This is similar to how **humans can recognize a word** even if some **letters are blurred or slightly distorted.**\n",
    "\n",
    "**In short:**  \n",
    "> Gaussian noise encourages robust feature learning by teaching the model to reconstruct structure rather than memorize exact input values — and the adaptive version keeps this effect balanced across heterogeneous features.\n",
    "\n",
    "---\n"
   ]
  },
  {
   "cell_type": "markdown",
   "id": "34ffe0e8",
   "metadata": {
    "id": "10qts28zzG3b",
    "papermill": {
     "duration": 0.004908,
     "end_time": "2025-10-14T09:33:32.272353",
     "exception": false,
     "start_time": "2025-10-14T09:33:32.267445",
     "status": "completed"
    },
    "tags": []
   },
   "source": [
    "## **🧩 1: Applay Gussain Noise Function.**\n",
    "- #### **First: Gaussian Noise If Data is Normalized or All Features on Same Scale.**\n",
    "- #### **Second: Gaussian Noise If Data isn't Normalized or All Features ont on Same Scale.**"
   ]
  },
  {
   "cell_type": "code",
   "execution_count": 1,
   "id": "46594193",
   "metadata": {
    "execution": {
     "iopub.execute_input": "2025-10-14T09:33:32.285721Z",
     "iopub.status.busy": "2025-10-14T09:33:32.285267Z",
     "iopub.status.idle": "2025-10-14T09:33:39.309963Z",
     "shell.execute_reply": "2025-10-14T09:33:39.308385Z"
    },
    "executionInfo": {
     "elapsed": 10,
     "status": "ok",
     "timestamp": 1760427090883,
     "user": {
      "displayName": "Adnan Alaref",
      "userId": "03256264963634723986"
     },
     "user_tz": -180
    },
    "id": "xmQbcrSbd_lD",
    "outputId": "d83f1c2b-fc36-44e1-e3e1-efae71a48ab8",
    "papermill": {
     "duration": 7.034005,
     "end_time": "2025-10-14T09:33:39.311989",
     "exception": false,
     "start_time": "2025-10-14T09:33:32.277984",
     "status": "completed"
    },
    "tags": []
   },
   "outputs": [
    {
     "name": "stdout",
     "output_type": "stream",
     "text": [
      "torch.Size([8, 100])\n",
      "Tensor before applay any noise: tensor([0.9164, 0.0484, 0.5368, 0.1882, 0.4875, 0.0494, 0.7560, 0.0575, 0.6414,\n",
      "        0.0453, 0.0069, 0.8790, 0.9487, 0.4972, 0.7216, 0.6114, 0.3897, 0.3931,\n",
      "        0.0611, 0.0779, 0.6978, 0.4456, 0.3012, 0.3895, 0.6674, 0.0289, 0.8505,\n",
      "        0.5604, 0.6167, 0.3811, 0.3947, 0.5356, 0.0375, 0.7490, 0.5497, 0.6621,\n",
      "        0.0480, 0.6819, 0.3660, 0.5210, 0.3607, 0.1114, 0.9719, 0.8940, 0.2139,\n",
      "        0.8764, 0.8701, 0.5133, 0.3496, 0.8796, 0.1908, 0.6683, 0.4993, 0.8960,\n",
      "        0.5988, 0.1843, 0.4867, 0.2802, 0.6079, 0.5262, 0.9329, 0.9559, 0.6554,\n",
      "        0.6376, 0.8663, 0.6348, 0.7904, 0.0499, 0.8897, 0.8371, 0.1699, 0.3668,\n",
      "        0.8087, 0.7210, 0.5672, 0.3343, 0.9147, 0.7144, 0.9925, 0.0845, 0.3489,\n",
      "        0.0314, 0.2287, 0.2593, 0.7160, 0.9939, 0.6943, 0.3882, 0.8165, 0.5930,\n",
      "        0.1022, 0.3560, 0.9155, 0.1694, 0.6851, 0.3804, 0.9102, 0.5468, 0.3806,\n",
      "        0.8163])\n"
     ]
    }
   ],
   "source": [
    "import torch\n",
    "from torch import Tensor\n",
    "x = torch.rand(8,100)\n",
    "print(x.shape) # batch of 8 samples, 100 features\n",
    "print(f\"Tensor before applay any noise: {x[0]}\")"
   ]
  },
  {
   "cell_type": "code",
   "execution_count": 2,
   "id": "4872c4f2",
   "metadata": {
    "execution": {
     "iopub.execute_input": "2025-10-14T09:33:39.323346Z",
     "iopub.status.busy": "2025-10-14T09:33:39.322855Z",
     "iopub.status.idle": "2025-10-14T09:33:39.330812Z",
     "shell.execute_reply": "2025-10-14T09:33:39.329733Z"
    },
    "executionInfo": {
     "elapsed": 38,
     "status": "ok",
     "timestamp": 1760431815393,
     "user": {
      "displayName": "Adnan Alaref",
      "userId": "03256264963634723986"
     },
     "user_tz": -180
    },
    "id": "zZ8VzVOIh0ss",
    "papermill": {
     "duration": 0.01598,
     "end_time": "2025-10-14T09:33:39.332887",
     "exception": false,
     "start_time": "2025-10-14T09:33:39.316907",
     "status": "completed"
    },
    "tags": []
   },
   "outputs": [],
   "source": [
    "def add_gaussian_noise(data:Tensor,\n",
    "                       sigma:float=0.1,\n",
    "                       normalized: bool=True,\n",
    "                       clamp: bool = True)->Tensor:\n",
    "    \"\"\"\n",
    "      Add Gaussian noise to a tensor (used for Denoising Autoencoders).\n",
    "\n",
    "      Parameters\n",
    "      ----------\n",
    "      data : torch.Tensor\n",
    "          Input tensor of shape (batch_size, num_features) or any shape.\n",
    "      sigma : float\n",
    "          Standard deviation factor controlling noise intensity.\n",
    "      normalized : bool, default=True\n",
    "          If True, noise is applied directly (assumes normalized data in [0,1] or [-1,1]).\n",
    "          If False, noise is scaled by the per-feature standard deviation.\n",
    "\n",
    "      Returns\n",
    "      -------\n",
    "      torch.Tensor\n",
    "          Noisy version of the input tensor (same shape and device).\n",
    "      \"\"\"\n",
    "    if normalized:\n",
    "      noise = torch.randn_like(data) * sigma\n",
    "    else:\n",
    "      std_per_feature = data.std(dim=0,keepdim=True)\n",
    "      noise = torch.randn_like(data) * sigma * std_per_feature\n",
    "\n",
    "    data_noisy = data + noise\n",
    "    return torch.clamp(data_noisy, 0., 1.) if clamp else data_noisy"
   ]
  },
  {
   "cell_type": "code",
   "execution_count": 3,
   "id": "45c4c8e7",
   "metadata": {
    "execution": {
     "iopub.execute_input": "2025-10-14T09:33:39.343266Z",
     "iopub.status.busy": "2025-10-14T09:33:39.342971Z",
     "iopub.status.idle": "2025-10-14T09:33:39.359109Z",
     "shell.execute_reply": "2025-10-14T09:33:39.357892Z"
    },
    "executionInfo": {
     "elapsed": 6,
     "status": "ok",
     "timestamp": 1760427091436,
     "user": {
      "displayName": "Adnan Alaref",
      "userId": "03256264963634723986"
     },
     "user_tz": -180
    },
    "id": "jLxjOAU3mxm5",
    "outputId": "8689f863-d52f-4c1c-804e-62cb5b4c8c26",
    "papermill": {
     "duration": 0.023428,
     "end_time": "2025-10-14T09:33:39.360861",
     "exception": false,
     "start_time": "2025-10-14T09:33:39.337433",
     "status": "completed"
    },
    "tags": []
   },
   "outputs": [
    {
     "data": {
      "text/plain": [
       "tensor([0.6922, 0.0186, 0.6421, 0.1461, 0.2766, 0.1560, 0.8492, 0.3809, 0.9049,\n",
       "        0.0000, 0.6168, 0.8947, 1.0000, 0.3500, 0.6143, 0.3674, 0.3878, 0.1539,\n",
       "        0.0189, 0.0713, 0.8125, 0.5263, 0.2170, 0.4520, 0.6245, 0.0593, 0.7104,\n",
       "        0.4374, 0.9902, 0.3301, 0.1507, 0.1926, 0.2937, 0.8687, 0.5567, 0.5402,\n",
       "        0.1688, 0.9148, 0.3905, 0.5375, 0.1245, 0.1541, 0.6034, 0.8518, 0.0256,\n",
       "        1.0000, 1.0000, 0.1783, 0.3876, 1.0000, 0.1897, 0.5867, 0.5346, 1.0000,\n",
       "        1.0000, 0.5283, 0.5337, 0.4491, 0.5449, 0.4855, 0.9984, 1.0000, 0.5628,\n",
       "        0.7235, 0.5622, 0.6220, 0.7679, 0.3236, 1.0000, 0.7443, 0.3655, 0.3048,\n",
       "        0.5673, 0.6353, 0.7021, 0.4755, 1.0000, 0.9575, 0.7371, 0.0000, 0.3867,\n",
       "        0.1543, 0.2551, 0.0000, 0.6014, 1.0000, 0.7021, 0.3265, 0.7005, 0.5427,\n",
       "        0.2019, 0.2938, 0.4895, 0.0000, 0.5301, 0.3909, 1.0000, 0.7730, 0.6040,\n",
       "        1.0000])"
      ]
     },
     "execution_count": 3,
     "metadata": {},
     "output_type": "execute_result"
    }
   ],
   "source": [
    "x_noisy = add_gaussian_noise(data=x,sigma=0.2)\n",
    "x_noisy[0]"
   ]
  },
  {
   "cell_type": "markdown",
   "id": "135ffcb6",
   "metadata": {
    "id": "oZ3Gtv06rSZx",
    "papermill": {
     "duration": 0.004327,
     "end_time": "2025-10-14T09:33:39.369984",
     "exception": false,
     "start_time": "2025-10-14T09:33:39.365657",
     "status": "completed"
    },
    "tags": []
   },
   "source": [
    "# **🧩 2️⃣ Masking Noise.**"
   ]
  },
  {
   "cell_type": "markdown",
   "id": "5273ee79",
   "metadata": {
    "id": "sDrAlpCvrAyl",
    "papermill": {
     "duration": 0.004319,
     "end_time": "2025-10-14T09:33:39.379502",
     "exception": false,
     "start_time": "2025-10-14T09:33:39.375183",
     "status": "completed"
    },
    "tags": []
   },
   "source": [
    "🧩 **1. Concept Overview**  \n",
    "Masking noise is another common type of noise used to corrupt input data for denoising autoencoders, but instead of adding random values (like Gaussian noise), it randomly removes information from the input.\n",
    "\n",
    "---\n",
    "\n",
    "⚙️ **2. Definition**  \n",
    "Masking noise randomly sets a fraction of the input features (or pixels) to zero.  \n",
    "\n",
    "This means:  \n",
    "If your input is a vector \n",
    "\n",
    "$$\n",
    "x = [0.8, 0.2, 0.5, 0.9],  \n",
    "$$\n",
    "\n",
    "and you apply **50% masking noise** → randomly pick half of the values and replace them with `0`.\n",
    "\n",
    "**Example:**  \n",
    "$$\n",
    "x_noisy = [0.0, 0.2, 0.0, 0.9]\n",
    "$$\n",
    "\n",
    "---\n",
    "\n",
    "💡 **3. Intuition**  \n",
    "Masking noise forces the autoencoder to:\n",
    "\n",
    "- infer missing information from the unmasked part,  \n",
    "- learn robust feature representations,  \n",
    "- behave like a data imputer — filling in missing values.\n",
    "\n",
    "That’s why it’s especially useful for **sparse or binary data** (like text embeddings, one-hot vectors, or normalized images).\n",
    "\n",
    "---\n",
    "\n",
    "**Let's Code..!**"
   ]
  },
  {
   "cell_type": "markdown",
   "id": "43c9cd78",
   "metadata": {
    "id": "d3fpnF7CtM8Y",
    "papermill": {
     "duration": 0.004265,
     "end_time": "2025-10-14T09:33:39.388376",
     "exception": false,
     "start_time": "2025-10-14T09:33:39.384111",
     "status": "completed"
    },
    "tags": []
   },
   "source": [
    "## **🧩 1. Manual Masking Noise (Non-differentiable mask)**"
   ]
  },
  {
   "cell_type": "code",
   "execution_count": 4,
   "id": "a5265de7",
   "metadata": {
    "execution": {
     "iopub.execute_input": "2025-10-14T09:33:39.400092Z",
     "iopub.status.busy": "2025-10-14T09:33:39.398599Z",
     "iopub.status.idle": "2025-10-14T09:33:39.405544Z",
     "shell.execute_reply": "2025-10-14T09:33:39.404380Z"
    },
    "executionInfo": {
     "elapsed": 7,
     "status": "ok",
     "timestamp": 1760431819147,
     "user": {
      "displayName": "Adnan Alaref",
      "userId": "03256264963634723986"
     },
     "user_tz": -180
    },
    "id": "HTJ8l5yDtQvv",
    "papermill": {
     "duration": 0.014513,
     "end_time": "2025-10-14T09:33:39.407412",
     "exception": false,
     "start_time": "2025-10-14T09:33:39.392899",
     "status": "completed"
    },
    "tags": []
   },
   "outputs": [],
   "source": [
    "def add_masking_noise(data:Tensor,\n",
    "                      corrupting_ratio:float)->Tensor:\n",
    "  \"\"\"\n",
    "    Apply masking noise by randomly setting a fraction of input elements to zero.\n",
    "\n",
    "    Parameters\n",
    "    ----------\n",
    "    data : torch.Tensor\n",
    "        Input tensor of shape (batch_size, num_features) or any shape.\n",
    "    corrupting_ratio : float\n",
    "        Fraction of elements to set to zero (between 0 and 1).\n",
    "\n",
    "    Returns\n",
    "    -------\n",
    "    torch.Tensor\n",
    "        Noisy tensor with a subset of elements masked to zero.\n",
    "    \"\"\"\n",
    "  if not (0.0 <= corrupting_ratio <=1.0):\n",
    "    raise ValueError(\"corruption_ratio must be between 0 amd 1.\")\n",
    "\n",
    "  # Generate a random binary mask (1 = keep, 0 = drop)\n",
    "  mask = (torch.rand_like(data) > corrupting_ratio).float()\n",
    "\n",
    "  # Apply the mask\n",
    "  data_noisy = data * mask\n",
    "  return data_noisy"
   ]
  },
  {
   "cell_type": "code",
   "execution_count": 5,
   "id": "51b6179c",
   "metadata": {
    "execution": {
     "iopub.execute_input": "2025-10-14T09:33:39.419685Z",
     "iopub.status.busy": "2025-10-14T09:33:39.418232Z",
     "iopub.status.idle": "2025-10-14T09:33:39.428104Z",
     "shell.execute_reply": "2025-10-14T09:33:39.426361Z"
    },
    "executionInfo": {
     "elapsed": 21,
     "status": "ok",
     "timestamp": 1760429113989,
     "user": {
      "displayName": "Adnan Alaref",
      "userId": "03256264963634723986"
     },
     "user_tz": -180
    },
    "id": "jMHTuULSudIl",
    "outputId": "ad32efa2-9c54-4d83-fe7d-386186e75088",
    "papermill": {
     "duration": 0.017928,
     "end_time": "2025-10-14T09:33:39.430305",
     "exception": false,
     "start_time": "2025-10-14T09:33:39.412377",
     "status": "completed"
    },
    "tags": []
   },
   "outputs": [
    {
     "name": "stdout",
     "output_type": "stream",
     "text": [
      "Original:\n",
      " tensor([[0.7772, 0.3034, 0.7721, 0.9192, 0.8576],\n",
      "        [0.6219, 0.2587, 0.6809, 0.8733, 0.0182]])\n",
      "Noisy:\n",
      " tensor([[0.0000, 0.3034, 0.7721, 0.9192, 0.0000],\n",
      "        [0.6219, 0.0000, 0.6809, 0.8733, 0.0182]])\n"
     ]
    }
   ],
   "source": [
    "x = torch.rand(2, 5)\n",
    "print(\"Original:\\n\", x)\n",
    "x_noisy = add_masking_noise(x, corrupting_ratio=0.4)\n",
    "print(\"Noisy:\\n\", x_noisy)"
   ]
  },
  {
   "cell_type": "markdown",
   "id": "37d11088",
   "metadata": {
    "id": "PFYaVm-2tiul",
    "papermill": {
     "duration": 0.00466,
     "end_time": "2025-10-14T09:33:39.439985",
     "exception": false,
     "start_time": "2025-10-14T09:33:39.435325",
     "status": "completed"
    },
    "tags": []
   },
   "source": [
    "---\n",
    "✅ **What Happens**  \n",
    "`torch.rand_like(x)` generates uniform random numbers in the range **[0, 1]**.  \n",
    "\n",
    "- `(> corruption_rate)` keeps roughly **(1 − corruption_rate)** fraction of values.  \n",
    "- Multiplying by the mask sets **~30% of values to zero.**\n",
    "\n",
    "---\n",
    "\n",
    "⚙️ **Pros**\n",
    "- 🎯 Direct control of which features get masked.  \n",
    "- 🔁 Perfectly reproducible (if you set `torch.manual_seed`).  \n",
    "- 🧠 Easy to visualize — good for teaching and analysis.  \n",
    "\n",
    "---\n",
    "\n",
    "⚠️ **Cons**\n",
    "- 🚫 The binary mask operation is **non-differentiable**, meaning the mask doesn’t propagate gradients — which is fine for **input corruption**, but **not trainable** if you wanted to make the masking learnable.\n",
    "---"
   ]
  },
  {
   "cell_type": "markdown",
   "id": "b977bc05",
   "metadata": {
    "id": "VJAXYqwxtnX6",
    "papermill": {
     "duration": 0.00443,
     "end_time": "2025-10-14T09:33:39.449372",
     "exception": false,
     "start_time": "2025-10-14T09:33:39.444942",
     "status": "completed"
    },
    "tags": []
   },
   "source": [
    "## **🔄 2. Differentiable Masking (Using torch.nn.functional.dropout)**"
   ]
  },
  {
   "cell_type": "code",
   "execution_count": 6,
   "id": "25392284",
   "metadata": {
    "execution": {
     "iopub.execute_input": "2025-10-14T09:33:39.460440Z",
     "iopub.status.busy": "2025-10-14T09:33:39.460145Z",
     "iopub.status.idle": "2025-10-14T09:33:39.492347Z",
     "shell.execute_reply": "2025-10-14T09:33:39.490157Z"
    },
    "executionInfo": {
     "elapsed": 12,
     "status": "ok",
     "timestamp": 1760429322099,
     "user": {
      "displayName": "Adnan Alaref",
      "userId": "03256264963634723986"
     },
     "user_tz": -180
    },
    "id": "heaGZouPpoSG",
    "outputId": "e7fe6b02-6f65-44e7-d619-8a63f4879e1b",
    "papermill": {
     "duration": 0.040066,
     "end_time": "2025-10-14T09:33:39.494165",
     "exception": false,
     "start_time": "2025-10-14T09:33:39.454099",
     "status": "completed"
    },
    "tags": []
   },
   "outputs": [
    {
     "name": "stdout",
     "output_type": "stream",
     "text": [
      "Original:\n",
      " tensor([[0.2000, 0.5000, 0.9000, 0.3000]])\n",
      "Noisy:\n",
      " tensor([[0.2857, 0.0000, 1.2857, 0.0000]])\n"
     ]
    }
   ],
   "source": [
    "import torch.nn.functional as F\n",
    "y = torch.tensor([[0.2, 0.5, 0.9, 0.3]])\n",
    "y_noisy = F.dropout(y, p=0.3, training=True)\n",
    "\n",
    "print(\"Original:\\n\", y)\n",
    "print(\"Noisy:\\n\", y_noisy)"
   ]
  },
  {
   "cell_type": "markdown",
   "id": "97af1207",
   "metadata": {
    "id": "ao2ZAT9ruLNZ",
    "papermill": {
     "duration": 0.00466,
     "end_time": "2025-10-14T09:33:39.504388",
     "exception": false,
     "start_time": "2025-10-14T09:33:39.499728",
     "status": "completed"
    },
    "tags": []
   },
   "source": [
    "---\n",
    "✅ **What Happens**  \n",
    "`dropout` randomly zeroes elements of `y` with probability **p = 0.3**.  \n",
    "\n",
    "- It scales the remaining elements by `1 / (1 - p)` to maintain the expected value of the tensor.  \n",
    "- It’s **differentiable** — gradients flow through the surviving elements.  \n",
    "\n",
    "---\n",
    "\n",
    "⚙️ **Pros**\n",
    "- ⚡ Built-in, GPU-optimized, and differentiable.  \n",
    "- 🔁 Automatically handles scaling of activations.  \n",
    "- 🧩 Ideal for DAEs and neural nets where you want consistent behavior.  \n",
    "\n",
    "---\n",
    "\n",
    "⚠️ **Cons**\n",
    "- 🔄 Slight difference in behavior: dropout **scales the surviving units**.  \n",
    "- Example: if `p = 0.3`, surviving elements are multiplied by `1 / 0.7 ≈ 1.43`.  \n",
    "- This keeps the mean activation constant — useful in **training neural nets**, but not identical to **true masking noise** if you care about preserving absolute values.  \n",
    "\n",
    "---\n",
    "\n",
    "🧠 **3. Professional Summary**\n",
    "\n",
    "| **Method**      | **Operation**     | **Scales surviving values?** | **Differentiable** | **Recommended for** |\n",
    "|------------------|------------------|------------------------------|--------------------|---------------------|\n",
    "| Manual Mask      | `x * mask`       | ❌ No                        | 🚫 No              | Denoising Autoencoder input corruption |\n",
    "| Dropout          | `F.dropout(x, p)` | ✅ Yes                       | ✅ Yes             | Neural networks & differentiable noise |\n",
    "\n",
    "---\n",
    "\n",
    "💡 **Developer Tip**  \n",
    "If you want **true masking noise** for a DAE, use your **manual method**.  \n",
    "If you want a **learnable, differentiable regularization**, use **dropout**.\n",
    "\n",
    "---"
   ]
  },
  {
   "cell_type": "markdown",
   "id": "933a6358",
   "metadata": {
    "id": "evOWcp0T1bQ0",
    "papermill": {
     "duration": 0.004897,
     "end_time": "2025-10-14T09:33:39.514279",
     "exception": false,
     "start_time": "2025-10-14T09:33:39.509382",
     "status": "completed"
    },
    "tags": []
   },
   "source": [
    "# **🎲 Import Libraries.**"
   ]
  },
  {
   "cell_type": "code",
   "execution_count": 7,
   "id": "826af30d",
   "metadata": {
    "execution": {
     "iopub.execute_input": "2025-10-14T09:33:39.528492Z",
     "iopub.status.busy": "2025-10-14T09:33:39.527377Z",
     "iopub.status.idle": "2025-10-14T09:33:47.699075Z",
     "shell.execute_reply": "2025-10-14T09:33:47.697739Z"
    },
    "executionInfo": {
     "elapsed": 12125,
     "status": "ok",
     "timestamp": 1760431807041,
     "user": {
      "displayName": "Adnan Alaref",
      "userId": "03256264963634723986"
     },
     "user_tz": -180
    },
    "id": "ItMWNYLapoOh",
    "papermill": {
     "duration": 8.18151,
     "end_time": "2025-10-14T09:33:47.701045",
     "exception": false,
     "start_time": "2025-10-14T09:33:39.519535",
     "status": "completed"
    },
    "tags": []
   },
   "outputs": [],
   "source": [
    "import torch\n",
    "import torchvision\n",
    "import numpy as np\n",
    "from torch import Tensor\n",
    "import matplotlib.pyplot as plt\n",
    "from torchvision import transforms\n",
    "from torch.utils.data import DataLoader\n",
    "\n",
    "import warnings\n",
    "warnings.filterwarnings(action='ignore')\n",
    "warnings.simplefilter(action='ignore' ,category=FutureWarning)"
   ]
  },
  {
   "cell_type": "markdown",
   "id": "4d2a8dc3",
   "metadata": {
    "id": "elhk9k3sBJjQ",
    "papermill": {
     "duration": 0.00431,
     "end_time": "2025-10-14T09:33:47.710170",
     "exception": false,
     "start_time": "2025-10-14T09:33:47.705860",
     "status": "completed"
    },
    "tags": []
   },
   "source": [
    "# **🎯 Comparison: Gaussian vs Masking Noise.**"
   ]
  },
  {
   "cell_type": "code",
   "execution_count": 8,
   "id": "ea313a1d",
   "metadata": {
    "execution": {
     "iopub.execute_input": "2025-10-14T09:33:47.721488Z",
     "iopub.status.busy": "2025-10-14T09:33:47.721030Z",
     "iopub.status.idle": "2025-10-14T09:33:51.582375Z",
     "shell.execute_reply": "2025-10-14T09:33:51.581332Z"
    },
    "executionInfo": {
     "elapsed": 1374,
     "status": "ok",
     "timestamp": 1760433524642,
     "user": {
      "displayName": "Adnan Alaref",
      "userId": "03256264963634723986"
     },
     "user_tz": -180
    },
    "id": "1XRyoLvzpoNS",
    "outputId": "a4b98e24-bcef-4d2d-c0f1-90d01991932e",
    "papermill": {
     "duration": 3.869859,
     "end_time": "2025-10-14T09:33:51.584567",
     "exception": false,
     "start_time": "2025-10-14T09:33:47.714708",
     "status": "completed"
    },
    "tags": []
   },
   "outputs": [
    {
     "name": "stderr",
     "output_type": "stream",
     "text": [
      "100%|██████████| 9.91M/9.91M [00:00<00:00, 59.2MB/s]\n",
      "100%|██████████| 28.9k/28.9k [00:00<00:00, 1.80MB/s]\n",
      "100%|██████████| 1.65M/1.65M [00:00<00:00, 14.4MB/s]\n",
      "100%|██████████| 4.54k/4.54k [00:00<00:00, 5.30MB/s]\n"
     ]
    },
    {
     "name": "stdout",
     "output_type": "stream",
     "text": [
      "\n",
      "Images shape: torch.Size([10, 1, 28, 28])\n"
     ]
    },
    {
     "data": {
      "image/png": "[encoded data removed]",
      "text/plain": [
       "<Figure size 1500x500 with 30 Axes>"
      ]
     },
     "metadata": {},
     "output_type": "display_data"
    }
   ],
   "source": [
    "# -----------------------------\n",
    "# 🖼️ Load one batch from MNIST\n",
    "# -----------------------------\n",
    "_transform = transforms.Compose([\n",
    "    transforms.ToTensor()\n",
    "  ])\n",
    "\n",
    "BATCH_SIZE = 10\n",
    "data = torchvision.datasets.MNIST(root='/.data', transform=_transform, train=True, download=True)\n",
    "dataloader = DataLoader(dataset=data, batch_size=BATCH_SIZE, shuffle=True)\n",
    "\n",
    "images,_ = next(iter(dataloader)) # batch of 10 grayscale images in [0, 1]\n",
    "print(f\"\\nImages shape: {images.shape}\")\n",
    "\n",
    "# -----------------------------\n",
    "# 🌪️ Apply Noises\n",
    "# -----------------------------\n",
    "gussain_images = add_gaussian_noise(data=images,sigma=0.3)\n",
    "masking_images = add_masking_noise(data=images,corrupting_ratio=0.3)\n",
    "\n",
    "# -----------------------------\n",
    "# 📊 Visualization\n",
    "# -----------------------------\n",
    "def show_comparison(original, noisy1, noisy2):\n",
    "\n",
    "  cols = len(original)\n",
    "  titles = ['Original', 'Gussain', 'Masking']\n",
    "\n",
    "  fig,axes = plt.subplots(nrows=3 ,ncols=cols, figsize=(15,5))\n",
    "  fig.suptitle(\"Comparison: Gaussian vs Masking Noise\", fontsize=16, fontweight='bold')\n",
    "  for i in range(len(original)):\n",
    "    # Original\n",
    "    axes[0,i].imshow(original[i].squeeze(), cmap='gray')\n",
    "    axes[0,i].set_title(titles[0])\n",
    "    axes[0,i].axis('off')\n",
    "\n",
    "    # Gaussian\n",
    "    axes[1,i].imshow(noisy1[i].squeeze(), cmap='gray')\n",
    "    axes[1,i].set_title(titles[1])\n",
    "    axes[1,i].axis('off')\n",
    "\n",
    "    # Masking\n",
    "    axes[2,i].imshow(noisy2[i].squeeze(), cmap='gray')\n",
    "    axes[2,i].set_title(titles[2])\n",
    "    axes[2,i].axis('off')\n",
    "\n",
    "\n",
    "  plt.tight_layout()\n",
    "  plt.show()\n",
    "\n",
    "show_comparison(original=images, noisy1=gussain_images, noisy2=masking_images)"
   ]
  },
  {
   "cell_type": "markdown",
   "id": "d463d9e3",
   "metadata": {
    "id": "Rmv6HAQWpc9c",
    "papermill": {
     "duration": 0.006459,
     "end_time": "2025-10-14T09:33:51.598257",
     "exception": false,
     "start_time": "2025-10-14T09:33:51.591798",
     "status": "completed"
    },
    "tags": []
   },
   "source": [
    "<a id=\"Import\"></a>\n",
    "<p style=\"background-color: #000000; font-family: 'Verdana', sans-serif; color: #FFFFFF; font-size: 160%; text-align: center; border-radius: 25px; padding: 12px 20px; margin-top: 20px; border: 2px solid transparent; background-image: linear-gradient(black, black), linear-gradient(45deg, #FF00FF, #00FFFF, #FFFF00, #FF4500); background-origin: border-box; background-clip: content-box, border-box; box-shadow: 0px 4px 20px rgba(255, 105, 180, 0.8);\">\n",
    "   Thanks & Upvote ❤️</p>"
   ]
  }
 ],
 "metadata": {
  "colab": {
   "authorship_tag": "ABX9TyOZsNt9wJhtlha1NZvVoPmY",
   "provenance": []
  },
  "kaggle": {
   "accelerator": "none",
   "dataSources": [],
   "dockerImageVersionId": 31153,
   "isGpuEnabled": false,
   "isInternetEnabled": true,
   "language": "python",
   "sourceType": "notebook"
  },
  "kernelspec": {
   "display_name": "Python 3",
   "language": "python",
   "name": "python3"
  },
  "language_info": {
   "codemirror_mode": {
    "name": "ipython",
    "version": 3
   },
   "file_extension": ".py",
   "mimetype": "text/x-python",
   "name": "python",
   "nbconvert_exporter": "python",
   "pygments_lexer": "ipython3",
   "version": "3.11.13"
  },
  "papermill": {
   "default_parameters": {},
   "duration": 28.618758,
   "end_time": "2025-10-14T09:33:55.093130",
   "environment_variables": {},
   "exception": null,
   "input_path": "__notebook__.ipynb",
   "output_path": "__notebook__.ipynb",
   "parameters": {},
   "start_time": "2025-10-14T09:33:26.474372",
   "version": "2.6.0"
  }
 },
 "nbformat": 4,
 "nbformat_minor": 5
}
