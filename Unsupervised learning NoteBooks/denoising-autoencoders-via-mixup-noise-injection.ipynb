{
 "cells": [
  {
   "cell_type": "markdown",
   "id": "43f658c6",
   "metadata": {
    "id": "xAbg4XX1Fx-C",
    "papermill": {
     "duration": 0.007037,
     "end_time": "2025-10-11T09:14:26.855781",
     "exception": false,
     "start_time": "2025-10-11T09:14:26.848744",
     "status": "completed"
    },
    "tags": []
   },
   "source": [
    "<div style=\"background-color: black; color: white; padding: 10px;text-align: center;\">\n",
    "  <strong>Date Published:</strong> October 11, 2025 <strong>Author:</strong> Adnan Alaref\n",
    "</div>"
   ]
  },
  {
   "cell_type": "markdown",
   "id": "0a7270c3",
   "metadata": {
    "id": "xGJaggt3G0yg",
    "papermill": {
     "duration": 0.005161,
     "end_time": "2025-10-11T09:14:26.866807",
     "exception": false,
     "start_time": "2025-10-11T09:14:26.861646",
     "status": "completed"
    },
    "tags": []
   },
   "source": [
    "# **🎛️ Step 1: Core Idea**\n",
    "\n",
    "Unlike **Gaussian** or **Masking noise** (which corrupt individual features),  \n",
    "**Mixup noise** corrupts an *entire sample* by blending it with another sample.\n",
    "\n",
    "$$\n",
    "\\tilde{x} = \\lambda x_i + (1 - \\lambda)x_j\n",
    "$$\n",
    "\n",
    "- **xᵢ**: original input  \n",
    "- **xⱼ**: another random input from the dataset  \n",
    "- **λ**: mixing coefficient, sampled from **Beta(α, α)**  \n",
    "  - usually **α = 0.2** or **0.4**"
   ]
  },
  {
   "cell_type": "markdown",
   "id": "2e4d3930",
   "metadata": {
    "id": "2TFEIcM5G7gF",
    "papermill": {
     "duration": 0.005109,
     "end_time": "2025-10-11T09:14:26.877513",
     "exception": false,
     "start_time": "2025-10-11T09:14:26.872404",
     "status": "completed"
    },
    "tags": []
   },
   "source": [
    "## 🧩 Intuition\n",
    "\n",
    "Instead of destroying features with random noise,  \n",
    "**Mixup** makes your model see *interpolations between real samples.*\n",
    "\n",
    "That teaches the DAE to:\n",
    "\n",
    "- Learn **smoother latent manifolds**  \n",
    "- Become **robust to unseen data**  \n",
    "- **Avoid overfitting** to sharp input distributions\n",
    "\n",
    "---"
   ]
  },
  {
   "cell_type": "markdown",
   "id": "326e5fdb",
   "metadata": {
    "id": "PkYV9ew5HF_4",
    "papermill": {
     "duration": 0.005139,
     "end_time": "2025-10-11T09:14:26.888311",
     "exception": false,
     "start_time": "2025-10-11T09:14:26.883172",
     "status": "completed"
    },
    "tags": []
   },
   "source": [
    "# **🧮 Step 2: Expert-Level Math Insight**\n",
    "\n",
    "$$\n",
    "\\tilde{x} = \\lambda x_i + (1 - \\lambda)x_j\n",
    "$$\n",
    "\n",
    "$$\n",
    "\\tilde{y} = \\lambda y_i + (1 - \\lambda)y_j\n",
    "$$\n",
    "\n",
    "For **DAEs**, you usually apply **Mixup** only to inputs,  \n",
    "but if your DAE also predicts **structured outputs**,  \n",
    "you can Mixup both **input** and **target**.\n",
    "\n",
    "💡 **When we call about lables, how to Use Each:**\n",
    "\n",
    "| **Scenario** | **Recommended Label Mixing** |\n",
    "|---------------|------------------------------|\n",
    "| 🧠 DAE / Regression / Continuous Target | ✅ Use `y_tilde = lam*y + (1 - lam)*y[index]` directly |\n",
    "| 🎯 Classification (CrossEntropy) | ✅ Use `y_a`, `y_b` and combine losses manually |\n",
    "| ⚙️ Custom Losses / VAEs / DAEs | 🟰 Either is fine, depending on architecture |\n",
    "\n",
    "---"
   ]
  },
  {
   "cell_type": "markdown",
   "id": "abbecfb0",
   "metadata": {
    "id": "lOf7RT1aHQgS",
    "papermill": {
     "duration": 0.005059,
     "end_time": "2025-10-11T09:14:26.898866",
     "exception": false,
     "start_time": "2025-10-11T09:14:26.893807",
     "status": "completed"
    },
    "tags": []
   },
   "source": [
    "## 🧩 1️⃣ What Mixup Noise Really Means\n",
    "\n",
    "Imagine you have two real images:\n",
    "\n",
    "- 🐱 **Image A** → a cat  \n",
    "- 🐶 **Image B** → a dog  \n",
    "\n",
    "Each image is a tensor of pixel values between 0 and 1, e.g. shape **[3, 224, 224]**.\n",
    "\n",
    "**Mixup** doesn’t destroy pixels randomly — it blends two entire images together like semi-transparent layers:\n",
    "\n",
    "$$\n",
    "x_{mixed} = \\lambda \\cdot x_{cat} + (1 - \\lambda) \\cdot x_{dog}\n",
    "$$\n",
    "\n",
    "---"
   ]
  },
  {
   "cell_type": "markdown",
   "id": "93900b63",
   "metadata": {
    "id": "ixkT3UEYHUyR",
    "papermill": {
     "duration": 0.005244,
     "end_time": "2025-10-11T09:14:26.909482",
     "exception": false,
     "start_time": "2025-10-11T09:14:26.904238",
     "status": "completed"
    },
    "tags": []
   },
   "source": [
    "## 🧠 2️⃣ Example Intuition\n",
    "\n",
    "If **λ = 0.7**:\n",
    "\n",
    "$$\n",
    "x_{mixed} = 0.7 \\times x_{cat} + 0.3 \\times x_{dog}\n",
    "$$\n",
    "\n",
    "→ The new image looks **70% cat + 30% dog**, conceptually like this:\n",
    "\n",
    "| Input A (Cat) | Input B (Dog) | Mixed |\n",
    "|:-------------:|:-------------:|:------:|\n",
    "| 🐱 | 🐶 | 🐱🐶 *blended image (semi-transparent)* |\n",
    "\n",
    "It’s not *“corrupting”* in the usual sense — it’s creating a **smooth in-between example**.\n",
    "\n",
    "---"
   ]
  },
  {
   "cell_type": "markdown",
   "id": "0fa4339c",
   "metadata": {
    "id": "PkSaKcCDHYlB",
    "papermill": {
     "duration": 0.005105,
     "end_time": "2025-10-11T09:14:26.919888",
     "exception": false,
     "start_time": "2025-10-11T09:14:26.914783",
     "status": "completed"
    },
    "tags": []
   },
   "source": [
    "## 🧮 3️⃣ What the DAE Learns\n",
    "\n",
    "Let’s think about the DAE’s goal.\n",
    "\n",
    "Normally, the DAE sees:\n",
    "\n",
    "- $\n",
    "x_{noisy} = x_{clean} + \\text{random noise}\n",
    "$\n",
    "\n",
    "* and tries to reconstruct **x₍clean₎**.\n",
    "\n",
    "With **Mixup noise**:\n",
    "- $\n",
    "x_{noisy} = \\lambda x_i + (1 - \\lambda) x_j\n",
    "$\n",
    "\n",
    "* and the DAE tries to reconstruct the clean **xᵢ**  (or both, weighted by **λ**).\n",
    "\n",
    "\n",
    "So the DAE learns:\n",
    "\n",
    "> “If I see an image halfway between two real examples,  \n",
    "> I should be able to bring it back to one of the real ones.”\n",
    "\n",
    "That teaches the model to:\n",
    "\n",
    "- Distinguish **real** vs **interpolated** data  \n",
    "- Learn **smooth latent transitions**  \n",
    "- Become **robust to unseen samples**\n",
    "\n",
    "---"
   ]
  },
  {
   "cell_type": "markdown",
   "id": "29205534",
   "metadata": {
    "id": "oY31Fa-THe4h",
    "papermill": {
     "duration": 0.00506,
     "end_time": "2025-10-11T09:14:26.930442",
     "exception": false,
     "start_time": "2025-10-11T09:14:26.925382",
     "status": "completed"
    },
    "tags": []
   },
   "source": [
    "## 🧩 4️⃣ Why It’s Used in DAEs and Modern Vision Tasks\n",
    "\n",
    "| **Benefit** | **Description** |\n",
    "|:-------------|:----------------|\n",
    "| 🌈 **Smooth manifold learning** | DAE learns to reconstruct in-between image states. |\n",
    "| 🧠 **Generalization** | Prevents overfitting by exposing the model to blended distributions. |\n",
    "| 🧱 **Stability** | Reduces sharp transitions in pixel/feature space. |\n",
    "| 💪 **Adversarial robustness** | Forces the model to behave linearly between samples. |\n",
    "\n",
    "---"
   ]
  },
  {
   "cell_type": "markdown",
   "id": "d2558981",
   "metadata": {
    "id": "3CIOTQ7WHlCh",
    "papermill": {
     "duration": 0.005363,
     "end_time": "2025-10-11T09:14:26.941190",
     "exception": false,
     "start_time": "2025-10-11T09:14:26.935827",
     "status": "completed"
    },
    "tags": []
   },
   "source": [
    "## ⚠️ 5️⃣ Common Pitfalls & Expert Notes\n",
    "\n",
    "- ❌ **Don’t use very small α (< 0.1)** — it becomes nearly identical to real data.  \n",
    "- ❌ **Don’t use very large α (> 1)** — mixed images become too unrealistic.  \n",
    "- ⚙️ **Use Mixup before feeding the image into the DAE**, not after encoding.  \n",
    "- 🎨 **Works best with autoencoders trained on RGB normalization** (0–1 or −1–1).\n",
    "\n",
    "---"
   ]
  },
  {
   "cell_type": "markdown",
   "id": "1ecbd511",
   "metadata": {
    "id": "xPwjWpyfHqNH",
    "papermill": {
     "duration": 0.005019,
     "end_time": "2025-10-11T09:14:26.951392",
     "exception": false,
     "start_time": "2025-10-11T09:14:26.946373",
     "status": "completed"
    },
    "tags": []
   },
   "source": [
    "## 🔥 6️⃣ Key Takeaway\n",
    "\n",
    "| **Classic Noise** | **Mixup Noise** |\n",
    "|:------------------|:----------------|\n",
    "| Adds random fuzz | Blends two real samples |\n",
    "| Local change in pixels | Global smooth interpolation |\n",
    "| Non-semantic (random) | Semantic (still meaningful) |\n",
    "| DAE denoises back to same sample | DAE learns smooth transitions between samples |\n",
    "\n",
    "---"
   ]
  },
  {
   "cell_type": "markdown",
   "id": "ca44441d",
   "metadata": {
    "id": "uGccUtEVGWJo",
    "papermill": {
     "duration": 0.004993,
     "end_time": "2025-10-11T09:14:26.961865",
     "exception": false,
     "start_time": "2025-10-11T09:14:26.956872",
     "status": "completed"
    },
    "tags": []
   },
   "source": [
    "# **☠ Step 3: Expert Tips**\n",
    "\n",
    "- ✅ **Use** `MSELoss` **or** `SmoothL1Loss (Huber)` **for reconstruction.**  \n",
    "- ✅ **Keep** α = 0.2–0.4 **for natural Mixup intensity.**  \n",
    "- ✅ **If using normalization** (e.g., mean/std), **apply the same to mixed images.**  \n",
    "- ✅ **Combine with Gaussian noise** — stacking both improves robustness.\n",
    "\n",
    "---\n",
    "\n",
    "### **Let's Code**"
   ]
  },
  {
   "cell_type": "markdown",
   "id": "658ed5b6",
   "metadata": {
    "id": "l3aDUv9xIsBe",
    "papermill": {
     "duration": 0.005515,
     "end_time": "2025-10-11T09:14:26.972592",
     "exception": false,
     "start_time": "2025-10-11T09:14:26.967077",
     "status": "completed"
    },
    "tags": []
   },
   "source": [
    "## **◍ Import Libraries.**"
   ]
  },
  {
   "cell_type": "code",
   "execution_count": 1,
   "id": "cee176dc",
   "metadata": {
    "execution": {
     "iopub.execute_input": "2025-10-11T09:14:26.985336Z",
     "iopub.status.busy": "2025-10-11T09:14:26.985015Z",
     "iopub.status.idle": "2025-10-11T09:14:32.329106Z",
     "shell.execute_reply": "2025-10-11T09:14:32.327879Z"
    },
    "executionInfo": {
     "elapsed": 44,
     "status": "ok",
     "timestamp": 1760171198628,
     "user": {
      "displayName": "Adnan Alaref",
      "userId": "03256264963634723986"
     },
     "user_tz": -180
    },
    "id": "bZntneXlH94O",
    "papermill": {
     "duration": 5.353098,
     "end_time": "2025-10-11T09:14:32.330979",
     "exception": false,
     "start_time": "2025-10-11T09:14:26.977881",
     "status": "completed"
    },
    "tags": []
   },
   "outputs": [],
   "source": [
    "import torch\n",
    "import numpy as np\n",
    "from torch import Tensor\n",
    "import matplotlib.pyplot as plt\n",
    "from typing import Optional, Tuple, Union\n",
    "\n",
    "import warnings\n",
    "warnings.filterwarnings(action='ignore')\n",
    "warnings.simplefilter(action='ignore' ,category=FutureWarning)"
   ]
  },
  {
   "cell_type": "markdown",
   "id": "6c66bc17",
   "metadata": {
    "id": "O-a4VWcPKvjM",
    "papermill": {
     "duration": 0.005282,
     "end_time": "2025-10-11T09:14:32.342072",
     "exception": false,
     "start_time": "2025-10-11T09:14:32.336790",
     "status": "completed"
    },
    "tags": []
   },
   "source": [
    "## **◍ Mixup Two Images.**"
   ]
  },
  {
   "cell_type": "code",
   "execution_count": 2,
   "id": "67445bb6",
   "metadata": {
    "execution": {
     "iopub.execute_input": "2025-10-11T09:14:32.354680Z",
     "iopub.status.busy": "2025-10-11T09:14:32.354247Z",
     "iopub.status.idle": "2025-10-11T09:14:32.889756Z",
     "shell.execute_reply": "2025-10-11T09:14:32.888895Z"
    },
    "executionInfo": {
     "elapsed": 624,
     "status": "ok",
     "timestamp": 1760167627719,
     "user": {
      "displayName": "Adnan Alaref",
      "userId": "03256264963634723986"
     },
     "user_tz": -180
    },
    "id": "H2V4t9mcKnUb",
    "outputId": "42cf962f-7ef5-4718-d213-67a34d02d4be",
    "papermill": {
     "duration": 0.543641,
     "end_time": "2025-10-11T09:14:32.891284",
     "exception": false,
     "start_time": "2025-10-11T09:14:32.347643",
     "status": "completed"
    },
    "tags": []
   },
   "outputs": [
    {
     "data": {
      "image/png": "[encoded data removed]",
      "text/plain": [
       "<Figure size 800x300 with 3 Axes>"
      ]
     },
     "metadata": {},
     "output_type": "display_data"
    }
   ],
   "source": [
    "# Two fake images (for illustration)\n",
    "x1 = torch.rand(1, 28, 28)\n",
    "x2 = torch.rand(1, 28, 28)\n",
    "\n",
    "lam = 0.6  # 60% first image, 40% second image\n",
    "x_mix = lam * x1 + (1 - lam) * x2\n",
    "\n",
    "fig, axes = plt.subplots(1, 3, figsize=(8, 3))\n",
    "axes[0].imshow(x1.squeeze(), cmap='gray')\n",
    "axes[0].set_title(\"Image 1\")\n",
    "axes[1].imshow(x2.squeeze(), cmap='gray')\n",
    "axes[1].set_title(\"Image 2\")\n",
    "axes[2].imshow(x_mix.squeeze(), cmap='gray')\n",
    "axes[2].set_title(\"Mixup (0.6/0.4)\")\n",
    "plt.show()"
   ]
  },
  {
   "cell_type": "markdown",
   "id": "43bbfa36",
   "metadata": {
    "id": "8U_Nvi8nI5jh",
    "papermill": {
     "duration": 0.005585,
     "end_time": "2025-10-11T09:14:32.903290",
     "exception": false,
     "start_time": "2025-10-11T09:14:32.897705",
     "status": "completed"
    },
    "tags": []
   },
   "source": [
    "## **◍ Define mixup function for noise injection.**"
   ]
  },
  {
   "cell_type": "code",
   "execution_count": 3,
   "id": "7ebbe7fb",
   "metadata": {
    "execution": {
     "iopub.execute_input": "2025-10-11T09:14:32.916240Z",
     "iopub.status.busy": "2025-10-11T09:14:32.915940Z",
     "iopub.status.idle": "2025-10-11T09:14:32.998145Z",
     "shell.execute_reply": "2025-10-11T09:14:32.996926Z"
    },
    "executionInfo": {
     "elapsed": 25,
     "status": "ok",
     "timestamp": 1760167861403,
     "user": {
      "displayName": "Adnan Alaref",
      "userId": "03256264963634723986"
     },
     "user_tz": -180
    },
    "id": "mKGHu6LoFAYS",
    "outputId": "ea36acc5-3503-452d-dcb7-927df1b4849e",
    "papermill": {
     "duration": 0.090771,
     "end_time": "2025-10-11T09:14:32.999894",
     "exception": false,
     "start_time": "2025-10-11T09:14:32.909123",
     "status": "completed"
    },
    "tags": []
   },
   "outputs": [
    {
     "name": "stdout",
     "output_type": "stream",
     "text": [
      "X : tensor([[0.0264, 0.5579, 0.4962],\n",
      "        [0.4121, 0.4915, 0.7243],\n",
      "        [0.4793, 0.1900, 0.9760],\n",
      "        [0.3707, 0.2406, 0.8846]])\n",
      "\n",
      "λ =   0.982\n",
      "\n",
      "X_mixed : tensor([[0.0264, 0.5579, 0.4962],\n",
      "        [0.4121, 0.4915, 0.7243],\n",
      "        [0.4774, 0.1909, 0.9744],\n",
      "        [0.3726, 0.2397, 0.8862]])\n"
     ]
    }
   ],
   "source": [
    "def mixup_noise(x, alpha=0.4):\n",
    "  \"\"\"Applies Mixup noise to a batch of samples.\"\"\"\n",
    "  batch_size = x.size(0)\n",
    "\n",
    "  # Sample mixing coefficient from Beta distribution\n",
    "  # lam = float(torch.distributions.beta(alpha,alpha).sample()) Or\n",
    "  lam = np.random.beta(alpha,alpha)\n",
    "\n",
    "  # Shuffle indices for mixing\n",
    "  indx = torch.randperm(batch_size)\n",
    "\n",
    "  # Mix samples\n",
    "  x_mix = lam * x + (1-lam)* x[indx,:]\n",
    "  return x_mix ,lam\n",
    "\n",
    "#-----------Call----------#\n",
    "x = torch.rand(4,3)\n",
    "x_mix ,lam = mixup_noise(x,alpha=0.4)\n",
    "print(f\"X :\",x)\n",
    "print(f\"\\nλ =   {lam:.3f}\\n\")\n",
    "print(f\"X_mixed :\",x_mix)"
   ]
  },
  {
   "cell_type": "markdown",
   "id": "93b33930",
   "metadata": {
    "id": "gw6efwOmI_G4",
    "papermill": {
     "duration": 0.005728,
     "end_time": "2025-10-11T09:14:33.012223",
     "exception": false,
     "start_time": "2025-10-11T09:14:33.006495",
     "status": "completed"
    },
    "tags": []
   },
   "source": [
    "## **◍ Define mixup function for images.**"
   ]
  },
  {
   "cell_type": "code",
   "execution_count": 4,
   "id": "0cec4e52",
   "metadata": {
    "execution": {
     "iopub.execute_input": "2025-10-11T09:14:33.025356Z",
     "iopub.status.busy": "2025-10-11T09:14:33.024985Z",
     "iopub.status.idle": "2025-10-11T09:14:33.030822Z",
     "shell.execute_reply": "2025-10-11T09:14:33.029591Z"
    },
    "id": "PJ6P9exeF5b7",
    "papermill": {
     "duration": 0.014768,
     "end_time": "2025-10-11T09:14:33.032790",
     "exception": false,
     "start_time": "2025-10-11T09:14:33.018022",
     "status": "completed"
    },
    "tags": []
   },
   "outputs": [],
   "source": [
    "def mixup_images(x, alpha=0.4):\n",
    "  \"\"\"Applies Mixup augmentation to a batch of images and labels.\"\"\"\n",
    "\n",
    "  batch_size = x.size(0)\n",
    "  lam = torch.distributions.beta(alpha,alpha)\n",
    "\n",
    "  # Shuffle indices for mixing\n",
    "  index = torch.randperm(batch_size)\n",
    "\n",
    "  # Mix images and labels\n",
    "  x_mix = lam * x + (1-lam) * x[index,:]\n",
    "\n",
    "  return x_mix, index, lam"
   ]
  },
  {
   "cell_type": "markdown",
   "id": "6ea1300c",
   "metadata": {
    "papermill": {
     "duration": 0.006444,
     "end_time": "2025-10-11T09:14:33.045717",
     "exception": false,
     "start_time": "2025-10-11T09:14:33.039273",
     "status": "completed"
    },
    "tags": []
   },
   "source": [
    "#### Then during training (Forward):\n",
    "\n",
    "\n",
    "```python\n",
    "# Input mixup\n",
    "x_mixed, idx, lam = mixup_images(x_clean, alpha=0.4)\n",
    "\n",
    "# Model tries to reconstruct clean version\n",
    "outputs = model(x_mixed)\n",
    "\n",
    "# Weighted reconstruction target\n",
    "loss = lam* criterion(outputs, x_clean) + (1-lam)* criterion(outputs, x_clean[idx])\n",
    "```"
   ]
  },
  {
   "cell_type": "markdown",
   "id": "ccd177cf",
   "metadata": {
    "id": "TTNpalbSPVRf",
    "papermill": {
     "duration": 0.005738,
     "end_time": "2025-10-11T09:14:33.057682",
     "exception": false,
     "start_time": "2025-10-11T09:14:33.051944",
     "status": "completed"
    },
    "tags": []
   },
   "source": [
    "# **⚒ Step 4: Compare Mixup in unsupervised DAEs vs Mixup in supervised CNNs.**"
   ]
  },
  {
   "cell_type": "markdown",
   "id": "487557d9",
   "metadata": {
    "id": "TYNnWPr-P7x1",
    "papermill": {
     "duration": 0.005968,
     "end_time": "2025-10-11T09:14:33.069421",
     "exception": false,
     "start_time": "2025-10-11T09:14:33.063453",
     "status": "completed"
    },
    "tags": []
   },
   "source": [
    "## 🧠 1️⃣ First, Recall What Each Model Tries to Learn\n",
    "\n",
    "| Model | What it learns | What the target (`y`) is |\n",
    "|:--|:--|:--|\n",
    "| 🧱 **DAE (Denoising Autoencoder)** | Learns to reconstruct **clean input** from a **noisy version** | Target is the **same image (input itself)** |\n",
    "| 🧠 **CNN Classifier** | Learns to predict a **class label** (e.g., cat/dog) | Target is a **class label (0, 1, 2, …)** |\n",
    "\n",
    "---"
   ]
  },
  {
   "cell_type": "markdown",
   "id": "c387d28b",
   "metadata": {
    "id": "yxjp80pYQI3l",
    "papermill": {
     "duration": 0.005822,
     "end_time": "2025-10-11T09:14:33.081229",
     "exception": false,
     "start_time": "2025-10-11T09:14:33.075407",
     "status": "completed"
    },
    "tags": []
   },
   "source": [
    "\n",
    "## 🌀 2️⃣ Mixup in a DAE (Unsupervised)\n",
    "\n",
    "In a **DAE**, there are no explicit class labels — only input–output pairs  \n",
    "$$\n",
    "(x_{\\text{noisy}}, x_{\\text{clean}})\n",
    "$$\n",
    "\n",
    "So we only apply **Mixup** to the **inputs** as a structured type of noise:\n",
    "- x_noisy → blended image (λ * image_A + (1−λ) * image_B)\n",
    "- output → reconstruction\n",
    "- loss → reconstruct both clean images proportionally\n",
    "\n",
    "🧩 The DAE is not predicting “cat” or “dog” — it’s learning how to unmix the blended input back into realistic data.\n",
    "\n",
    "\n",
    "\n",
    "```python\n",
    "# Input mixup\n",
    "x_noisy, index, lam = mixup_images(x_clean, alpha=0.4)\n",
    "\n",
    "# Model tries to reconstruct clean version\n",
    "output = dae(x_noisy)\n",
    "\n",
    "# Weighted reconstruction target\n",
    "loss = lam * criterion(output, x_clean) + (1 - lam) * criterion(output, x_clean[index])\n",
    "```"
   ]
  },
  {
   "cell_type": "markdown",
   "id": "c5afc459",
   "metadata": {
    "id": "paxD1InnQo7t",
    "papermill": {
     "duration": 0.005891,
     "end_time": "2025-10-11T09:14:33.092919",
     "exception": false,
     "start_time": "2025-10-11T09:14:33.087028",
     "status": "completed"
    },
    "tags": []
   },
   "source": [
    "\n",
    "---\n",
    "\n",
    "## 🎯 3️⃣ Mixup in a CNN Classifier (Supervised)\n",
    "\n",
    "Now we **do have labels (`y`)**.  \n",
    "So when we mix two images, we also need to **mix their labels**.\n",
    "\n",
    "$$\n",
    "x_{\\text{mixed}} = \\lambda x_i + (1 - \\lambda) x_j\n",
    "$$  \n",
    "$$\n",
    "y_{\\text{mixed}} = \\lambda y_i + (1 - \\lambda) y_j\n",
    "$$\n",
    "\n",
    "### **There are two implementation styles** 👇"
   ]
  },
  {
   "cell_type": "markdown",
   "id": "4e7990bd",
   "metadata": {
    "id": "lx8slK4UQ0LU",
    "papermill": {
     "duration": 0.005877,
     "end_time": "2025-10-11T09:14:33.104971",
     "exception": false,
     "start_time": "2025-10-11T09:14:33.099094",
     "status": "completed"
    },
    "tags": []
   },
   "source": [
    "### ✅ Option A: Explicitly Mix Labels (for BCE or MSE losses)\n",
    "\n",
    "\n",
    "```python\n",
    "x_mixed, index, lam = mixup_images(x)\n",
    "y_mixed = lam * y + (1 - lam) * y[index]\n",
    "output = model(x_mixed)\n",
    "loss = criterion(output, y_mixed)\n",
    "```"
   ]
  },
  {
   "cell_type": "markdown",
   "id": "9e21d7da",
   "metadata": {
    "id": "i1LcKFVKQ4YC",
    "papermill": {
     "duration": 0.006005,
     "end_time": "2025-10-11T09:14:33.117356",
     "exception": false,
     "start_time": "2025-10-11T09:14:33.111351",
     "status": "completed"
    },
    "tags": []
   },
   "source": [
    "### ✅ Option B: Weighted Losses (for CrossEntropy)\n",
    "\n",
    "\n",
    "```python\n",
    "x_mixed, index, lam = mixup_images(x)\n",
    "output = model(x_mixed)\n",
    "loss = lam * criterion(output, y) + (1 - lam) * criterion(output, y[index])\n",
    "```"
   ]
  },
  {
   "cell_type": "markdown",
   "id": "eb366d72",
   "metadata": {
    "id": "TxGJFcqYRB-W",
    "papermill": {
     "duration": 0.005724,
     "end_time": "2025-10-11T09:14:33.129048",
     "exception": false,
     "start_time": "2025-10-11T09:14:33.123324",
     "status": "completed"
    },
    "tags": []
   },
   "source": [
    "* Both are mathematically the same\n",
    "* Option B is used more because **CrossEntropy** in PyTorch doesn’t accept soft labels directly"
   ]
  },
  {
   "cell_type": "markdown",
   "id": "1bf6e2dd",
   "metadata": {
    "id": "iMW9bhq9Uzsx",
    "papermill": {
     "duration": 0.005575,
     "end_time": "2025-10-11T09:14:33.140463",
     "exception": false,
     "start_time": "2025-10-11T09:14:33.134888",
     "status": "completed"
    },
    "tags": []
   },
   "source": [
    "---\n",
    "## 🧩 4️⃣ Mixup Utility Function (Common for Both)"
   ]
  },
  {
   "cell_type": "code",
   "execution_count": 5,
   "id": "beb3a413",
   "metadata": {
    "execution": {
     "iopub.execute_input": "2025-10-11T09:14:33.154235Z",
     "iopub.status.busy": "2025-10-11T09:14:33.153904Z",
     "iopub.status.idle": "2025-10-11T09:14:33.161300Z",
     "shell.execute_reply": "2025-10-11T09:14:33.160537Z"
    },
    "executionInfo": {
     "elapsed": 31,
     "status": "ok",
     "timestamp": 1760171792102,
     "user": {
      "displayName": "Adnan Alaref",
      "userId": "03256264963634723986"
     },
     "user_tz": -180
    },
    "id": "yKO5D4b6VMT0",
    "papermill": {
     "duration": 0.016511,
     "end_time": "2025-10-11T09:14:33.163206",
     "exception": false,
     "start_time": "2025-10-11T09:14:33.146695",
     "status": "completed"
    },
    "tags": []
   },
   "outputs": [],
   "source": [
    "def mixup_data(x: Tensor,\n",
    "               y: Optional[Tensor] = None,\n",
    "               alpha: float = 0.4\n",
    "               )-> Union[\n",
    "                   Tuple[Tensor,Tensor,Tensor,float],\n",
    "                   Tuple[Tensor, Tensor,float]\n",
    "               ]:\n",
    "  \"\"\"\n",
    "    Perform Mixup data augmentation for both supervised and unsupervised learning.\n",
    "\n",
    "    Parameters\n",
    "    ----------\n",
    "    x : torch.Tensor\n",
    "        Input batch of data with shape (batch_size, ...).\n",
    "    y : torch.Tensor, optional\n",
    "        Target labels. If None, Mixup operates in unsupervised mode (e.g., DAE).\n",
    "    alpha : float, default=0.4\n",
    "        Beta distribution parameter controlling the mix strength.\n",
    "\n",
    "    Returns\n",
    "    -------\n",
    "    Supervised mode (when y is provided):\n",
    "        x_mixed : torch.Tensor\n",
    "            The mixed batch of inputs.\n",
    "        y_a : torch.Tensor\n",
    "            Original labels.\n",
    "        y_b : torch.Tensor\n",
    "            Shuffled labels.\n",
    "        lam : float\n",
    "            Mixing coefficient sampled from Beta(α, α).\n",
    "\n",
    "    Unsupervised mode (when y is None):\n",
    "        x_mixed : torch.Tensor\n",
    "            The mixed batch of inputs.\n",
    "        index : torch.Tensor\n",
    "            Shuffled indices used for mixing.\n",
    "        lam : float\n",
    "            Mixing coefficient.\n",
    "\n",
    "    Notes\n",
    "    -----\n",
    "    - Mixup blends pairs of samples (x_i, x_j) as:\n",
    "          x_mixed = λ * x_i + (1 - λ) * x_j\n",
    "      and, if labels are available:\n",
    "          y_mixed = λ * y_i + (1 - λ) * y_j\n",
    "    - Typical α values: 0.2–0.4\n",
    "    \"\"\"\n",
    "  # sample lambda from Beta(α, α)\n",
    "  lam:float = float(torch.distributions.beta(alpha,alpha).sample())\n",
    "\n",
    "  # create a random index permutation\n",
    "  batch_size = x.size(0)\n",
    "  indx = torch.randperm(batch_size)\n",
    "\n",
    "  # Mix inputs\n",
    "  x_mixed = lam*x + (1-lam)*x[indx,:]\n",
    "\n",
    "  # for supervised\n",
    "  if y is not None:\n",
    "    y_a, y_b = y, y[indx]\n",
    "    return x_mixed, y_a, y_b, lam\n",
    "\n",
    "  # for DAE (unsupervised)\n",
    "  else:\n",
    "    return x_mixed, indx, lam"
   ]
  },
  {
   "cell_type": "markdown",
   "id": "bbc1de25",
   "metadata": {
    "id": "lqULa63jaxMe",
    "papermill": {
     "duration": 0.006014,
     "end_time": "2025-10-11T09:14:33.175840",
     "exception": false,
     "start_time": "2025-10-11T09:14:33.169826",
     "status": "completed"
    },
    "tags": []
   },
   "source": [
    "### **🔹 Training loop example:(DAE)**\n",
    "\n",
    "\n",
    "```python\n",
    "# Suppose we have: model, optimizer, criterion = MSELoss()\n",
    "for x in dataloader:\n",
    "    x = x.to(device)\n",
    "\n",
    "    # Apply Mixup noise\n",
    "    x_mix, index, lam = mixup_data(x, alpha=0.4)\n",
    "\n",
    "    # Forward pass\n",
    "    output = model(x_mix)\n",
    "\n",
    "    # Compute weighted reconstruction loss\n",
    "    loss = lam * criterion(output, x) + (1 - lam) * criterion(output, x[index, :])\n",
    "\n",
    "    optimizer.zero_grad()\n",
    "    loss.backward()\n",
    "    optimizer.step()\n",
    "```"
   ]
  },
  {
   "cell_type": "markdown",
   "id": "db9075c1",
   "metadata": {
    "id": "wESNoSpua3di",
    "papermill": {
     "duration": 0.005748,
     "end_time": "2025-10-11T09:14:33.188008",
     "exception": false,
     "start_time": "2025-10-11T09:14:33.182260",
     "status": "completed"
    },
    "tags": []
   },
   "source": [
    "### **🔹 Training loop example:( CNN/Classifier)**\n",
    "\n",
    "\n",
    "```python\n",
    "# Suppose we have: model, optimizer, criterion = CrossEntropyLoss()\n",
    "for x, y in dataloader:\n",
    "    x, y = x.to(device), y.to(device)\n",
    "\n",
    "    # Apply Mixup\n",
    "    mixed_x, y_a, y_b, lam = mixup_data(x, y, alpha=0.4)\n",
    "\n",
    "    # Forward pass\n",
    "    outputs = model(mixed_x)\n",
    "\n",
    "    # Compute the Mixup loss\n",
    "    loss = lam * criterion(outputs, y_a) + (1 - lam) * criterion(outputs, y_b)\n",
    "\n",
    "    optimizer.zero_grad()\n",
    "    loss.backward()\n",
    "    optimizer.step()\n",
    "```"
   ]
  },
  {
   "cell_type": "markdown",
   "id": "5453b75e",
   "metadata": {
    "id": "msJCIaJ9RNqQ",
    "papermill": {
     "duration": 0.005598,
     "end_time": "2025-10-11T09:14:33.199457",
     "exception": false,
     "start_time": "2025-10-11T09:14:33.193859",
     "status": "completed"
    },
    "tags": []
   },
   "source": [
    "---\n",
    "\n",
    "## 🔍 5️⃣ Conceptual Difference Summarized\n",
    "\n",
    "| Aspect | 🧱 **DAE** | 🧠 **CNN Classifier** |\n",
    "|:--|:--|:--|\n",
    "| **Purpose** | Reconstruct original image | Predict class label |\n",
    "| **Target (y)** | Image itself | Class label |\n",
    "| **Mixup applied to** | Inputs only | Inputs and labels |\n",
    "| **Label type** | None (unsupervised) | Required (supervised) |\n",
    "| **Loss function** | MSELoss / SmoothL1Loss | CrossEntropyLoss / BCE |\n",
    "| **Goal of Mixup** | Add smooth, semantic noise to inputs | Add smooth interpolation between classes |\n",
    "\n",
    "---"
   ]
  },
  {
   "cell_type": "markdown",
   "id": "e2935d0d",
   "metadata": {
    "id": "_ml_wfdQRQ_1",
    "papermill": {
     "duration": 0.005997,
     "end_time": "2025-10-11T09:14:33.211284",
     "exception": false,
     "start_time": "2025-10-11T09:14:33.205287",
     "status": "completed"
    },
    "tags": []
   },
   "source": [
    "## 💡 6️⃣ Expert Insight: Why This Matters\n",
    "\n",
    "- In **DAEs** → Mixup = **noise injection**  \n",
    "- In **CNNs** → Mixup = **regularization and smoothing**\n",
    "\n",
    "🧩 Both use **the same formula**, but for **different motivations**:  \n",
    "- DAEs care about **reconstruction stability**  \n",
    "- Classifiers care about **decision boundary smoothness**\n",
    "\n",
    "---"
   ]
  },
  {
   "cell_type": "markdown",
   "id": "08e0ade7",
   "metadata": {
    "id": "tqtynV68RUGa",
    "papermill": {
     "duration": 0.005706,
     "end_time": "2025-10-11T09:14:33.222839",
     "exception": false,
     "start_time": "2025-10-11T09:14:33.217133",
     "status": "completed"
    },
    "tags": []
   },
   "source": [
    "## ✅ 7️⃣  Summary\n",
    "\n",
    "| Model Type | Mixup on `x` | Mixup on `y` | Training Goal |\n",
    "|:--|:--:|:--:|:--|\n",
    "| **DAE** | ✅ Yes (input noise) | ❌ No (no labels) | Reconstruct clean input |\n",
    "| **CNN Classifier** | ✅ Yes | ✅ Yes | Predict interpolated labels |\n",
    "| **VAE / Semi-Supervised Autoencoder** | ✅ Yes | (optional) ✅ | Combine both effects |"
   ]
  },
  {
   "cell_type": "markdown",
   "id": "7a34fb3c",
   "metadata": {
    "id": "hwvdOPcRF2u5",
    "papermill": {
     "duration": 0.005558,
     "end_time": "2025-10-11T09:14:33.234317",
     "exception": false,
     "start_time": "2025-10-11T09:14:33.228759",
     "status": "completed"
    },
    "tags": []
   },
   "source": [
    "<a id=\"Import\"></a>\n",
    "<p style=\"background-color: #000000; font-family: 'Verdana', sans-serif; color: #FFFFFF; font-size: 160%; text-align: center; border-radius: 25px; padding: 12px 20px; margin-top: 20px; border: 2px solid transparent; background-image: linear-gradient(black, black), linear-gradient(45deg, #FF00FF, #00FFFF, #FFFF00, #FF4500); background-origin: border-box; background-clip: content-box, border-box; box-shadow: 0px 4px 20px rgba(255, 105, 180, 0.8);\">\n",
    "   Thanks & Upvote ❤️</p>"
   ]
  }
 ],
 "metadata": {
  "colab": {
   "authorship_tag": "ABX9TyMtl3SimiUb4z9bUIcR6szH",
   "provenance": [],
   "toc_visible": true
  },
  "kaggle": {
   "accelerator": "none",
   "dataSources": [],
   "dockerImageVersionId": 31153,
   "isGpuEnabled": false,
   "isInternetEnabled": true,
   "language": "python",
   "sourceType": "notebook"
  },
  "kernelspec": {
   "display_name": "Python 3",
   "language": "python",
   "name": "python3"
  },
  "language_info": {
   "codemirror_mode": {
    "name": "ipython",
    "version": 3
   },
   "file_extension": ".py",
   "mimetype": "text/x-python",
   "name": "python",
   "nbconvert_exporter": "python",
   "pygments_lexer": "ipython3",
   "version": "3.11.13"
  },
  "papermill": {
   "default_parameters": {},
   "duration": 13.187695,
   "end_time": "2025-10-11T09:14:34.765547",
   "environment_variables": {},
   "exception": null,
   "input_path": "__notebook__.ipynb",
   "output_path": "__notebook__.ipynb",
   "parameters": {},
   "start_time": "2025-10-11T09:14:21.577852",
   "version": "2.6.0"
  }
 },
 "nbformat": 4,
 "nbformat_minor": 5
}
