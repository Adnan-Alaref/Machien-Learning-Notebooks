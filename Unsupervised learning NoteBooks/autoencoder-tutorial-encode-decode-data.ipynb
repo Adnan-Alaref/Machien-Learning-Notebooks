{
 "cells": [
  {
   "cell_type": "markdown",
   "id": "be0f294d",
   "metadata": {
    "id": "_3nRtQ52olA0",
    "papermill": {
     "duration": 0.003661,
     "end_time": "2025-05-31T23:55:08.031913",
     "exception": false,
     "start_time": "2025-05-31T23:55:08.028252",
     "status": "completed"
    },
    "tags": []
   },
   "source": [
    "<div style=\"background-color: black; color: white; padding: 10px;text-align: center;\">\n",
    "  <strong>Date Published:</strong> June 01, 2025 <strong>Author:</strong> Adnan Alaref\n",
    "</div>"
   ]
  },
  {
   "cell_type": "markdown",
   "id": "3dd8e8c8",
   "metadata": {
    "id": "AyTMgmfDqqtO",
    "papermill": {
     "duration": 0.002402,
     "end_time": "2025-05-31T23:55:08.037518",
     "exception": false,
     "start_time": "2025-05-31T23:55:08.035116",
     "status": "completed"
    },
    "tags": []
   },
   "source": [
    "# 🔍 1. What is an Autoencoder?\n",
    "\n",
    "An **Autoencoder** is a type of **neural network** used to **compress** and then **reconstruct** data.  \n",
    "It learns to represent the input in a lower-dimensional form (called a latent space), and then tries to recreate the original input from this compressed version.\n",
    "\n",
    "---\n",
    "\n",
    "# 🏗️ 2. Autoencoder Architecture\n",
    "\n",
    "An Autoencoder is made of two main components:\n",
    "\n",
    "- **Encoder 🔽**  \n",
    "  Compresses the input into a smaller **latent representation**.\n",
    "\n",
    "- **Decoder 🔼**  \n",
    "  Reconstructs the original input from the latent representation.\n",
    "\n",
    "The entire network is trained to minimize the **reconstruction loss**, usually **Mean Squared Error (MSE)**, between the input and output.\n",
    "\n",
    "---\n",
    "\n",
    "# 🤔 3. Why use Autoencoders?\n",
    "\n",
    "Autoencoders are powerful tools because they:\n",
    "\n",
    "- Learn **efficient representations** of data  \n",
    "- Work in **unsupervised settings** (no labels needed)  \n",
    "- Help in understanding the **structure** of the data  \n",
    "\n",
    "---\n",
    "\n",
    "# 🚀 4. Popular Use Cases\n",
    "\n",
    "- 🧹 **Noise Removal**: Clean noisy images or signals  \n",
    "- 🔍 **Anomaly Detection**: Detect unusual patterns in data  \n",
    "- 🧬 **Dimensionality Reduction**: Like PCA, but non-linear  \n",
    "- 🎨 **Image Generation**: Foundation for Variational Autoencoders (VAEs)\n",
    "\n",
    "---\n",
    "\n",
    "# 🎯 5. Goal\n",
    "\n",
    "The goal of this notebook is to demonstrate how an **Autoencoder** can learn to:\n",
    "- Compress data into a meaningful **lower-dimensional space**\n",
    "- Reconstruct the original data as accurately as possible  \n",
    "\n",
    "---\n"
   ]
  },
  {
   "cell_type": "markdown",
   "id": "d460d1e5",
   "metadata": {
    "id": "q9aLnuNkRq35",
    "papermill": {
     "duration": 0.002758,
     "end_time": "2025-05-31T23:55:08.042972",
     "exception": false,
     "start_time": "2025-05-31T23:55:08.040214",
     "status": "completed"
    },
    "tags": []
   },
   "source": [
    "# **◍ Step 1: Import Libraries.**"
   ]
  },
  {
   "cell_type": "code",
   "execution_count": 1,
   "id": "3ca4a4e0",
   "metadata": {
    "execution": {
     "iopub.execute_input": "2025-05-31T23:55:08.050170Z",
     "iopub.status.busy": "2025-05-31T23:55:08.049783Z",
     "iopub.status.idle": "2025-05-31T23:55:14.554475Z",
     "shell.execute_reply": "2025-05-31T23:55:14.553530Z"
    },
    "executionInfo": {
     "elapsed": 193,
     "status": "ok",
     "timestamp": 1748728296223,
     "user": {
      "displayName": "Adnan Alaref",
      "userId": "03256264963634723986"
     },
     "user_tz": -180
    },
    "id": "cl1fUBnzRTmQ",
    "papermill": {
     "duration": 6.5103,
     "end_time": "2025-05-31T23:55:14.556112",
     "exception": false,
     "start_time": "2025-05-31T23:55:08.045812",
     "status": "completed"
    },
    "tags": []
   },
   "outputs": [],
   "source": [
    "import torch\n",
    "import torch.nn as nn\n",
    "import matplotlib.pyplot as plt\n",
    "\n",
    "from sklearn.metrics import mean_squared_error\n",
    "from sklearn.neural_network import MLPRegressor\n",
    "from sklearn.model_selection import train_test_split\n",
    "\n",
    "\n",
    "import warnings\n",
    "warnings.filterwarnings(action='ignore')\n",
    "warnings.simplefilter(action='ignore' ,category=FutureWarning)"
   ]
  },
  {
   "cell_type": "markdown",
   "id": "10aef713",
   "metadata": {
    "id": "DAkLfTYWUUBR",
    "papermill": {
     "duration": 0.002358,
     "end_time": "2025-05-31T23:55:14.561235",
     "exception": false,
     "start_time": "2025-05-31T23:55:14.558877",
     "status": "completed"
    },
    "tags": []
   },
   "source": [
    "# **◍ Step 2: Download And Save 5k Sample For Training From Dataset MNIST.**"
   ]
  },
  {
   "cell_type": "code",
   "execution_count": 2,
   "id": "10e4859c",
   "metadata": {
    "execution": {
     "iopub.execute_input": "2025-05-31T23:55:14.567615Z",
     "iopub.status.busy": "2025-05-31T23:55:14.567181Z",
     "iopub.status.idle": "2025-05-31T23:55:14.572636Z",
     "shell.execute_reply": "2025-05-31T23:55:14.571740Z"
    },
    "papermill": {
     "duration": 0.01023,
     "end_time": "2025-05-31T23:55:14.573948",
     "exception": false,
     "start_time": "2025-05-31T23:55:14.563718",
     "status": "completed"
    },
    "tags": []
   },
   "outputs": [
    {
     "name": "stdout",
     "output_type": "stream",
     "text": [
      "Directory created at /kaggle/working/Datasets\n"
     ]
    }
   ],
   "source": [
    "import os\n",
    "\n",
    "# Path of the directory you want to create\n",
    "dir_path = '/kaggle/working/Datasets'\n",
    "\n",
    "# Create the directory (including intermediate directories if needed)\n",
    "os.makedirs(dir_path, exist_ok=True)\n",
    "\n",
    "print(f\"Directory created at {dir_path}\")"
   ]
  },
  {
   "cell_type": "code",
   "execution_count": 3,
   "id": "4059cf21",
   "metadata": {
    "execution": {
     "iopub.execute_input": "2025-05-31T23:55:14.580531Z",
     "iopub.status.busy": "2025-05-31T23:55:14.580255Z",
     "iopub.status.idle": "2025-05-31T23:56:05.999196Z",
     "shell.execute_reply": "2025-05-31T23:56:05.998255Z"
    },
    "id": "r6th-oK7UocY",
    "papermill": {
     "duration": 51.426117,
     "end_time": "2025-05-31T23:56:06.002960",
     "exception": false,
     "start_time": "2025-05-31T23:55:14.576843",
     "status": "completed"
    },
    "tags": []
   },
   "outputs": [
    {
     "name": "stdout",
     "output_type": "stream",
     "text": [
      "Successfully saving...!\n"
     ]
    }
   ],
   "source": [
    "# Import necessary libraries\n",
    "import numpy as np\n",
    "from sklearn.datasets import fetch_openml\n",
    "\n",
    "# Load the MNIST dataset (images of handwritten digits)\n",
    "mnist = fetch_openml('mnist_784')\n",
    "\n",
    "# Convert the feature data and target labels to NumPy arrays\n",
    "X ,y = mnist['data'].to_numpy() ,mnist['target'].to_numpy()\n",
    "\n",
    "# Randomly select 5000 samples from the dataset (with replacement)\n",
    "random_indecies = np.random.choice(X.shape[0] ,5000 ,replace = True)\n",
    "\n",
    "# Subset the data and labels using the random indices\n",
    "X = X[random_indecies]\n",
    "y = y[random_indecies]\n",
    "\n",
    "# Define a function to save the data arrays to .npy files\n",
    "def save_data_npy(X,y):\n",
    "  try:\n",
    "    # Save features and labels to the specified Google Drive path\n",
    "    np.save(r'/kaggle/working/Datasets/X',X)\n",
    "    np.save(r'/kaggle/working/Datasets/y',y)\n",
    "    print(\"Successfully saving...!\")\n",
    "\n",
    "  except Exception as e:\n",
    "    # Print an error message if saving fails\n",
    "    print(\"Error saving :\",e)\n",
    "\n",
    "# Save data\n",
    "save_data_npy(X,y)"
   ]
  },
  {
   "cell_type": "markdown",
   "id": "4aeec190",
   "metadata": {
    "id": "GwxDuySQSviK",
    "papermill": {
     "duration": 0.002591,
     "end_time": "2025-05-31T23:56:06.008613",
     "exception": false,
     "start_time": "2025-05-31T23:56:06.006022",
     "status": "completed"
    },
    "tags": []
   },
   "source": [
    "# **◍ Step 3: AutoEncoder Implemintation.**"
   ]
  },
  {
   "cell_type": "markdown",
   "id": "d98349ac",
   "metadata": {
    "id": "DxkX2gKFh_xV",
    "papermill": {
     "duration": 0.002523,
     "end_time": "2025-05-31T23:56:06.013885",
     "exception": false,
     "start_time": "2025-05-31T23:56:06.011362",
     "status": "completed"
    },
    "tags": []
   },
   "source": [
    "#### **AutoEncoder Architecture**\n",
    "```\n",
    "Encoder:           Decoder:\n",
    "784 → 128               32 → 64\n",
    "      ↓                    ↓\n",
    "     64                   128\n",
    "      ↓                    ↓\n",
    "     32   ← bottleneck  →  32\n",
    "```\n"
   ]
  },
  {
   "cell_type": "code",
   "execution_count": 4,
   "id": "2313639a",
   "metadata": {
    "execution": {
     "iopub.execute_input": "2025-05-31T23:56:06.021392Z",
     "iopub.status.busy": "2025-05-31T23:56:06.020432Z",
     "iopub.status.idle": "2025-05-31T23:56:14.620792Z",
     "shell.execute_reply": "2025-05-31T23:56:14.619820Z"
    },
    "executionInfo": {
     "elapsed": 17401,
     "status": "ok",
     "timestamp": 1748731493380,
     "user": {
      "displayName": "Adnan Alaref",
      "userId": "03256264963634723986"
     },
     "user_tz": -180
    },
    "id": "qnWpCIueSm8e",
    "outputId": "44f37f26-ef4c-4cba-8bc6-1c83cad277da",
    "papermill": {
     "duration": 8.605715,
     "end_time": "2025-05-31T23:56:14.622365",
     "exception": false,
     "start_time": "2025-05-31T23:56:06.016650",
     "status": "completed"
    },
    "tags": []
   },
   "outputs": [
    {
     "name": "stdout",
     "output_type": "stream",
     "text": [
      "Loaded successfully with allow_pickle=True:\n",
      "Mean Squared Error on test data: 0.02\n"
     ]
    },
    {
     "data": {
      "image/png": "[encoded data removed]",
      "text/plain": [
       "<Figure size 1000x800 with 12 Axes>"
      ]
     },
     "metadata": {},
     "output_type": "display_data"
    }
   ],
   "source": [
    "# Define a function to load previously saved data arrays\n",
    "def load_data():\n",
    "  try:\n",
    "    # Load the features and labels from .npy files\n",
    "    X = np.load(r'/kaggle/working/Datasets/X.npy',allow_pickle=True)\n",
    "    y = np.load(r'/kaggle/working/Datasets/y.npy',allow_pickle=True)\n",
    "    print(\"Loaded successfully with allow_pickle=True:\")\n",
    "\n",
    "    # Normalize pixel values to range [0, 1]\n",
    "    X = X / 255.0\n",
    "    return X ,y\n",
    "\n",
    "  except Exception as e:\n",
    "    # Print error message if loading fails\n",
    "    print(\"Unexpected error:\", e)\n",
    "\n",
    "\n",
    "# Load the dataset\n",
    "data = load_data()\n",
    "if data:\n",
    "  X ,y = data\n",
    "else :\n",
    "  raise RuntimeError(\"Failed to load data.\")\n",
    "\n",
    "\n",
    "# Split the dataset into training and testing sets (80% train, 20% test)\n",
    "X_train ,X_test = train_test_split(X ,test_size=0.2 ,random_state=42)\n",
    "\n",
    "\n",
    "# Define and train an autoencoder using a Multi-layer Perceptron (MLP)\n",
    "autoencoder = MLPRegressor(\n",
    "    # Input (784) → Hidden (128) → Hidden (64) → Latent (32) → Hidden (64) → Hidden (128) → Output (784)\n",
    "    hidden_layer_sizes=(128,64,32,64,128),  # encoder → bottleneck → decoder\n",
    "    activation='relu',\n",
    "    solver='adam',\n",
    "    max_iter=5000,\n",
    "    random_state=42)\n",
    "autoencoder.fit(X_train, X_train)  # Target is the input itself (unsupervised)\n",
    "\n",
    "\n",
    "# Reconstruct test images using the trained autoencoder\n",
    "X_test_reconstructed = autoencoder.predict(X_test)\n",
    "\n",
    "mse = mean_squared_error(X_test ,X_test_reconstructed)\n",
    "print(f\"Mean Squared Error on test data: {mse:.2f}\")\n",
    "\n",
    "\n",
    "# Visualize original and reconstructed images\n",
    "n = 6 # Number of images to display\n",
    "plt.figure(figsize = (10,8))\n",
    "for i in range(n):\n",
    "  # Original image\n",
    "  ax = plt.subplot(2, n, i+1)  # 1 rows, 5 cols, position i+1\n",
    "  plt.imshow(X_test[i].reshape(28,28),cmap='gray')\n",
    "  ax.set_title(\"Original\")\n",
    "  ax.axis('off')\n",
    "\n",
    "  # Reconstructed image\n",
    "  ax = plt.subplot(2, n, i + 1 + n)\n",
    "  plt.imshow(X_test_reconstructed[i].reshape(28,28),cmap='gray')\n",
    "  ax.set_title(\"Reconstructed\")\n",
    "  ax.axis('off')\n",
    "\n",
    "plt.tight_layout()\n",
    "plt.show()"
   ]
  },
  {
   "cell_type": "markdown",
   "id": "9b1215c0",
   "metadata": {
    "id": "Lei5F2S7rS4m",
    "papermill": {
     "duration": 0.003223,
     "end_time": "2025-05-31T23:56:14.629431",
     "exception": false,
     "start_time": "2025-05-31T23:56:14.626208",
     "status": "completed"
    },
    "tags": []
   },
   "source": [
    "# 🧠 Final Thoughts\n",
    "\n",
    "In this notebook, we successfully built and evaluated a basic Autoencoder model to compress and reconstruct image data — all using **unsupervised learning** 🔄. This demonstrates how machines can learn meaningful patterns and structures without labels.\n",
    "\n",
    "### 🚀 What We Achieved:\n",
    "- Learned the **core concepts** behind Autoencoders.\n",
    "- Implemented a working pipeline using **MNIST digits**.\n",
    "- Trained a simple MLP-based Autoencoder to **reconstruct input images**.\n",
    "- Measured reconstruction quality using **Mean Squared Error**.\n",
    "- Visualized the difference between **original and generated images** 🔍.\n",
    "\n",
    "Autoencoders lay the foundation for many advanced architectures like **Variational Autoencoders (VAEs)** and **Generative Adversarial Networks (GANs)**. They are essential tools in:\n",
    "- ✅ Feature extraction\n",
    "- ✅ Denoising\n",
    "- ✅ Compression\n",
    "- ✅ Anomaly detection\n",
    "\n",
    "---\n"
   ]
  },
  {
   "cell_type": "markdown",
   "id": "407d3dc6",
   "metadata": {
    "id": "6-ypxI9lpJKB",
    "papermill": {
     "duration": 0.003133,
     "end_time": "2025-05-31T23:56:14.635971",
     "exception": false,
     "start_time": "2025-05-31T23:56:14.632838",
     "status": "completed"
    },
    "tags": []
   },
   "source": [
    "<a id=\"Import\"></a>\n",
    "<p style=\"background-color: #000000; font-family: 'Verdana', sans-serif; color: #FFFFFF; font-size: 160%; text-align: center; border-radius: 25px; padding: 12px 20px; margin-top: 20px; border: 2px solid transparent; background-image: linear-gradient(black, black), linear-gradient(45deg, #FF00FF, #00FFFF, #FFFF00, #FF4500); background-origin: border-box; background-clip: content-box, border-box; box-shadow: 0px 4px 20px rgba(255, 105, 180, 0.8);\">\n",
    "   Thanks & Upvote ❤️</p>"
   ]
  }
 ],
 "metadata": {
  "colab": {
   "authorship_tag": "ABX9TyPDn73FwFkTNHoVgDYHCVwT",
   "mount_file_id": "1DU7Q6qZZkC6otIU-7GSXR-CY1DWgCxGn",
   "provenance": []
  },
  "kaggle": {
   "accelerator": "none",
   "dataSources": [],
   "dockerImageVersionId": 31040,
   "isGpuEnabled": false,
   "isInternetEnabled": true,
   "language": "python",
   "sourceType": "notebook"
  },
  "kernelspec": {
   "display_name": "Python 3",
   "language": "python",
   "name": "python3"
  },
  "language_info": {
   "codemirror_mode": {
    "name": "ipython",
    "version": 3
   },
   "file_extension": ".py",
   "mimetype": "text/x-python",
   "name": "python",
   "nbconvert_exporter": "python",
   "pygments_lexer": "ipython3",
   "version": "3.11.11"
  },
  "papermill": {
   "default_parameters": {},
   "duration": 74.093494,
   "end_time": "2025-05-31T23:56:17.533873",
   "environment_variables": {},
   "exception": null,
   "input_path": "__notebook__.ipynb",
   "output_path": "__notebook__.ipynb",
   "parameters": {},
   "start_time": "2025-05-31T23:55:03.440379",
   "version": "2.6.0"
  }
 },
 "nbformat": 4,
 "nbformat_minor": 5
}
