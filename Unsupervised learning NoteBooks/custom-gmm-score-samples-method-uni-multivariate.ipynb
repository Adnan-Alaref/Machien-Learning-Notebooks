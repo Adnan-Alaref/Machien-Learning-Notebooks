{
 "cells": [
  {
   "cell_type": "markdown",
   "id": "f55ffa12",
   "metadata": {
    "id": "TXA7kdU1TG5e",
    "papermill": {
     "duration": 0.006076,
     "end_time": "2025-06-29T21:56:43.906603",
     "exception": false,
     "start_time": "2025-06-29T21:56:43.900527",
     "status": "completed"
    },
    "tags": []
   },
   "source": [
    "<div style=\"background-color: black; color: white; padding: 10px;text-align: center;\">\n",
    "  <strong>Date Published:</strong> June 30, 2025 <strong>Author:</strong> Adnan Alaref\n",
    "</div>"
   ]
  },
  {
   "cell_type": "markdown",
   "id": "7b4d24ba",
   "metadata": {
    "id": "oe4ZuM1QprgS",
    "papermill": {
     "duration": 0.00504,
     "end_time": "2025-06-29T21:56:43.917264",
     "exception": false,
     "start_time": "2025-06-29T21:56:43.912224",
     "status": "completed"
    },
    "tags": []
   },
   "source": [
    "# 🎯 Goal\n",
    "\n",
    "The goal of this notebook is to gain a deep understanding of the internal mechanics of **Gaussian Mixture Models (GMMs)** by:\n",
    "\n",
    "- Generating synthetic **univariate and multivariate** datasets\n",
    "- Fitting GMMs using `sklearn.mixture.GaussianMixture`\n",
    "- Implementing custom versions of the `score_samples()` method from scratch for both univariate and multivariate cases\n",
    "- Validating our implementations by comparing against sklearn’s built-in log-likelihood outputs"
   ]
  },
  {
   "cell_type": "markdown",
   "id": "8267ce48",
   "metadata": {
    "id": "IsJ5k0iMTGx2",
    "papermill": {
     "duration": 0.004828,
     "end_time": "2025-06-29T21:56:43.927195",
     "exception": false,
     "start_time": "2025-06-29T21:56:43.922367",
     "status": "completed"
    },
    "tags": []
   },
   "source": [
    "# **◍ Step 1: Introduction.**"
   ]
  },
  {
   "cell_type": "markdown",
   "id": "f816d75e",
   "metadata": {
    "id": "qv_jypL4vZdO",
    "papermill": {
     "duration": 0.004901,
     "end_time": "2025-06-29T21:56:43.937084",
     "exception": false,
     "start_time": "2025-06-29T21:56:43.932183",
     "status": "completed"
    },
    "tags": []
   },
   "source": [
    "✅ 1. Gaussian Mixture Model (GMM) Probability Density Function\n",
    "The probability of a data point x under a GMM is:  \n",
    "For K components:\n",
    "\n",
    "$$\n",
    "p(x) = \\sum_{k=1}^{K} \\pi_k \\cdot \\mathcal{N}(x \\mid \\mu_k, \\Sigma_k)\n",
    "$$\n",
    "\n",
    "Where:\n",
    "* πk: mixing coefficient, ∑πₖ=1 , πₖ > 0\n",
    "* μk: mean of component 𝙺\n",
    "* Σk: covariance matrix of component 𝙺\n",
    "* N(x∣μₖ,Σₖ​): multivariate normal density.\n",
    "\n",
    "---\n",
    "\n",
    "**The Probability Density Function (PDF) of a multivariate (or univariate) normal distribution.**\n",
    "\n",
    "✅ 1. Univariate Normal Distribution (1D)  \n",
    "If x ∈ ℝ, then:\n",
    "$$\n",
    "f(x \\mid \\mu, \\sigma^2) = \\frac{1}{\\sqrt{2\\pi\\sigma^2}} \\cdot \\exp\\left( -\\frac{(x - \\mu)^2}{2\\sigma^2} \\right)\n",
    "$$\n",
    "Where:\n",
    "\n",
    "* μ is the mean\n",
    "* σ² is the variance\n",
    "* σ is the standard deviation\n",
    "\n",
    "---\n",
    "\n",
    "✅ 2. Multivariate Normal Distribution (d-dimensional)\n",
    "If x∈R d, then:\n",
    "\n",
    "$$\n",
    "f(\\mathbf{x} \\mid \\boldsymbol{\\mu}, \\boldsymbol{\\Sigma}) =\n",
    "\\frac{1}{(2\\pi)^{d/2} \\cdot |\\boldsymbol{\\Sigma}|^{1/2}} \\cdot\n",
    "\\exp\\left( -\\frac{1}{2} (\\mathbf{x} - \\boldsymbol{\\mu})^\\top \\boldsymbol{\\Sigma}^{-1} (\\mathbf{x} - \\boldsymbol{\\mu}) \\right)\n",
    "$$\n",
    "\n",
    "Where:\n",
    "\n",
    "* x is a d-dimensional vector\n",
    "* μ is the mean vector (d,)\n",
    "* Σ is the covariance matrix (d × d)\n",
    "* |Σ| is the determinant of the covariance matrix\n",
    "* Σ⁻¹ is the inverse of the covariance matrix\n",
    "\n"
   ]
  },
  {
   "cell_type": "markdown",
   "id": "3c24a459",
   "metadata": {
    "id": "lZZ2O2SNTyaf",
    "papermill": {
     "duration": 0.004781,
     "end_time": "2025-06-29T21:56:43.946950",
     "exception": false,
     "start_time": "2025-06-29T21:56:43.942169",
     "status": "completed"
    },
    "tags": []
   },
   "source": [
    "## **📝 Notes For Code:**\n",
    "* **`.reval() Method`**\n",
    "  - Flattens the array to 1D, shape (n_components,)Same as .reshape(-1)\n",
    "  - Useful to ensure consistent shape for broadcasting, plotting, or element-wise math\n",
    "\n",
    "* **`.einsum('ij,jk,ik->i', diff, inv_cov, diff)`**\n",
    "  - This computing the __Mahalanobis distance squared__ for each sample vector in **diff** (X - μ), given the __inverse covariance matrix__ .\n",
    "  - Let's break it down:    \n",
    "  - **Given:**\n",
    "\n",
    "    - \\(𝕩\\): a sample point (vector)  \n",
    "    - \\(𝛍\\): the mean vector of the distribution  \n",
    "    - \\(𝚺\\): the covariance matrix  \n",
    "\n",
    "  - **The Mahalanobis distance is:**\n",
    "\n",
    "    $$\n",
    "    D_M(\\mathbf{x}) = \\sqrt{(\\mathbf{x} - \\boldsymbol{\\mu})^T \\boldsymbol{\\Sigma}^{-1} (\\mathbf{x} - \\boldsymbol{\\mu})}\n",
    "    $$\n",
    "\n",
    "  - **Squaring it gives:**\n",
    "\n",
    "  $$\n",
    "  D_M^2(\\mathbf{x}) = (\\mathbf{x} - \\boldsymbol{\\mu})^T \\boldsymbol{\\Sigma}^{-1} (\\mathbf{x} - \\boldsymbol{\\mu})\n",
    "  $$\n",
    "\n",
    "  - 🔹 Explanation of np.einsum('ij,jk,ik->i', diff, inv_cov, diff):\n",
    "    - `ij` : rows i of diff (shape (n_samples, n_features))\n",
    "\n",
    "    - `jk` : inv_cov matrix (shape (n_features, n_features))\n",
    "\n",
    "    - `ik` : again diff (same as first, reused)   \n",
    "   ✅ This is what's being computed — but **for many samples at once.**\n"
   ]
  },
  {
   "cell_type": "markdown",
   "id": "26539ce4",
   "metadata": {
    "id": "XDJLOvO5TaHo",
    "papermill": {
     "duration": 0.004759,
     "end_time": "2025-06-29T21:56:43.956673",
     "exception": false,
     "start_time": "2025-06-29T21:56:43.951914",
     "status": "completed"
    },
    "tags": []
   },
   "source": [
    "# **◍ Step 2: Import Librares.**"
   ]
  },
  {
   "cell_type": "code",
   "execution_count": 1,
   "id": "df6904b5",
   "metadata": {
    "execution": {
     "iopub.execute_input": "2025-06-29T21:56:43.968510Z",
     "iopub.status.busy": "2025-06-29T21:56:43.967686Z",
     "iopub.status.idle": "2025-06-29T21:56:46.296613Z",
     "shell.execute_reply": "2025-06-29T21:56:46.295614Z"
    },
    "executionInfo": {
     "elapsed": 12,
     "status": "ok",
     "timestamp": 1751233835287,
     "user": {
      "displayName": "Adnan Alaref",
      "userId": "03256264963634723986"
     },
     "user_tz": -180
    },
    "id": "O0DBICAGTXj6",
    "papermill": {
     "duration": 2.336842,
     "end_time": "2025-06-29T21:56:46.298402",
     "exception": false,
     "start_time": "2025-06-29T21:56:43.961560",
     "status": "completed"
    },
    "tags": []
   },
   "outputs": [],
   "source": [
    "import numpy as np\n",
    "import matplotlib.pyplot as plt\n",
    "from sklearn.datasets import make_blobs\n",
    "from sklearn.mixture import GaussianMixture\n",
    "\n",
    "import warnings\n",
    "warnings.filterwarnings(action='ignore')\n",
    "warnings.simplefilter(action='ignore' ,category=FutureWarning)"
   ]
  },
  {
   "cell_type": "markdown",
   "id": "08976dff",
   "metadata": {
    "id": "e_rdc-vhTUb6",
    "papermill": {
     "duration": 0.004924,
     "end_time": "2025-06-29T21:56:46.308577",
     "exception": false,
     "start_time": "2025-06-29T21:56:46.303653",
     "status": "completed"
    },
    "tags": []
   },
   "source": [
    "# **◍ Step 3: Generate Synthetic DataSet(Multivariate).**"
   ]
  },
  {
   "cell_type": "code",
   "execution_count": 2,
   "id": "41f4efab",
   "metadata": {
    "execution": {
     "iopub.execute_input": "2025-06-29T21:56:46.320110Z",
     "iopub.status.busy": "2025-06-29T21:56:46.319670Z",
     "iopub.status.idle": "2025-06-29T21:56:46.330415Z",
     "shell.execute_reply": "2025-06-29T21:56:46.329368Z"
    },
    "executionInfo": {
     "elapsed": 23,
     "status": "ok",
     "timestamp": 1751233838106,
     "user": {
      "displayName": "Adnan Alaref",
      "userId": "03256264963634723986"
     },
     "user_tz": -180
    },
    "id": "u8oZrRjlZkAz",
    "outputId": "900ba111-8ac3-4320-8d0c-11a4c3255876",
    "papermill": {
     "duration": 0.018194,
     "end_time": "2025-06-29T21:56:46.331846",
     "exception": false,
     "start_time": "2025-06-29T21:56:46.313652",
     "status": "completed"
    },
    "tags": []
   },
   "outputs": [
    {
     "name": "stdout",
     "output_type": "stream",
     "text": [
      "Dataset Shape : (400, 2) - Ground_Truth shape : (400,)\n",
      "\n",
      "Explore 5 Rows From Dataset : \n",
      " [[-5.12894273  9.83618863]\n",
      " [-9.08407082  7.05079935]\n",
      " [ 5.61499857  1.8261123 ]\n",
      " [ 5.21076935  3.10873532]] \n",
      "\n",
      "Explore True_Labels:  [0 3 1 1 0 0 3 0 1 3 1 3 1 2] \n",
      "\n"
     ]
    }
   ],
   "source": [
    "data, true_labels = make_blobs(n_samples=400, n_features=2 ,centers=4, cluster_std=1.0, random_state=42)\n",
    "print(f\"Dataset Shape : {data.shape} - Ground_Truth shape : {true_labels.shape}\\n\")\n",
    "print(\"Explore 5 Rows From Dataset : \\n\",data[1:5],\"\\n\")\n",
    "print(\"Explore True_Labels: \",true_labels[1:15],\"\\n\")"
   ]
  },
  {
   "cell_type": "markdown",
   "id": "38bcb8a7",
   "metadata": {
    "id": "t6KGvT-dM4f6",
    "papermill": {
     "duration": 0.004909,
     "end_time": "2025-06-29T21:56:46.342597",
     "exception": false,
     "start_time": "2025-06-29T21:56:46.337688",
     "status": "completed"
    },
    "tags": []
   },
   "source": [
    "# **◍ Step 4: Generate Synthetic DataSet(Univariate).**"
   ]
  },
  {
   "cell_type": "code",
   "execution_count": 3,
   "id": "f46ef227",
   "metadata": {
    "execution": {
     "iopub.execute_input": "2025-06-29T21:56:46.353775Z",
     "iopub.status.busy": "2025-06-29T21:56:46.353498Z",
     "iopub.status.idle": "2025-06-29T21:56:46.360402Z",
     "shell.execute_reply": "2025-06-29T21:56:46.359487Z"
    },
    "executionInfo": {
     "elapsed": 19,
     "status": "ok",
     "timestamp": 1751233840745,
     "user": {
      "displayName": "Adnan Alaref",
      "userId": "03256264963634723986"
     },
     "user_tz": -180
    },
    "id": "9HdXkVx1MGiD",
    "outputId": "21bfbff4-e7f6-44bf-b20e-a13ae3910152",
    "papermill": {
     "duration": 0.014175,
     "end_time": "2025-06-29T21:56:46.361790",
     "exception": false,
     "start_time": "2025-06-29T21:56:46.347615",
     "status": "completed"
    },
    "tags": []
   },
   "outputs": [
    {
     "name": "stdout",
     "output_type": "stream",
     "text": [
      "Dataset Shape : (400, 1) - Ground_Truth shape : (400,)\n",
      "\n",
      "Explore 5 Rows From Dataset : \n",
      " [[-2.90130578]\n",
      " [ 9.67083974]\n",
      " [ 0.97064032]\n",
      " [ 9.27416892]] \n",
      "\n",
      "Explore True_Labels:  [0 3 1 1 0 0 3 0 1 3 1 3 1 2] \n",
      "\n"
     ]
    }
   ],
   "source": [
    "data1_d,true_labels1_d = make_blobs(n_samples=400, n_features=1, centers=4, cluster_std=1.0, random_state=42)\n",
    "print(f\"Dataset Shape : {data1_d.shape} - Ground_Truth shape : {true_labels1_d.shape}\\n\")\n",
    "print(\"Explore 5 Rows From Dataset : \\n\",data1_d[1:5],\"\\n\")\n",
    "print(\"Explore True_Labels: \",true_labels[1:15],\"\\n\")"
   ]
  },
  {
   "cell_type": "markdown",
   "id": "a1b4d2dc",
   "metadata": {
    "id": "PdJlVhUuM9P8",
    "papermill": {
     "duration": 0.004901,
     "end_time": "2025-06-29T21:56:46.372058",
     "exception": false,
     "start_time": "2025-06-29T21:56:46.367157",
     "status": "completed"
    },
    "tags": []
   },
   "source": [
    "# **◍ Step 5: Build GMM Model On(Multivariate Dataset).**"
   ]
  },
  {
   "cell_type": "code",
   "execution_count": 4,
   "id": "364711d2",
   "metadata": {
    "execution": {
     "iopub.execute_input": "2025-06-29T21:56:46.383985Z",
     "iopub.status.busy": "2025-06-29T21:56:46.383635Z",
     "iopub.status.idle": "2025-06-29T21:56:46.497235Z",
     "shell.execute_reply": "2025-06-29T21:56:46.496227Z"
    },
    "executionInfo": {
     "elapsed": 27,
     "status": "ok",
     "timestamp": 1751233027653,
     "user": {
      "displayName": "Adnan Alaref",
      "userId": "03256264963634723986"
     },
     "user_tz": -180
    },
    "id": "tiwyRICNNGSp",
    "outputId": "81aef2e6-ab0b-485c-948c-0ea2fcfa231b",
    "papermill": {
     "duration": 0.121445,
     "end_time": "2025-06-29T21:56:46.498792",
     "exception": false,
     "start_time": "2025-06-29T21:56:46.377347",
     "status": "completed"
    },
    "tags": []
   },
   "outputs": [
    {
     "name": "stdout",
     "output_type": "stream",
     "text": [
      "GaussianMixture(n_components=4, random_state=42)\n",
      "Log_likelihood = [-5.09812703 -7.67507046 -3.28714688 -3.52994779 -4.04572939] , Size = (400,)\n",
      "\n"
     ]
    }
   ],
   "source": [
    "MultivariateGMM = GaussianMixture(n_components=4, covariance_type='full', random_state=42)\n",
    "MultivariateGMM.fit(data)\n",
    "\n",
    "print(MultivariateGMM)\n",
    "log_likelihood = MultivariateGMM.score_samples(data)\n",
    "print(f\"Log_likelihood = {log_likelihood[:5]} , Size = {log_likelihood.shape}\\n\") # (400,)"
   ]
  },
  {
   "cell_type": "markdown",
   "id": "ce27dc52",
   "metadata": {
    "id": "L56A6uqJQygs",
    "papermill": {
     "duration": 0.005094,
     "end_time": "2025-06-29T21:56:46.509543",
     "exception": false,
     "start_time": "2025-06-29T21:56:46.504449",
     "status": "completed"
    },
    "tags": []
   },
   "source": [
    "## **🔹 5.1: Output Model Paramters : πk, μk, Σk**"
   ]
  },
  {
   "cell_type": "code",
   "execution_count": 5,
   "id": "8a426804",
   "metadata": {
    "execution": {
     "iopub.execute_input": "2025-06-29T21:56:46.521565Z",
     "iopub.status.busy": "2025-06-29T21:56:46.521194Z",
     "iopub.status.idle": "2025-06-29T21:56:46.528712Z",
     "shell.execute_reply": "2025-06-29T21:56:46.527444Z"
    },
    "executionInfo": {
     "elapsed": 16,
     "status": "ok",
     "timestamp": 1751233033129,
     "user": {
      "displayName": "Adnan Alaref",
      "userId": "03256264963634723986"
     },
     "user_tz": -180
    },
    "id": "VTHPNbedQjoQ",
    "outputId": "53a70099-c18c-45bd-c87c-c99c04478e79",
    "papermill": {
     "duration": 0.015352,
     "end_time": "2025-06-29T21:56:46.530194",
     "exception": false,
     "start_time": "2025-06-29T21:56:46.514842",
     "status": "completed"
    },
    "tags": []
   },
   "outputs": [
    {
     "name": "stdout",
     "output_type": "stream",
     "text": [
      "Means:  [[-2.63340741  9.0434803 ]\n",
      " [-6.88387179 -6.98398415]\n",
      " [ 4.74710337  2.01059427]\n",
      " [-8.92932115  7.38197498]]  ⟶ Shape:  (4, 2)\n",
      "\n",
      "Covariances:  [[[ 0.7493203   0.04400541]\n",
      "  [ 0.04400541  0.9872469 ]]\n",
      "\n",
      " [[ 1.02961821  0.09574043]\n",
      "  [ 0.09574043  0.98277206]]\n",
      "\n",
      " [[ 1.07033552 -0.09844297]\n",
      "  [-0.09844297  0.85003382]]\n",
      "\n",
      " [[ 0.98717804 -0.14616473]\n",
      "  [-0.14616473  1.00927728]]]  ⟶ Shape:  (4, 2, 2)\n",
      "\n",
      "Mixture wheights:  [0.25001131 0.25       0.25       0.24998869]  ⟶ Shape :  (4,)\n"
     ]
    }
   ],
   "source": [
    "print(\"Means: \", MultivariateGMM.means_ , \" ⟶ Shape: \",MultivariateGMM.means_.shape)\n",
    "print(\"\\nCovariances: \", MultivariateGMM.covariances_,\" ⟶ Shape: \",MultivariateGMM.covariances_.shape)\n",
    "print(\"\\nMixture wheights: \",MultivariateGMM.weights_,\" ⟶ Shape : \",MultivariateGMM.weights_.shape)"
   ]
  },
  {
   "cell_type": "markdown",
   "id": "c232647d",
   "metadata": {
    "id": "3lv0cE4JTJsc",
    "papermill": {
     "duration": 0.00539,
     "end_time": "2025-06-29T21:56:46.541304",
     "exception": false,
     "start_time": "2025-06-29T21:56:46.535914",
     "status": "completed"
    },
    "tags": []
   },
   "source": [
    "## **🔹 5.2: Custom Implemintation To Score_sample For Multivariate Data In GMM.**\n",
    "* **The Formula:**\n",
    "$$\n",
    "f(\\mathbf{x} \\mid \\boldsymbol{\\mu}, \\boldsymbol{\\Sigma}) =\n",
    "\\frac{1}{(2\\pi)^{d/2} \\cdot |\\boldsymbol{\\Sigma}|^{1/2}} \\cdot\n",
    "\\exp\\left( -\\frac{1}{2} (\\mathbf{x} - \\boldsymbol{\\mu})^\\top \\boldsymbol{\\Sigma}^{-1} (\\mathbf{x} - \\boldsymbol{\\mu}) \\right)\n",
    "$$"
   ]
  },
  {
   "cell_type": "code",
   "execution_count": 6,
   "id": "219168b1",
   "metadata": {
    "execution": {
     "iopub.execute_input": "2025-06-29T21:56:46.553435Z",
     "iopub.status.busy": "2025-06-29T21:56:46.553123Z",
     "iopub.status.idle": "2025-06-29T21:56:46.559905Z",
     "shell.execute_reply": "2025-06-29T21:56:46.559104Z"
    },
    "executionInfo": {
     "elapsed": 8,
     "status": "ok",
     "timestamp": 1751233036000,
     "user": {
      "displayName": "Adnan Alaref",
      "userId": "03256264963634723986"
     },
     "user_tz": -180
    },
    "id": "jEl6XlDoS9Ox",
    "papermill": {
     "duration": 0.01457,
     "end_time": "2025-06-29T21:56:46.561333",
     "exception": false,
     "start_time": "2025-06-29T21:56:46.546763",
     "status": "completed"
    },
    "tags": []
   },
   "outputs": [],
   "source": [
    "def our_score_samples_multivariate(gmm, X):\n",
    "  n_samples, n_features = X.shape\n",
    "  sum_likelihood = np.zeros(n_samples, dtype=np.float64)\n",
    "\n",
    "  for k in range(gmm.n_components):\n",
    "    mu = gmm.means_[k]\n",
    "    pi = gmm.weights_[k]\n",
    "    cov = gmm.covariances_[k]\n",
    "\n",
    "    # Add a tiny value for numerical stability\n",
    "    cov =cov + np.eye(n_features) * 1e-8\n",
    "\n",
    "    # Pre-compute determinant and inverse\n",
    "    det_cov = np.linalg.det(cov)\n",
    "    inv_cov = np.linalg.inv(cov)\n",
    "\n",
    "    # Compute Mahalanobis distance using einsum\n",
    "    diff = X - mu                           # shape (n_samples, n_features)\n",
    "    mdist = np.einsum('ij,jk,ik->i', diff, inv_cov, diff)  # shape (n_samples,)\n",
    "\n",
    "    # Compute multivariate normal density\n",
    "    norm_factor = np.sqrt((2 *np.pi) ** n_features * det_cov)\n",
    "    exp_term = np.exp(-0.5 * mdist)\n",
    "\n",
    "    # Total weighted likelihood for this component\n",
    "    probs = pi * (exp_term / norm_factor)\n",
    "\n",
    "    sum_likelihood +=probs\n",
    "\n",
    "  # Prevent log(0)\n",
    "  sum_likelihood = np.maximum(sum_likelihood,1e-300)\n",
    "  return np.log(sum_likelihood)"
   ]
  },
  {
   "cell_type": "markdown",
   "id": "9df0bc34",
   "metadata": {
    "id": "6MZoAONJTUJX",
    "papermill": {
     "duration": 0.005811,
     "end_time": "2025-06-29T21:56:46.572629",
     "exception": false,
     "start_time": "2025-06-29T21:56:46.566818",
     "status": "completed"
    },
    "tags": []
   },
   "source": [
    "## **🔹 5.3: Test Custom Score_sample Method.**"
   ]
  },
  {
   "cell_type": "code",
   "execution_count": 7,
   "id": "6b053ba2",
   "metadata": {
    "execution": {
     "iopub.execute_input": "2025-06-29T21:56:46.588293Z",
     "iopub.status.busy": "2025-06-29T21:56:46.587787Z",
     "iopub.status.idle": "2025-06-29T21:56:46.635849Z",
     "shell.execute_reply": "2025-06-29T21:56:46.634928Z"
    },
    "executionInfo": {
     "elapsed": 21,
     "status": "ok",
     "timestamp": 1751233040012,
     "user": {
      "displayName": "Adnan Alaref",
      "userId": "03256264963634723986"
     },
     "user_tz": -180
    },
    "id": "pqVAqkeXTDe2",
    "outputId": "740a658a-ae94-4aa8-9030-0dc4084f838d",
    "papermill": {
     "duration": 0.058987,
     "end_time": "2025-06-29T21:56:46.638216",
     "exception": false,
     "start_time": "2025-06-29T21:56:46.579229",
     "status": "completed"
    },
    "tags": []
   },
   "outputs": [
    {
     "name": "stdout",
     "output_type": "stream",
     "text": [
      "sklearn: [-5.09812703 -7.67507046 -3.28714688 -3.52994779 -4.04572939] Shape :  (400,)\n",
      "custom : [-5.09812702 -7.67507041 -3.28714689 -3.5299478  -4.04572939] Shape :  (400,)\n",
      "Custom implementation matches sklearn's results ✅\n"
     ]
    }
   ],
   "source": [
    "log_likelihood_custom = our_score_samples_multivariate(MultivariateGMM ,data)\n",
    "\n",
    "# Show insights\n",
    "print(\"sklearn:\", log_likelihood[:5] ,\"Shape : \",log_likelihood.shape)\n",
    "print(\"custom :\", log_likelihood_custom[:5],\"Shape : \",log_likelihood_custom.shape)\n",
    "\n",
    "# Correct way to compare floating-point arrays\n",
    "if log_likelihood.shape == log_likelihood_custom.shape:\n",
    "    if np.allclose(log_likelihood, log_likelihood_custom, atol=1e-5):\n",
    "        print(\"Custom implementation matches sklearn's results ✅\")\n",
    "    else:\n",
    "        print(\"❌ Not Match?.\")\n",
    "else:\n",
    "    print(\"❌ Shape mismatch:\", log_likelihood.shape, log_likelihood_custom.shape)"
   ]
  },
  {
   "cell_type": "markdown",
   "id": "ef36cb80",
   "metadata": {
    "id": "DAPtrt5ENGqo",
    "papermill": {
     "duration": 0.007026,
     "end_time": "2025-06-29T21:56:46.652944",
     "exception": false,
     "start_time": "2025-06-29T21:56:46.645918",
     "status": "completed"
    },
    "tags": []
   },
   "source": [
    "# **◍ Step 6: Build GMM Model On(Univariate Dataset).**"
   ]
  },
  {
   "cell_type": "code",
   "execution_count": 8,
   "id": "26716ae6",
   "metadata": {
    "execution": {
     "iopub.execute_input": "2025-06-29T21:56:46.666350Z",
     "iopub.status.busy": "2025-06-29T21:56:46.665261Z",
     "iopub.status.idle": "2025-06-29T21:56:46.685846Z",
     "shell.execute_reply": "2025-06-29T21:56:46.684988Z"
    },
    "executionInfo": {
     "elapsed": 20,
     "status": "ok",
     "timestamp": 1751233043069,
     "user": {
      "displayName": "Adnan Alaref",
      "userId": "03256264963634723986"
     },
     "user_tz": -180
    },
    "id": "CHJ_XTRYOpm3",
    "outputId": "481f30fa-a170-4c47-df85-6c723628771a",
    "papermill": {
     "duration": 0.029084,
     "end_time": "2025-06-29T21:56:46.687539",
     "exception": false,
     "start_time": "2025-06-29T21:56:46.658455",
     "status": "completed"
    },
    "tags": []
   },
   "outputs": [
    {
     "name": "stdout",
     "output_type": "stream",
     "text": [
      "GaussianMixture(n_components=4, random_state=42)\n",
      "Log_likelihood = [-2.31345486 -2.24354037 -2.4831697  -2.92316033 -2.30920551] , Size = (400,)\n",
      "\n"
     ]
    }
   ],
   "source": [
    "UnivariateGMM = GaussianMixture(n_components=4, covariance_type='full', random_state=42)\n",
    "UnivariateGMM.fit(data1_d)\n",
    "\n",
    "print(UnivariateGMM)\n",
    "log_likelihood_1d = UnivariateGMM.score_samples(data1_d)\n",
    "print(f\"Log_likelihood = {log_likelihood_1d[:5]} , Size = {log_likelihood_1d.shape}\\n\") # (400,)"
   ]
  },
  {
   "cell_type": "markdown",
   "id": "373df2d6",
   "metadata": {
    "id": "zbUrUW4DQ9OP",
    "papermill": {
     "duration": 0.009317,
     "end_time": "2025-06-29T21:56:46.702759",
     "exception": false,
     "start_time": "2025-06-29T21:56:46.693442",
     "status": "completed"
    },
    "tags": []
   },
   "source": [
    "## **🔹 6.1: Output Model Paramters : πk, μk, Σk**"
   ]
  },
  {
   "cell_type": "code",
   "execution_count": 9,
   "id": "b9e332d7",
   "metadata": {
    "execution": {
     "iopub.execute_input": "2025-06-29T21:56:46.718698Z",
     "iopub.status.busy": "2025-06-29T21:56:46.718256Z",
     "iopub.status.idle": "2025-06-29T21:56:46.724011Z",
     "shell.execute_reply": "2025-06-29T21:56:46.723222Z"
    },
    "executionInfo": {
     "elapsed": 17,
     "status": "ok",
     "timestamp": 1751233046117,
     "user": {
      "displayName": "Adnan Alaref",
      "userId": "03256264963634723986"
     },
     "user_tz": -180
    },
    "id": "eImlSSh3Q5xK",
    "outputId": "2416faa9-562e-4092-e7f2-766dec761ee4",
    "papermill": {
     "duration": 0.014131,
     "end_time": "2025-06-29T21:56:46.725484",
     "exception": false,
     "start_time": "2025-06-29T21:56:46.711353",
     "status": "completed"
    },
    "tags": []
   },
   "outputs": [
    {
     "name": "stdout",
     "output_type": "stream",
     "text": [
      "Means:  [[-2.65723445]\n",
      " [ 9.02407488]\n",
      " [ 4.59637423]\n",
      " [ 2.0172488 ]]  ⟶ Shape:  (4, 1)\n",
      "\n",
      "Covariances:  [[[0.82892192]]\n",
      "\n",
      " [[1.02251277]]\n",
      "\n",
      " [[0.8260163 ]]\n",
      "\n",
      " [[0.69948095]]]  ⟶ Shape:  (4, 1, 1)\n",
      "\n",
      "Mixture wheights:  [0.25095445 0.25961582 0.24316642 0.24626331]  ⟶ Shape :  (4,)\n"
     ]
    }
   ],
   "source": [
    "print(\"Means: \", UnivariateGMM.means_ , \" ⟶ Shape: \",UnivariateGMM.means_.shape)\n",
    "print(\"\\nCovariances: \", UnivariateGMM.covariances_,\" ⟶ Shape: \",UnivariateGMM.covariances_.shape)\n",
    "print(\"\\nMixture wheights: \",UnivariateGMM.weights_,\" ⟶ Shape : \",UnivariateGMM.weights_.shape)"
   ]
  },
  {
   "cell_type": "markdown",
   "id": "aa06be77",
   "metadata": {
    "id": "jb-YxLXNTx4k",
    "papermill": {
     "duration": 0.010257,
     "end_time": "2025-06-29T21:56:46.745064",
     "exception": false,
     "start_time": "2025-06-29T21:56:46.734807",
     "status": "completed"
    },
    "tags": []
   },
   "source": [
    "## **🔹 6.2: Custom Implemintation To Score_sample For Univariate Data In GMM.**\n",
    "* **The Formula:**\n",
    "$$\n",
    "f(x \\mid \\mu, \\sigma^2) = \\frac{1}{\\sqrt{2\\pi\\sigma^2}} \\cdot \\exp\\left( -\\frac{(x - \\mu)^2}{2\\sigma^2} \\right)\n",
    "$$"
   ]
  },
  {
   "cell_type": "code",
   "execution_count": 10,
   "id": "72f340fa",
   "metadata": {
    "execution": {
     "iopub.execute_input": "2025-06-29T21:56:46.764115Z",
     "iopub.status.busy": "2025-06-29T21:56:46.763407Z",
     "iopub.status.idle": "2025-06-29T21:56:46.769993Z",
     "shell.execute_reply": "2025-06-29T21:56:46.769052Z"
    },
    "executionInfo": {
     "elapsed": 19,
     "status": "ok",
     "timestamp": 1751233048932,
     "user": {
      "displayName": "Adnan Alaref",
      "userId": "03256264963634723986"
     },
     "user_tz": -180
    },
    "id": "u-fx9xHRwfC3",
    "papermill": {
     "duration": 0.017389,
     "end_time": "2025-06-29T21:56:46.772459",
     "exception": false,
     "start_time": "2025-06-29T21:56:46.755070",
     "status": "completed"
    },
    "tags": []
   },
   "outputs": [],
   "source": [
    "# Custom implementation of score_samples for univariate GMM\n",
    "def our_score_samples_1d(gmm, x):\n",
    "    def gaussian_density(x, mu, std):\n",
    "        return (1 / (np.sqrt(2 * np.pi) * std)) * \\\n",
    "               np.exp(-0.5 * ((x - mu) / std) ** 2)\n",
    "\n",
    "    sum_likelihood = np.zeros_like(x, dtype=np.float64)\n",
    "\n",
    "    for mu, variance, pi in zip(gmm.means_.ravel(), gmm.covariances_.ravel(), gmm.weights_):\n",
    "        std = np.sqrt(max(variance, 1e-8))  # Avoid zero std\n",
    "        probs = pi * gaussian_density(x, mu, std)\n",
    "        sum_likelihood += probs\n",
    "\n",
    "    # Avoid log(0)\n",
    "    sum_likelihood = np.maximum(sum_likelihood, 1e-300)\n",
    "    return np.log(sum_likelihood).ravel()"
   ]
  },
  {
   "cell_type": "markdown",
   "id": "a6138ec5",
   "metadata": {
    "id": "oGDn2wxnnLsO",
    "papermill": {
     "duration": 0.009775,
     "end_time": "2025-06-29T21:56:46.791470",
     "exception": false,
     "start_time": "2025-06-29T21:56:46.781695",
     "status": "completed"
    },
    "tags": []
   },
   "source": [
    "## **🔹 6.3: Test Custom Score_sample Method.**"
   ]
  },
  {
   "cell_type": "code",
   "execution_count": 11,
   "id": "d61ef62a",
   "metadata": {
    "execution": {
     "iopub.execute_input": "2025-06-29T21:56:46.810256Z",
     "iopub.status.busy": "2025-06-29T21:56:46.809916Z",
     "iopub.status.idle": "2025-06-29T21:56:46.818510Z",
     "shell.execute_reply": "2025-06-29T21:56:46.817275Z"
    },
    "executionInfo": {
     "elapsed": 7,
     "status": "ok",
     "timestamp": 1751233051650,
     "user": {
      "displayName": "Adnan Alaref",
      "userId": "03256264963634723986"
     },
     "user_tz": -180
    },
    "id": "90WnXQ3wRa-0",
    "outputId": "0323f312-b59b-454d-99ce-671f2d905c5b",
    "papermill": {
     "duration": 0.019715,
     "end_time": "2025-06-29T21:56:46.819848",
     "exception": false,
     "start_time": "2025-06-29T21:56:46.800133",
     "status": "completed"
    },
    "tags": []
   },
   "outputs": [
    {
     "name": "stdout",
     "output_type": "stream",
     "text": [
      "Sklearn: [-2.31345486 -2.24354037 -2.4831697  -2.92316033 -2.30920551] Shape :  (400,)\n",
      "Custom : [-2.31345486 -2.24354037 -2.4831697  -2.92316033 -2.30920551] Shape :  (400,)\n",
      "Custom implementation matches sklearn's results ✅\n"
     ]
    }
   ],
   "source": [
    "log_likelihood_1d_custom = our_score_samples_1d(UnivariateGMM ,data1_d)\n",
    "\n",
    "print(\"Sklearn:\", log_likelihood_1d[:5] ,\"Shape : \",log_likelihood_1d.shape)\n",
    "print(\"Custom :\", log_likelihood_1d_custom[:5],\"Shape : \",log_likelihood_1d_custom.shape)\n",
    "\n",
    "# Correct way to compare floating-point arrays\n",
    "if log_likelihood_1d.shape == log_likelihood_1d_custom.shape:\n",
    "    if np.allclose(log_likelihood_1d, log_likelihood_1d_custom, atol=1e-5):\n",
    "        print(\"Custom implementation matches sklearn's results ✅\")\n",
    "    else:\n",
    "        print(\"❌ Not Match?.\")\n",
    "else:\n",
    "    print(\"❌ Shape mismatch:\", log_likelihood_1d.shape, log_likelihood_1d_custom.shape)"
   ]
  },
  {
   "cell_type": "markdown",
   "id": "af532d51",
   "metadata": {
    "id": "KdSGyFkrqyPU",
    "papermill": {
     "duration": 0.005234,
     "end_time": "2025-06-29T21:56:46.831005",
     "exception": false,
     "start_time": "2025-06-29T21:56:46.825771",
     "status": "completed"
    },
    "tags": []
   },
   "source": [
    "## ✅ Conclusion\n",
    "\n",
    "In this notebook, we thoroughly explored Gaussian Mixture Models (GMMs) by implementing and validating core functionality from scratch.\n",
    "\n",
    "### 🔧 What We Did:\n",
    "- Built and visualized synthetic **univariate and multivariate datasets**\n",
    "- Fit models using `sklearn.mixture.GaussianMixture`\n",
    "- Implemented **custom `score_samples()`** functions for:\n",
    "  - **Univariate GMMs** using simple Gaussian PDFs\n",
    "  - **Multivariate GMMs** using full covariance matrices and Mahalanobis distance\n",
    "- Compared our custom outputs with sklearn’s built-in results and verified their correctness\n",
    "\n",
    "### 🧠 Key Takeaways:\n",
    "- GMMs estimate **data likelihood** as a mixture of multiple Gaussian components, weighted by prior probabilities.\n",
    "- Custom implementation of `score_samples()` builds deep intuition for:\n",
    "  - Log-likelihood computation\n",
    "  - Multivariate density via Mahalanobis distance\n",
    "  - Numerical stability (e.g., `log(1e-300)` instead of `log(0)`)\n",
    "- Matching sklearn's results demonstrates a strong understanding of **probabilistic models**, and how they differ from hard clustering (e.g., k-means)."
   ]
  },
  {
   "cell_type": "markdown",
   "id": "5ee32c2a",
   "metadata": {
    "id": "gz16G1_1oFI9",
    "papermill": {
     "duration": 0.005173,
     "end_time": "2025-06-29T21:56:46.841778",
     "exception": false,
     "start_time": "2025-06-29T21:56:46.836605",
     "status": "completed"
    },
    "tags": []
   },
   "source": [
    "<a id=\"Import\"></a>\n",
    "<p style=\"background-color: #000000; font-family: 'Verdana', sans-serif; color: #FFFFFF; font-size: 160%; text-align: center; border-radius: 25px; padding: 12px 20px; margin-top: 20px; border: 2px solid transparent; background-image: linear-gradient(black, black), linear-gradient(45deg, #FF00FF, #00FFFF, #FFFF00, #FF4500); background-origin: border-box; background-clip: content-box, border-box; box-shadow: 0px 4px 20px rgba(255, 105, 180, 0.8);\">\n",
    "   Thanks & Upvote ❤️</p>"
   ]
  }
 ],
 "metadata": {
  "colab": {
   "authorship_tag": "ABX9TyM5sS3eU5gE26zufr5ZciUx",
   "provenance": []
  },
  "kaggle": {
   "accelerator": "none",
   "dataSources": [],
   "dockerImageVersionId": 31040,
   "isGpuEnabled": false,
   "isInternetEnabled": true,
   "language": "python",
   "sourceType": "notebook"
  },
  "kernelspec": {
   "display_name": "Python 3",
   "language": "python",
   "name": "python3"
  },
  "language_info": {
   "codemirror_mode": {
    "name": "ipython",
    "version": 3
   },
   "file_extension": ".py",
   "mimetype": "text/x-python",
   "name": "python",
   "nbconvert_exporter": "python",
   "pygments_lexer": "ipython3",
   "version": "3.11.11"
  },
  "papermill": {
   "default_parameters": {},
   "duration": 8.38521,
   "end_time": "2025-06-29T21:56:47.468358",
   "environment_variables": {},
   "exception": null,
   "input_path": "__notebook__.ipynb",
   "output_path": "__notebook__.ipynb",
   "parameters": {},
   "start_time": "2025-06-29T21:56:39.083148",
   "version": "2.6.0"
  }
 },
 "nbformat": 4,
 "nbformat_minor": 5
}
