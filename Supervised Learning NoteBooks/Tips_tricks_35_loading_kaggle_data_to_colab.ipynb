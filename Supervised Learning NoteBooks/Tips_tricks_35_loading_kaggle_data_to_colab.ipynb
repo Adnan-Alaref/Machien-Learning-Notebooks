{
  "cells": [
    {
      "cell_type": "markdown",
      "metadata": {},
      "source": [
        "<a href=\"https://colab.research.google.com/github/bnsreenu/python_for_microscopists/blob/master/Tips_tricks_35_loading_kaggle_data_to_colab.ipynb\" target=\"_parent\"><img src=\"https://colab.research.google.com/assets/colab-badge.svg\" alt=\"Open In Colab\"/></a>"
      ]
    },
    {
      "cell_type": "markdown",
      "metadata": {
        "id": "SyZxTF7lf7jk"
      },
      "source": [
        "**Downloading Kaggle data sets directly into Colab**"
      ]
    },
    {
      "cell_type": "markdown",
      "metadata": {
        "id": "7lvdgeEMgCoy"
      },
      "source": [
        "Install the kaggle python library"
      ]
    },
    {
      "cell_type": "code",
      "execution_count": 1,
      "metadata": {
        "colab": {
          "base_uri": "https://localhost:8080/"
        },
        "id": "KlwSaX9akGfG",
        "outputId": "9a3eff5a-32c0-43f6-ff9e-ec8eda9d68e9"
      },
      "outputs": [
        {
          "name": "stdout",
          "output_type": "stream",
          "text": [
            "Requirement already satisfied: kaggle in /usr/local/lib/python3.7/dist-packages (1.5.12)\n",
            "Requirement already satisfied: python-dateutil in /usr/local/lib/python3.7/dist-packages (from kaggle) (2.8.2)\n",
            "Requirement already satisfied: python-slugify in /usr/local/lib/python3.7/dist-packages (from kaggle) (6.1.2)\n",
            "Requirement already satisfied: certifi in /usr/local/lib/python3.7/dist-packages (from kaggle) (2021.10.8)\n",
            "Requirement already satisfied: six>=1.10 in /usr/local/lib/python3.7/dist-packages (from kaggle) (1.15.0)\n",
            "Requirement already satisfied: urllib3 in /usr/local/lib/python3.7/dist-packages (from kaggle) (1.24.3)\n",
            "Requirement already satisfied: requests in /usr/local/lib/python3.7/dist-packages (from kaggle) (2.23.0)\n",
            "Requirement already satisfied: tqdm in /usr/local/lib/python3.7/dist-packages (from kaggle) (4.64.0)\n",
            "Requirement already satisfied: text-unidecode>=1.3 in /usr/local/lib/python3.7/dist-packages (from python-slugify->kaggle) (1.3)\n",
            "Requirement already satisfied: chardet<4,>=3.0.2 in /usr/local/lib/python3.7/dist-packages (from requests->kaggle) (3.0.4)\n",
            "Requirement already satisfied: idna<3,>=2.5 in /usr/local/lib/python3.7/dist-packages (from requests->kaggle) (2.10)\n"
          ]
        }
      ],
      "source": [
        "! pip install kaggle"
      ]
    },
    {
      "cell_type": "markdown",
      "metadata": {
        "id": "rw0DfSAggHED"
      },
      "source": [
        "Mount the Google drive so you can store your kaggle API credentials for future use"
      ]
    },
    {
      "cell_type": "code",
      "execution_count": 2,
      "metadata": {
        "colab": {
          "base_uri": "https://localhost:8080/"
        },
        "id": "NGineQt7dErh",
        "outputId": "e2941fae-a1f6-4ee9-929a-400c10df8848"
      },
      "outputs": [
        {
          "name": "stdout",
          "output_type": "stream",
          "text": [
            "Mounted at /content/drive\n"
          ]
        }
      ],
      "source": [
        "from google.colab import drive\n",
        "drive.mount('/content/drive')"
      ]
    },
    {
      "cell_type": "markdown",
      "metadata": {
        "id": "Rvmi3WbigOmT"
      },
      "source": [
        "Make a directory for kaggle at the temporary instance location on Colab drive.\n",
        "\n",
        "Download your kaggle API key (.json file). You can do this by going to your kaggle account page and clicking 'Create new API token' under the API section."
      ]
    },
    {
      "cell_type": "markdown",
      "metadata": {
        "id": "vhywUxLXgjBS"
      },
      "source": []
    },
    {
      "cell_type": "code",
      "execution_count": 3,
      "metadata": {
        "id": "ZTkKggcylXfa"
      },
      "outputs": [],
      "source": [
        "! mkdir ~/.kaggle"
      ]
    },
    {
      "cell_type": "markdown",
      "metadata": {
        "id": "rKv_7jNggXv7"
      },
      "source": [
        "If you want to copy the kaggle API credentials to the temporary location... (I recommend placing it on your Google Drive)"
      ]
    },
    {
      "cell_type": "code",
      "execution_count": null,
      "metadata": {
        "id": "DD56NrWmlb5V"
      },
      "outputs": [],
      "source": [
        "#! cp kaggle.json ~/.kaggle/"
      ]
    },
    {
      "cell_type": "markdown",
      "metadata": {
        "id": "p3N4it0xrFmU"
      },
      "source": [
        "Upload the json file to Google Drive and then copy to the temporary location."
      ]
    },
    {
      "cell_type": "code",
      "execution_count": 4,
      "metadata": {
        "id": "IQq6ZMyTrEfO"
      },
      "outputs": [],
      "source": [
        "!cp /content/drive/MyDrive/ColabNotebooks/kaggle_API_credentials/kaggle.json ~/.kaggle/kaggle.json"
      ]
    },
    {
      "cell_type": "markdown",
      "metadata": {
        "id": "p3dHJgtLehrM"
      },
      "source": [
        "Change the file permissions to read/write to the owner only"
      ]
    },
    {
      "cell_type": "code",
      "execution_count": 5,
      "metadata": {
        "id": "7ncAtrq2lg5F"
      },
      "outputs": [],
      "source": [
        "! chmod 600 ~/.kaggle/kaggle.json"
      ]
    },
    {
      "cell_type": "markdown",
      "metadata": {
        "id": "Rb3Zm9VMlu3t"
      },
      "source": [
        "**Competitions and Datasets are the two types of Kaggle data**"
      ]
    },
    {
      "cell_type": "markdown",
      "metadata": {
        "id": "OrdSFfGjl3Ud"
      },
      "source": [
        "**1. Download competition data**\n",
        "\n",
        "If you get 403 Forbidden error, you need to click 'Late Submission' on the Kaggle page for that competition."
      ]
    },
    {
      "cell_type": "code",
      "execution_count": 6,
      "metadata": {
        "colab": {
          "base_uri": "https://localhost:8080/"
        },
        "id": "C0yNdtoRln8A",
        "outputId": "b0369344-7c8d-4b5a-fd19-6b8806a41cbc"
      },
      "outputs": [
        {
          "name": "stdout",
          "output_type": "stream",
          "text": [
            "Downloading air-heart-disease.zip to /content\n",
            "\r  0% 0.00/14.0k [00:00<?, ?B/s]\n",
            "\r100% 14.0k/14.0k [00:00<00:00, 12.6MB/s]\n"
          ]
        }
      ],
      "source": [
        "! kaggle competitions download air-heart-disease"
      ]
    },
    {
      "cell_type": "markdown",
      "metadata": {
        "id": "fRmXZnHghNAz"
      },
      "source": [
        "Unzip, in case the downloaded file is zipped. Refresh the files on the left hand side to update the view. "
      ]
    },
    {
      "cell_type": "code",
      "execution_count": 7,
      "metadata": {
        "colab": {
          "base_uri": "https://localhost:8080/"
        },
        "id": "dAs9oVnNoziL",
        "outputId": "d96ff2eb-7fdf-435e-f8f3-68306f388c8d"
      },
      "outputs": [
        {
          "name": "stdout",
          "output_type": "stream",
          "text": [
            "Archive:  air-heart-disease.zip\n",
            "  inflating: sample_submission.csv   \n",
            "  inflating: test(7).csv             \n",
            "  inflating: train(7).csv            \n"
          ]
        }
      ],
      "source": [
        "! unzip air-heart-disease.zip"
      ]
    },
    {
      "cell_type": "markdown",
      "metadata": {
        "id": "ePE1ItOFpPYS"
      },
      "source": [
        "To downloaad specific files, instead of the netire data set\n",
        "\n"
      ]
    },
    {
      "cell_type": "code",
      "execution_count": 8,
      "metadata": {
        "colab": {
          "base_uri": "https://localhost:8080/"
        },
        "id": "iW0wQcPwpR6V",
        "outputId": "59d47a58-0b26-4955-be92-ed7d3b497d71"
      },
      "outputs": [
        {
          "name": "stdout",
          "output_type": "stream",
          "text": [
            "Downloading train.csv.zip to /content\n",
            "\r  0% 0.00/9.16M [00:00<?, ?B/s]\r 55% 5.00M/9.16M [00:00<00:00, 50.2MB/s]\n",
            "\r100% 9.16M/9.16M [00:00<00:00, 81.0MB/s]\n"
          ]
        }
      ],
      "source": [
        "! kaggle competitions download digit-recognizer -f train.csv"
      ]
    },
    {
      "cell_type": "markdown",
      "metadata": {
        "id": "GG20lDNIoJR0"
      },
      "source": [
        "**2. Download datasets (that are not part of competition)**"
      ]
    },
    {
      "cell_type": "code",
      "execution_count": 9,
      "metadata": {
        "colab": {
          "base_uri": "https://localhost:8080/"
        },
        "id": "j9bZFpaEoU5h",
        "outputId": "e8c408b0-7e08-4aa4-ef1d-5f5ffdb8a105"
      },
      "outputs": [
        {
          "name": "stdout",
          "output_type": "stream",
          "text": [
            "Downloading heart-disease-dataset.zip to /content\n",
            "\r  0% 0.00/6.18k [00:00<?, ?B/s]\n",
            "\r100% 6.18k/6.18k [00:00<00:00, 5.50MB/s]\n"
          ]
        }
      ],
      "source": [
        "! kaggle datasets download johnsmith88/heart-disease-dataset"
      ]
    }
  ],
  "metadata": {
    "colab": {
      "collapsed_sections": [],
      "include_colab_link": true,
      "name": "Tips_tricks_35_loading_kaggle_data_to_colab.ipynb",
      "provenance": []
    },
    "kernelspec": {
      "display_name": "Python 3",
      "name": "python3"
    },
    "language_info": {
      "name": "python"
    }
  },
  "nbformat": 4,
  "nbformat_minor": 0
}
