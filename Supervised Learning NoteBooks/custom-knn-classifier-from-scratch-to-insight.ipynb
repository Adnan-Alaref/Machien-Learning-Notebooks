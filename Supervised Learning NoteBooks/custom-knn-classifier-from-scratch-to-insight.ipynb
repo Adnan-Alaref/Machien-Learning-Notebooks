{
 "cells": [
  {
   "cell_type": "markdown",
   "id": "9420a977",
   "metadata": {
    "id": "nYpj_bSc8MK-",
    "papermill": {
     "duration": 0.008915,
     "end_time": "2025-07-20T12:17:02.235433",
     "exception": false,
     "start_time": "2025-07-20T12:17:02.226518",
     "status": "completed"
    },
    "tags": []
   },
   "source": [
    "<div style=\"background-color: black; color: white; padding: 10px;text-align: center;\">\n",
    "  <strong>Date Published:</strong> Jul 20, 2025 <strong>Author:</strong> Adnan Alaref\n",
    "</div>"
   ]
  },
  {
   "cell_type": "markdown",
   "id": "aaf88da6",
   "metadata": {
    "id": "Mm8qzIFm9Jkn",
    "papermill": {
     "duration": 0.007306,
     "end_time": "2025-07-20T12:17:02.250885",
     "exception": false,
     "start_time": "2025-07-20T12:17:02.243579",
     "status": "completed"
    },
    "tags": []
   },
   "source": [
    "# **📖 1. Core Concepts of KNN.**"
   ]
  },
  {
   "cell_type": "markdown",
   "id": "5d08ef24",
   "metadata": {
    "id": "dhtTAQNX98uk",
    "papermill": {
     "duration": 0.007332,
     "end_time": "2025-07-20T12:17:02.266004",
     "exception": false,
     "start_time": "2025-07-20T12:17:02.258672",
     "status": "completed"
    },
    "tags": []
   },
   "source": [
    "## Let's start with what KNN is:\n",
    "\n",
    "* KNN is a **non-parametric**, **instance-based** learning algorithm.\n",
    "  - ✅ *Non-parametric*: It does not assume any specific form (or parameters) of the underlying data distribution.\n",
    "  - ✅ *Instance-based*: It does not build an explicit model during training — instead, it memorizes (stores) the training data.\n",
    "\n",
    "\n",
    "* You don't train a **model** in the usual sense — you just **store** the training data.\n",
    "\n",
    "* To make a prediction:\n",
    "\n",
    "  1- **Measure distance** between the **query point** and **all training points**.  \n",
    "  2- Select the **k** nearest neighbors.  \n",
    "  3- For **classification**: take a **majority vote** of their labels.  \n",
    "  4- For **regression**: take the **average** (or weighted average) of their values.\n"
   ]
  },
  {
   "cell_type": "markdown",
   "id": "fd74e2f4",
   "metadata": {
    "id": "40r22IqzBF_P",
    "papermill": {
     "duration": 0.007692,
     "end_time": "2025-07-20T12:17:02.282109",
     "exception": false,
     "start_time": "2025-07-20T12:17:02.274417",
     "status": "completed"
    },
    "tags": []
   },
   "source": [
    "# **📖 2. How KNN Works Step by Step**"
   ]
  },
  {
   "cell_type": "markdown",
   "id": "6989c6ed",
   "metadata": {
    "id": "WXp0O-Cg_ETB",
    "papermill": {
     "duration": 0.007214,
     "end_time": "2025-07-20T12:17:02.296920",
     "exception": false,
     "start_time": "2025-07-20T12:17:02.289706",
     "status": "completed"
    },
    "tags": []
   },
   "source": [
    "## 📌 Step 1: Choose **k**\n",
    "  * *k* is the number of neighbors to consider.\n",
    "    - Small *k* → more sensitive to noise (**overfit**).\n",
    "    - Large *k* → more stable, but may **underfit**.\n",
    "\n",
    "## 📌 Step 2: Choose a **distance metric**\n",
    "- **Euclidean distance**:  \n",
    "  $$\n",
    "  \\sqrt{\\sum (x_i - y_i)^2}\n",
    "  $$  \n",
    "  (most common for continuous features)\n",
    "  \n",
    "- Alternatives:\n",
    "  - **Manhattan distance (L1)**\n",
    "  - **Minkowski distance**\n",
    "  - **Cosine similarity** (for text or high-dimensional data)\n",
    "\n",
    "- Choose based on your data type and problem.\n",
    "\n",
    "\n",
    "\n",
    "## 📌 Step 3: **Scale your data**\n",
    "* Because distance is sensitive to feature scale, you must **normalize** or **standardize** the features if they are on different scales.\n",
    "\n",
    "\n",
    "## 📌 Step 4: **Predict**\n",
    "* For a test point:\n",
    "  - Compute distances to all training points.\n",
    "  - Select the *k* nearest points.\n",
    "  - Return the result:\n",
    "    - Classification → majority vote.\n",
    "    - Regression → mean (or weighted mean) of values.\n"
   ]
  },
  {
   "cell_type": "markdown",
   "id": "18c198c2",
   "metadata": {
    "id": "gb95Hfx3CLJX",
    "papermill": {
     "duration": 0.007264,
     "end_time": "2025-07-20T12:17:02.311665",
     "exception": false,
     "start_time": "2025-07-20T12:17:02.304401",
     "status": "completed"
    },
    "tags": []
   },
   "source": [
    "# **📖 3.How do you choose the best k in KNN?**"
   ]
  },
  {
   "cell_type": "markdown",
   "id": "564f7d83",
   "metadata": {
    "id": "eB8LoYoACRHR",
    "papermill": {
     "duration": 0.007219,
     "end_time": "2025-07-20T12:17:02.326291",
     "exception": false,
     "start_time": "2025-07-20T12:17:02.319072",
     "status": "completed"
    },
    "tags": []
   },
   "source": [
    "## 🔷 **1. Try Multiple k Values (Empirical Search)**\n",
    "\n",
    "### 📌 Step by step:\n",
    "- Define a range of **k** values, e.g., 1–30.\n",
    "- For each **k**, compute the **validation accuracy** (or error) on a validation set or using cross-validation.\n",
    "- Plot **accuracy/error vs k** — this is called the **elbow method**.\n"
   ]
  },
  {
   "cell_type": "markdown",
   "id": "53e56117",
   "metadata": {
    "id": "zIzsZv-PCmX2",
    "papermill": {
     "duration": 0.007754,
     "end_time": "2025-07-20T12:17:02.341415",
     "exception": false,
     "start_time": "2025-07-20T12:17:02.333661",
     "status": "completed"
    },
    "tags": []
   },
   "source": [
    "## **🔷 2. Weighted Voting**\n",
    "\n",
    "Even if **k** is large, you can weight closer neighbors more than farther ones:\n",
    "\n",
    "- Use `weights='distance'` in `KNeighborsClassifier`.\n",
    "\n",
    "This reduces sensitivity to the exact value of **k**.\n",
    "\n",
    "✅ This makes **k** less critical — you can safely use a larger **k**.\n"
   ]
  },
  {
   "cell_type": "markdown",
   "id": "efbc7e5f",
   "metadata": {
    "id": "sWLKGaLzC_qx",
    "papermill": {
     "duration": 0.007286,
     "end_time": "2025-07-20T12:17:02.356337",
     "exception": false,
     "start_time": "2025-07-20T12:17:02.349051",
     "status": "completed"
    },
    "tags": []
   },
   "source": [
    "## **🔷 3. Grid Search with Cross-Validation**\n",
    "\n",
    "You can let `GridSearchCV` find the best **k** and even the best **distance metric** at the same time.\n",
    "\n",
    "- Define a parameter grid, e.g.:\n",
    "  ```python\n",
    "  param_grid = {\n",
    "      'n_neighbors': range(1, 31),\n",
    "      'metric': ['euclidean', 'manhattan', 'minkowski']\n",
    "  }\n"
   ]
  },
  {
   "cell_type": "markdown",
   "id": "bdd4d0d0",
   "metadata": {
    "id": "ZUn46mS_BXU-",
    "papermill": {
     "duration": 0.007241,
     "end_time": "2025-07-20T12:17:02.371025",
     "exception": false,
     "start_time": "2025-07-20T12:17:02.363784",
     "status": "completed"
    },
    "tags": []
   },
   "source": [
    "# **📖 4. When to Use KNN**"
   ]
  },
  {
   "cell_type": "markdown",
   "id": "ccddabb0",
   "metadata": {
    "id": "bfQK6BjdAXLv",
    "papermill": {
     "duration": 0.007178,
     "end_time": "2025-07-20T12:17:02.385555",
     "exception": false,
     "start_time": "2025-07-20T12:17:02.378377",
     "status": "completed"
    },
    "tags": []
   },
   "source": [
    "## **✅ Works well when:**\n",
    "   - Data is **small to medium** (because prediction is slow).\n",
    "   - Features are **meaningful** and on **comparable scales**.\n",
    "   - Data is **reasonably low-dimensional**.  \n",
    "   \n",
    "## **🚫 Avoid when:**\n",
    "   - Data is **very high-dimensional** (*curse of dimensionality*).\n",
    "   - **Very large datasets** (too slow at inference time).\n"
   ]
  },
  {
   "cell_type": "markdown",
   "id": "e3706042",
   "metadata": {
    "id": "gJWxr2xSAR7f",
    "papermill": {
     "duration": 0.007273,
     "end_time": "2025-07-20T12:17:02.400228",
     "exception": false,
     "start_time": "2025-07-20T12:17:02.392955",
     "status": "completed"
    },
    "tags": []
   },
   "source": [
    "# **📊 5.Pros & Cons of KNN**\n",
    "\n",
    "| ✅ **Pros**                      | 🚫 **Cons**                           |\n",
    "|----------------------------------|---------------------------------------|\n",
    "| Simple to understand             | Slow for big datasets                |\n",
    "| No training needed               | Sensitive to irrelevant features    |\n",
    "| Works for classification & regression | Struggles in high dimensions       |\n",
    "\n",
    "\n",
    "---\n",
    "\n"
   ]
  },
  {
   "cell_type": "markdown",
   "id": "11c449d8",
   "metadata": {
    "id": "icz48PDhDufr",
    "papermill": {
     "duration": 0.00727,
     "end_time": "2025-07-20T12:17:02.415098",
     "exception": false,
     "start_time": "2025-07-20T12:17:02.407828",
     "status": "completed"
    },
    "tags": []
   },
   "source": [
    "# **◍ Step 1: Import Librares.**"
   ]
  },
  {
   "cell_type": "code",
   "execution_count": 1,
   "id": "271d2417",
   "metadata": {
    "execution": {
     "iopub.execute_input": "2025-07-20T12:17:02.432374Z",
     "iopub.status.busy": "2025-07-20T12:17:02.431413Z",
     "iopub.status.idle": "2025-07-20T12:17:06.822977Z",
     "shell.execute_reply": "2025-07-20T12:17:06.822009Z"
    },
    "executionInfo": {
     "elapsed": 16,
     "status": "ok",
     "timestamp": 1753012963379,
     "user": {
      "displayName": "Adnan Alaref",
      "userId": "03256264963634723986"
     },
     "user_tz": -180
    },
    "id": "fpkG1R3G8L4S",
    "papermill": {
     "duration": 4.402582,
     "end_time": "2025-07-20T12:17:06.825178",
     "exception": false,
     "start_time": "2025-07-20T12:17:02.422596",
     "status": "completed"
    },
    "tags": []
   },
   "outputs": [],
   "source": [
    "import numpy as np\n",
    "import pandas as pd\n",
    "import seaborn as sns\n",
    "import matplotlib.pyplot as plt\n",
    "from collections import Counter\n",
    "\n",
    "from sklearn.metrics import accuracy_score\n",
    "from sklearn.metrics import mean_squared_error\n",
    "from sklearn.model_selection import GridSearchCV\n",
    "\n",
    "from sklearn.datasets import make_regression\n",
    "from sklearn.datasets import make_classification\n",
    "\n",
    "from sklearn.preprocessing import StandardScaler\n",
    "from sklearn.neighbors import KNeighborsClassifier\n",
    "\n",
    "from sklearn.model_selection import cross_val_score\n",
    "from sklearn.model_selection import train_test_split\n",
    "from sklearn.metrics import ConfusionMatrixDisplay,classification_report\n",
    "\n",
    "import warnings\n",
    "warnings.filterwarnings(action='ignore')\n",
    "warnings.simplefilter(action='ignore' ,category=FutureWarning)"
   ]
  },
  {
   "cell_type": "markdown",
   "id": "2abc59c2",
   "metadata": {
    "id": "tzvTVYWZEHTW",
    "papermill": {
     "duration": 0.007594,
     "end_time": "2025-07-20T12:17:06.846854",
     "exception": false,
     "start_time": "2025-07-20T12:17:06.839260",
     "status": "completed"
    },
    "tags": []
   },
   "source": [
    "# **◍ Step 2: Generate Synthetic DataSet.**"
   ]
  },
  {
   "cell_type": "code",
   "execution_count": 2,
   "id": "b78841bc",
   "metadata": {
    "execution": {
     "iopub.execute_input": "2025-07-20T12:17:06.931553Z",
     "iopub.status.busy": "2025-07-20T12:17:06.930379Z",
     "iopub.status.idle": "2025-07-20T12:17:06.961544Z",
     "shell.execute_reply": "2025-07-20T12:17:06.960500Z"
    },
    "executionInfo": {
     "elapsed": 23,
     "status": "ok",
     "timestamp": 1753012247097,
     "user": {
      "displayName": "Adnan Alaref",
      "userId": "03256264963634723986"
     },
     "user_tz": -180
    },
    "id": "cpXbNyjX0wdX",
    "outputId": "9b050002-ac1e-403e-c46d-a0420fe4b702",
    "papermill": {
     "duration": 0.10885,
     "end_time": "2025-07-20T12:17:06.963458",
     "exception": false,
     "start_time": "2025-07-20T12:17:06.854608",
     "status": "completed"
    },
    "tags": []
   },
   "outputs": [
    {
     "name": "stdout",
     "output_type": "stream",
     "text": [
      "(8000, 10)\n",
      "(2000, 10)\n",
      "(8000,)\n",
      "(2000,)\n"
     ]
    }
   ],
   "source": [
    "# n_classes × n_clusters_per_class ≤ 2 ** n_informative\n",
    "X,y = make_classification(n_samples=10000, n_features=10, random_state=42) # 2 Class\n",
    "\n",
    "X_train, X_test, y_train, y_test = train_test_split(X,y,test_size=0.2,random_state=42)\n",
    "print(X_train.shape)\n",
    "print(X_test.shape)\n",
    "print(y_train.shape)\n",
    "print(y_test.shape)"
   ]
  },
  {
   "cell_type": "markdown",
   "id": "36d05a45",
   "metadata": {
    "id": "dQg_xNt6Efjw",
    "papermill": {
     "duration": 0.007695,
     "end_time": "2025-07-20T12:17:06.984410",
     "exception": false,
     "start_time": "2025-07-20T12:17:06.976715",
     "status": "completed"
    },
    "tags": []
   },
   "source": [
    "# **◍ Step 3: Scale Data.**"
   ]
  },
  {
   "cell_type": "code",
   "execution_count": 3,
   "id": "3216c072",
   "metadata": {
    "execution": {
     "iopub.execute_input": "2025-07-20T12:17:07.001226Z",
     "iopub.status.busy": "2025-07-20T12:17:07.000905Z",
     "iopub.status.idle": "2025-07-20T12:17:07.021600Z",
     "shell.execute_reply": "2025-07-20T12:17:07.020662Z"
    },
    "executionInfo": {
     "elapsed": 20,
     "status": "ok",
     "timestamp": 1753012249993,
     "user": {
      "displayName": "Adnan Alaref",
      "userId": "03256264963634723986"
     },
     "user_tz": -180
    },
    "id": "kcR1Vkwm3l14",
    "papermill": {
     "duration": 0.031109,
     "end_time": "2025-07-20T12:17:07.023266",
     "exception": false,
     "start_time": "2025-07-20T12:17:06.992157",
     "status": "completed"
    },
    "tags": []
   },
   "outputs": [],
   "source": [
    "scaler = StandardScaler()\n",
    "X_train_scaled = scaler.fit_transform(X_train)\n",
    "X_test_scaled = scaler.transform(X_test)"
   ]
  },
  {
   "cell_type": "markdown",
   "id": "56b577a5",
   "metadata": {
    "id": "kFGMPxglEnwa",
    "papermill": {
     "duration": 0.007726,
     "end_time": "2025-07-20T12:17:07.039039",
     "exception": false,
     "start_time": "2025-07-20T12:17:07.031313",
     "status": "completed"
    },
    "tags": []
   },
   "source": [
    "# **◍ Step 4: Choose Best Value For K.**"
   ]
  },
  {
   "cell_type": "markdown",
   "id": "78129139",
   "metadata": {
    "id": "dx_2JLDRfJns",
    "papermill": {
     "duration": 0.007551,
     "end_time": "2025-07-20T12:17:07.054432",
     "exception": false,
     "start_time": "2025-07-20T12:17:07.046881",
     "status": "completed"
    },
    "tags": []
   },
   "source": [
    "## **🔷 Try multiple k values (Empirical search)**"
   ]
  },
  {
   "cell_type": "code",
   "execution_count": 4,
   "id": "ddad8274",
   "metadata": {
    "execution": {
     "iopub.execute_input": "2025-07-20T12:17:07.071153Z",
     "iopub.status.busy": "2025-07-20T12:17:07.070840Z",
     "iopub.status.idle": "2025-07-20T12:17:09.920132Z",
     "shell.execute_reply": "2025-07-20T12:17:09.919152Z"
    },
    "executionInfo": {
     "elapsed": 3015,
     "status": "ok",
     "timestamp": 1753012255659,
     "user": {
      "displayName": "Adnan Alaref",
      "userId": "03256264963634723986"
     },
     "user_tz": -180
    },
    "id": "UyOq70QF32O2",
    "outputId": "1caa1687-e6dd-4f08-b4f7-03682e61f168",
    "papermill": {
     "duration": 2.859537,
     "end_time": "2025-07-20T12:17:09.921732",
     "exception": false,
     "start_time": "2025-07-20T12:17:07.062195",
     "status": "completed"
    },
    "tags": []
   },
   "outputs": [
    {
     "name": "stdout",
     "output_type": "stream",
     "text": [
      "K = 1 - Accuracy: 87.65%\n",
      "K = 3 - Accuracy: 90.20%\n",
      "K = 5 - Accuracy: 91.40%\n",
      "K = 7 - Accuracy: 92.00%\n",
      "K = 9 - Accuracy: 91.95%\n",
      "K = 11 - Accuracy: 91.70%\n",
      "K = 12 - Accuracy: 92.00%\n",
      "K = 13 - Accuracy: 91.90%\n",
      "K = 15 - Accuracy: 91.80%\n",
      "K = 30 - Accuracy: 91.95%\n"
     ]
    }
   ],
   "source": [
    "for k in [1,3,5,7,9,11,12,13,15,30]:\n",
    "  knn = KNeighborsClassifier(k)\n",
    "  knn.fit(X_train_scaled, y_train)\n",
    "\n",
    "  # Predict on the test set\n",
    "  y_preds = knn.predict(X_test_scaled)\n",
    "\n",
    "  # Evaluate the performance\n",
    "  acc = accuracy_score(y_test,y_preds)\n",
    "  print(f\"K = {k} - Accuracy: {acc * 100:.2f}%\")  # On Test Set"
   ]
  },
  {
   "cell_type": "markdown",
   "id": "a7fac568",
   "metadata": {
    "id": "05PFl8HLfMMY",
    "papermill": {
     "duration": 0.007902,
     "end_time": "2025-07-20T12:17:09.938182",
     "exception": false,
     "start_time": "2025-07-20T12:17:09.930280",
     "status": "completed"
    },
    "tags": []
   },
   "source": [
    "## **🔷 Useing Croose-validation**"
   ]
  },
  {
   "cell_type": "code",
   "execution_count": 5,
   "id": "831f0d4d",
   "metadata": {
    "execution": {
     "iopub.execute_input": "2025-07-20T12:17:09.955691Z",
     "iopub.status.busy": "2025-07-20T12:17:09.955344Z",
     "iopub.status.idle": "2025-07-20T12:17:42.417052Z",
     "shell.execute_reply": "2025-07-20T12:17:42.416285Z"
    },
    "executionInfo": {
     "elapsed": 34922,
     "status": "ok",
     "timestamp": 1753012301121,
     "user": {
      "displayName": "Adnan Alaref",
      "userId": "03256264963634723986"
     },
     "user_tz": -180
    },
    "id": "etyvnTMVfPsV",
    "outputId": "8b39b696-7b4e-4740-d041-f3ee84526b9e",
    "papermill": {
     "duration": 32.48258,
     "end_time": "2025-07-20T12:17:42.428749",
     "exception": false,
     "start_time": "2025-07-20T12:17:09.946169",
     "status": "completed"
    },
    "tags": []
   },
   "outputs": [
    {
     "data": {
      "image/png": "[encoded data removed]",
      "text/plain": [
       "<Figure size 800x600 with 1 Axes>"
      ]
     },
     "metadata": {},
     "output_type": "display_data"
    }
   ],
   "source": [
    "k_ranges = range(1,31)\n",
    "cv_scores = []\n",
    "\n",
    "for k in k_ranges:\n",
    "  knn = KNeighborsClassifier(k)\n",
    "  scores = cross_val_score(knn, X_train_scaled, y_train, cv=5, scoring='accuracy')\n",
    "  cv_scores.append(scores.mean())\n",
    "\n",
    "# Plot accuracy/error vs k — this is called the elbow method\n",
    "plt.figure(figsize=(8,6))\n",
    "plt.plot(k_ranges, cv_scores, marker='o', color = 'orange')\n",
    "plt.title('Elbow Method: Accuracy vs k')\n",
    "plt.xlabel('Number of Neighbors k')\n",
    "plt.ylabel('Cross-Validated Accuracy')\n",
    "plt.xticks(k_ranges)\n",
    "plt.grid(True)\n",
    "\n",
    "plt.tight_layout()\n",
    "plt.show()"
   ]
  },
  {
   "cell_type": "code",
   "execution_count": 6,
   "id": "7d057cf2",
   "metadata": {
    "execution": {
     "iopub.execute_input": "2025-07-20T12:17:42.448732Z",
     "iopub.status.busy": "2025-07-20T12:17:42.447922Z",
     "iopub.status.idle": "2025-07-20T12:17:42.453502Z",
     "shell.execute_reply": "2025-07-20T12:17:42.452567Z"
    },
    "executionInfo": {
     "elapsed": 10,
     "status": "ok",
     "timestamp": 1753012307993,
     "user": {
      "displayName": "Adnan Alaref",
      "userId": "03256264963634723986"
     },
     "user_tz": -180
    },
    "id": "Q8AHqVHIkJsV",
    "outputId": "9d91c2e7-e9bb-4623-ae0e-a31b05591b60",
    "papermill": {
     "duration": 0.017093,
     "end_time": "2025-07-20T12:17:42.455003",
     "exception": false,
     "start_time": "2025-07-20T12:17:42.437910",
     "status": "completed"
    },
    "tags": []
   },
   "outputs": [
    {
     "name": "stdout",
     "output_type": "stream",
     "text": [
      "✅ Best k: 15 with accuracy: 0.91\n"
     ]
    }
   ],
   "source": [
    "# 📌 Best k\n",
    "best__k = k_ranges[np.argmax(cv_scores)]\n",
    "print(f\"✅ Best k: {best__k:.0f} with accuracy: {max(cv_scores):.2f}\")"
   ]
  },
  {
   "cell_type": "markdown",
   "id": "4a301f57",
   "metadata": {
    "id": "_vLS-yz6mNOW",
    "papermill": {
     "duration": 0.009051,
     "end_time": "2025-07-20T12:17:42.473624",
     "exception": false,
     "start_time": "2025-07-20T12:17:42.464573",
     "status": "completed"
    },
    "tags": []
   },
   "source": [
    "## **🔷 By Using GridSearchCV**\n"
   ]
  },
  {
   "cell_type": "code",
   "execution_count": 7,
   "id": "e06e8ce8",
   "metadata": {
    "execution": {
     "iopub.execute_input": "2025-07-20T12:17:42.493700Z",
     "iopub.status.busy": "2025-07-20T12:17:42.492867Z",
     "iopub.status.idle": "2025-07-20T12:19:06.306835Z",
     "shell.execute_reply": "2025-07-20T12:19:06.305464Z"
    },
    "executionInfo": {
     "elapsed": 187894,
     "status": "ok",
     "timestamp": 1753012502332,
     "user": {
      "displayName": "Adnan Alaref",
      "userId": "03256264963634723986"
     },
     "user_tz": -180
    },
    "id": "QYYwZr-6mRk-",
    "outputId": "3ea4d50d-2321-41ec-8e1b-c4f946ec2962",
    "papermill": {
     "duration": 83.825638,
     "end_time": "2025-07-20T12:19:06.308398",
     "exception": false,
     "start_time": "2025-07-20T12:17:42.482760",
     "status": "completed"
    },
    "tags": []
   },
   "outputs": [
    {
     "name": "stdout",
     "output_type": "stream",
     "text": [
      "Fitting 5 folds for each of 180 candidates, totalling 900 fits\n",
      "✅ Best k: 20\n",
      "✅ Best weights: uniform\n",
      "✅ Best metric: manhattan\n",
      "✅ Best cross-validated accuracy: 0.9209\n",
      "✅ Test set accuracy with best parameters: 0.9300\n"
     ]
    }
   ],
   "source": [
    "from sklearn.model_selection import GridSearchCV\n",
    "\n",
    "param_grid = {\n",
    "             'n_neighbors':range(1,31),\n",
    "             'weights': ['uniform', 'distance'],\n",
    "             'metric': ['euclidean', 'manhattan', 'minkowski']}\n",
    "knn_grid = KNeighborsClassifier()\n",
    "grid  = GridSearchCV(estimator=knn_grid,\n",
    "                     param_grid=param_grid,\n",
    "                     cv=5,\n",
    "                     scoring='accuracy',\n",
    "                     n_jobs=-1,\n",
    "                     verbose=1)\n",
    "grid.fit(X_train_scaled,y_train)\n",
    "\n",
    "# Print best parameters and score\n",
    "print(f\"✅ Best k: {grid.best_params_['n_neighbors']}\")\n",
    "print(f\"✅ Best weights: {grid.best_params_['weights']}\")\n",
    "print(f\"✅ Best metric: {grid.best_params_['metric']}\")\n",
    "print(f\"✅ Best cross-validated accuracy: {grid.best_score_:.4f}\")\n",
    "\n",
    "# Evaluate on test set\n",
    "test_score = grid.best_estimator_.score(X_test_scaled, y_test)\n",
    "print(f\"✅ Test set accuracy with best parameters: {test_score:.4f}\")"
   ]
  },
  {
   "cell_type": "markdown",
   "id": "96cb4a93",
   "metadata": {
    "id": "8iMnrEjsSMbw",
    "papermill": {
     "duration": 0.009048,
     "end_time": "2025-07-20T12:19:06.327372",
     "exception": false,
     "start_time": "2025-07-20T12:19:06.318324",
     "status": "completed"
    },
    "tags": []
   },
   "source": [
    "### **🔵 📖 Steps to Create Heatmap of GridSearchCV Results.**"
   ]
  },
  {
   "cell_type": "markdown",
   "id": "c7ea26c2",
   "metadata": {
    "id": "EF75gOD1SNCs",
    "papermill": {
     "duration": 0.009016,
     "end_time": "2025-07-20T12:19:06.345750",
     "exception": false,
     "start_time": "2025-07-20T12:19:06.336734",
     "status": "completed"
    },
    "tags": []
   },
   "source": [
    "**1- Extract results into a DataFrame**"
   ]
  },
  {
   "cell_type": "code",
   "execution_count": 8,
   "id": "60ed5f48",
   "metadata": {
    "execution": {
     "iopub.execute_input": "2025-07-20T12:19:06.366176Z",
     "iopub.status.busy": "2025-07-20T12:19:06.365726Z",
     "iopub.status.idle": "2025-07-20T12:19:06.401555Z",
     "shell.execute_reply": "2025-07-20T12:19:06.400660Z"
    },
    "executionInfo": {
     "elapsed": 36,
     "status": "ok",
     "timestamp": 1753012561778,
     "user": {
      "displayName": "Adnan Alaref",
      "userId": "03256264963634723986"
     },
     "user_tz": -180
    },
    "id": "UeJZTeT0QAL4",
    "outputId": "0ccaecac-e519-4123-8294-8f4c3b98114e",
    "papermill": {
     "duration": 0.047972,
     "end_time": "2025-07-20T12:19:06.403090",
     "exception": false,
     "start_time": "2025-07-20T12:19:06.355118",
     "status": "completed"
    },
    "tags": []
   },
   "outputs": [
    {
     "data": {
      "text/html": [
       "<div>\n",
       "<style scoped>\n",
       "    .dataframe tbody tr th:only-of-type {\n",
       "        vertical-align: middle;\n",
       "    }\n",
       "\n",
       "    .dataframe tbody tr th {\n",
       "        vertical-align: top;\n",
       "    }\n",
       "\n",
       "    .dataframe thead th {\n",
       "        text-align: right;\n",
       "    }\n",
       "</style>\n",
       "<table border=\"1\" class=\"dataframe\">\n",
       "  <thead>\n",
       "    <tr style=\"text-align: right;\">\n",
       "      <th></th>\n",
       "      <th>mean_fit_time</th>\n",
       "      <th>std_fit_time</th>\n",
       "      <th>mean_score_time</th>\n",
       "      <th>std_score_time</th>\n",
       "      <th>param_metric</th>\n",
       "      <th>param_n_neighbors</th>\n",
       "      <th>param_weights</th>\n",
       "      <th>params</th>\n",
       "      <th>split0_test_score</th>\n",
       "      <th>split1_test_score</th>\n",
       "      <th>split2_test_score</th>\n",
       "      <th>split3_test_score</th>\n",
       "      <th>split4_test_score</th>\n",
       "      <th>mean_test_score</th>\n",
       "      <th>std_test_score</th>\n",
       "      <th>rank_test_score</th>\n",
       "    </tr>\n",
       "  </thead>\n",
       "  <tbody>\n",
       "    <tr>\n",
       "      <th>0</th>\n",
       "      <td>0.015620</td>\n",
       "      <td>0.002439</td>\n",
       "      <td>0.231910</td>\n",
       "      <td>0.012480</td>\n",
       "      <td>euclidean</td>\n",
       "      <td>1</td>\n",
       "      <td>uniform</td>\n",
       "      <td>{'metric': 'euclidean', 'n_neighbors': 1, 'wei...</td>\n",
       "      <td>0.873125</td>\n",
       "      <td>0.871250</td>\n",
       "      <td>0.870625</td>\n",
       "      <td>0.867500</td>\n",
       "      <td>0.859375</td>\n",
       "      <td>0.868375</td>\n",
       "      <td>0.004851</td>\n",
       "      <td>173</td>\n",
       "    </tr>\n",
       "    <tr>\n",
       "      <th>1</th>\n",
       "      <td>0.016012</td>\n",
       "      <td>0.002105</td>\n",
       "      <td>0.133397</td>\n",
       "      <td>0.012569</td>\n",
       "      <td>euclidean</td>\n",
       "      <td>1</td>\n",
       "      <td>distance</td>\n",
       "      <td>{'metric': 'euclidean', 'n_neighbors': 1, 'wei...</td>\n",
       "      <td>0.873125</td>\n",
       "      <td>0.871250</td>\n",
       "      <td>0.870625</td>\n",
       "      <td>0.867500</td>\n",
       "      <td>0.859375</td>\n",
       "      <td>0.868375</td>\n",
       "      <td>0.004851</td>\n",
       "      <td>173</td>\n",
       "    </tr>\n",
       "    <tr>\n",
       "      <th>2</th>\n",
       "      <td>0.014376</td>\n",
       "      <td>0.001353</td>\n",
       "      <td>0.273017</td>\n",
       "      <td>0.017859</td>\n",
       "      <td>euclidean</td>\n",
       "      <td>2</td>\n",
       "      <td>uniform</td>\n",
       "      <td>{'metric': 'euclidean', 'n_neighbors': 2, 'wei...</td>\n",
       "      <td>0.865000</td>\n",
       "      <td>0.868750</td>\n",
       "      <td>0.856875</td>\n",
       "      <td>0.846875</td>\n",
       "      <td>0.867500</td>\n",
       "      <td>0.861000</td>\n",
       "      <td>0.008183</td>\n",
       "      <td>179</td>\n",
       "    </tr>\n",
       "    <tr>\n",
       "      <th>3</th>\n",
       "      <td>0.015077</td>\n",
       "      <td>0.002201</td>\n",
       "      <td>0.143045</td>\n",
       "      <td>0.008405</td>\n",
       "      <td>euclidean</td>\n",
       "      <td>2</td>\n",
       "      <td>distance</td>\n",
       "      <td>{'metric': 'euclidean', 'n_neighbors': 2, 'wei...</td>\n",
       "      <td>0.873125</td>\n",
       "      <td>0.871250</td>\n",
       "      <td>0.870625</td>\n",
       "      <td>0.867500</td>\n",
       "      <td>0.859375</td>\n",
       "      <td>0.868375</td>\n",
       "      <td>0.004851</td>\n",
       "      <td>173</td>\n",
       "    </tr>\n",
       "    <tr>\n",
       "      <th>4</th>\n",
       "      <td>0.014839</td>\n",
       "      <td>0.001715</td>\n",
       "      <td>0.279230</td>\n",
       "      <td>0.021669</td>\n",
       "      <td>euclidean</td>\n",
       "      <td>3</td>\n",
       "      <td>uniform</td>\n",
       "      <td>{'metric': 'euclidean', 'n_neighbors': 3, 'wei...</td>\n",
       "      <td>0.889375</td>\n",
       "      <td>0.906875</td>\n",
       "      <td>0.898125</td>\n",
       "      <td>0.893750</td>\n",
       "      <td>0.893125</td>\n",
       "      <td>0.896250</td>\n",
       "      <td>0.005995</td>\n",
       "      <td>163</td>\n",
       "    </tr>\n",
       "  </tbody>\n",
       "</table>\n",
       "</div>"
      ],
      "text/plain": [
       "   mean_fit_time  std_fit_time  mean_score_time  std_score_time param_metric  \\\n",
       "0       0.015620      0.002439         0.231910        0.012480    euclidean   \n",
       "1       0.016012      0.002105         0.133397        0.012569    euclidean   \n",
       "2       0.014376      0.001353         0.273017        0.017859    euclidean   \n",
       "3       0.015077      0.002201         0.143045        0.008405    euclidean   \n",
       "4       0.014839      0.001715         0.279230        0.021669    euclidean   \n",
       "\n",
       "  param_n_neighbors param_weights  \\\n",
       "0                 1       uniform   \n",
       "1                 1      distance   \n",
       "2                 2       uniform   \n",
       "3                 2      distance   \n",
       "4                 3       uniform   \n",
       "\n",
       "                                              params  split0_test_score  \\\n",
       "0  {'metric': 'euclidean', 'n_neighbors': 1, 'wei...           0.873125   \n",
       "1  {'metric': 'euclidean', 'n_neighbors': 1, 'wei...           0.873125   \n",
       "2  {'metric': 'euclidean', 'n_neighbors': 2, 'wei...           0.865000   \n",
       "3  {'metric': 'euclidean', 'n_neighbors': 2, 'wei...           0.873125   \n",
       "4  {'metric': 'euclidean', 'n_neighbors': 3, 'wei...           0.889375   \n",
       "\n",
       "   split1_test_score  split2_test_score  split3_test_score  split4_test_score  \\\n",
       "0           0.871250           0.870625           0.867500           0.859375   \n",
       "1           0.871250           0.870625           0.867500           0.859375   \n",
       "2           0.868750           0.856875           0.846875           0.867500   \n",
       "3           0.871250           0.870625           0.867500           0.859375   \n",
       "4           0.906875           0.898125           0.893750           0.893125   \n",
       "\n",
       "   mean_test_score  std_test_score  rank_test_score  \n",
       "0         0.868375        0.004851              173  \n",
       "1         0.868375        0.004851              173  \n",
       "2         0.861000        0.008183              179  \n",
       "3         0.868375        0.004851              173  \n",
       "4         0.896250        0.005995              163  "
      ]
     },
     "execution_count": 8,
     "metadata": {},
     "output_type": "execute_result"
    }
   ],
   "source": [
    "results_df = pd.DataFrame(grid.cv_results_)\n",
    "results_df.head()  # Show all DataFrame cols"
   ]
  },
  {
   "cell_type": "markdown",
   "id": "5315cd35",
   "metadata": {
    "id": "tUwRmIkcSkOW",
    "papermill": {
     "duration": 0.009344,
     "end_time": "2025-07-20T12:19:06.422315",
     "exception": false,
     "start_time": "2025-07-20T12:19:06.412971",
     "status": "completed"
    },
    "tags": []
   },
   "source": [
    "**2- Select the columns of interest.**"
   ]
  },
  {
   "cell_type": "code",
   "execution_count": 9,
   "id": "946f72f7",
   "metadata": {
    "execution": {
     "iopub.execute_input": "2025-07-20T12:19:06.442803Z",
     "iopub.status.busy": "2025-07-20T12:19:06.442445Z",
     "iopub.status.idle": "2025-07-20T12:19:06.460270Z",
     "shell.execute_reply": "2025-07-20T12:19:06.459423Z"
    },
    "executionInfo": {
     "elapsed": 16,
     "status": "ok",
     "timestamp": 1753012565607,
     "user": {
      "displayName": "Adnan Alaref",
      "userId": "03256264963634723986"
     },
     "user_tz": -180
    },
    "id": "c0j9Tt0KRgoy",
    "outputId": "9b2961cf-86ef-40ca-9082-e053ac7fed1f",
    "papermill": {
     "duration": 0.02983,
     "end_time": "2025-07-20T12:19:06.461739",
     "exception": false,
     "start_time": "2025-07-20T12:19:06.431909",
     "status": "completed"
    },
    "tags": []
   },
   "outputs": [
    {
     "data": {
      "text/html": [
       "<div>\n",
       "<style scoped>\n",
       "    .dataframe tbody tr th:only-of-type {\n",
       "        vertical-align: middle;\n",
       "    }\n",
       "\n",
       "    .dataframe tbody tr th {\n",
       "        vertical-align: top;\n",
       "    }\n",
       "\n",
       "    .dataframe thead th {\n",
       "        text-align: right;\n",
       "    }\n",
       "</style>\n",
       "<table border=\"1\" class=\"dataframe\">\n",
       "  <thead>\n",
       "    <tr style=\"text-align: right;\">\n",
       "      <th></th>\n",
       "      <th>param_n_neighbors</th>\n",
       "      <th>param_weights</th>\n",
       "      <th>mean_test_score</th>\n",
       "    </tr>\n",
       "  </thead>\n",
       "  <tbody>\n",
       "    <tr>\n",
       "      <th>0</th>\n",
       "      <td>1</td>\n",
       "      <td>uniform</td>\n",
       "      <td>0.868375</td>\n",
       "    </tr>\n",
       "    <tr>\n",
       "      <th>1</th>\n",
       "      <td>1</td>\n",
       "      <td>distance</td>\n",
       "      <td>0.868375</td>\n",
       "    </tr>\n",
       "    <tr>\n",
       "      <th>2</th>\n",
       "      <td>2</td>\n",
       "      <td>uniform</td>\n",
       "      <td>0.861000</td>\n",
       "    </tr>\n",
       "    <tr>\n",
       "      <th>3</th>\n",
       "      <td>2</td>\n",
       "      <td>distance</td>\n",
       "      <td>0.868375</td>\n",
       "    </tr>\n",
       "    <tr>\n",
       "      <th>4</th>\n",
       "      <td>3</td>\n",
       "      <td>uniform</td>\n",
       "      <td>0.896250</td>\n",
       "    </tr>\n",
       "  </tbody>\n",
       "</table>\n",
       "</div>"
      ],
      "text/plain": [
       "  param_n_neighbors param_weights  mean_test_score\n",
       "0                 1       uniform         0.868375\n",
       "1                 1      distance         0.868375\n",
       "2                 2       uniform         0.861000\n",
       "3                 2      distance         0.868375\n",
       "4                 3       uniform         0.896250"
      ]
     },
     "execution_count": 9,
     "metadata": {},
     "output_type": "execute_result"
    }
   ],
   "source": [
    "results_df[['param_n_neighbors', 'param_weights', 'mean_test_score']].head()"
   ]
  },
  {
   "cell_type": "code",
   "execution_count": 10,
   "id": "8166ecbd",
   "metadata": {
    "execution": {
     "iopub.execute_input": "2025-07-20T12:19:06.482979Z",
     "iopub.status.busy": "2025-07-20T12:19:06.482364Z",
     "iopub.status.idle": "2025-07-20T12:19:06.492927Z",
     "shell.execute_reply": "2025-07-20T12:19:06.492144Z"
    },
    "executionInfo": {
     "elapsed": 32,
     "status": "ok",
     "timestamp": 1753012648428,
     "user": {
      "displayName": "Adnan Alaref",
      "userId": "03256264963634723986"
     },
     "user_tz": -180
    },
    "id": "JlgHgS9lrYE7",
    "outputId": "1e7638ff-494e-4bc2-b3ea-44b703cc2d92",
    "papermill": {
     "duration": 0.022734,
     "end_time": "2025-07-20T12:19:06.494387",
     "exception": false,
     "start_time": "2025-07-20T12:19:06.471653",
     "status": "completed"
    },
    "tags": []
   },
   "outputs": [
    {
     "data": {
      "text/html": [
       "<div>\n",
       "<style scoped>\n",
       "    .dataframe tbody tr th:only-of-type {\n",
       "        vertical-align: middle;\n",
       "    }\n",
       "\n",
       "    .dataframe tbody tr th {\n",
       "        vertical-align: top;\n",
       "    }\n",
       "\n",
       "    .dataframe thead th {\n",
       "        text-align: right;\n",
       "    }\n",
       "</style>\n",
       "<table border=\"1\" class=\"dataframe\">\n",
       "  <thead>\n",
       "    <tr style=\"text-align: right;\">\n",
       "      <th></th>\n",
       "      <th>param_n_neighbors</th>\n",
       "      <th>param_metric</th>\n",
       "      <th>mean_test_score</th>\n",
       "    </tr>\n",
       "  </thead>\n",
       "  <tbody>\n",
       "    <tr>\n",
       "      <th>47</th>\n",
       "      <td>24</td>\n",
       "      <td>euclidean</td>\n",
       "      <td>0.909375</td>\n",
       "    </tr>\n",
       "    <tr>\n",
       "      <th>83</th>\n",
       "      <td>12</td>\n",
       "      <td>manhattan</td>\n",
       "      <td>0.919375</td>\n",
       "    </tr>\n",
       "    <tr>\n",
       "      <th>49</th>\n",
       "      <td>25</td>\n",
       "      <td>euclidean</td>\n",
       "      <td>0.908750</td>\n",
       "    </tr>\n",
       "    <tr>\n",
       "      <th>159</th>\n",
       "      <td>20</td>\n",
       "      <td>minkowski</td>\n",
       "      <td>0.909000</td>\n",
       "    </tr>\n",
       "    <tr>\n",
       "      <th>103</th>\n",
       "      <td>22</td>\n",
       "      <td>manhattan</td>\n",
       "      <td>0.918375</td>\n",
       "    </tr>\n",
       "  </tbody>\n",
       "</table>\n",
       "</div>"
      ],
      "text/plain": [
       "    param_n_neighbors param_metric  mean_test_score\n",
       "47                 24    euclidean         0.909375\n",
       "83                 12    manhattan         0.919375\n",
       "49                 25    euclidean         0.908750\n",
       "159                20    minkowski         0.909000\n",
       "103                22    manhattan         0.918375"
      ]
     },
     "execution_count": 10,
     "metadata": {},
     "output_type": "execute_result"
    }
   ],
   "source": [
    "results_df[['param_n_neighbors', 'param_metric', 'mean_test_score']].sample(5)"
   ]
  },
  {
   "cell_type": "markdown",
   "id": "c008fc74",
   "metadata": {
    "id": "zyWUQXLiRz9S",
    "papermill": {
     "duration": 0.009858,
     "end_time": "2025-07-20T12:19:06.514342",
     "exception": false,
     "start_time": "2025-07-20T12:19:06.504484",
     "status": "completed"
    },
    "tags": []
   },
   "source": [
    "**3- Create a pivot table.**  \n",
    "* We need to reshape the DataFrame to a matrix suitable for a heatmap:  \n",
    "  - Rows: n_neighbors\n",
    "  - Columns: metric\n",
    "  - Values: mean_test_score"
   ]
  },
  {
   "cell_type": "code",
   "execution_count": 11,
   "id": "c3e1d08d",
   "metadata": {
    "execution": {
     "iopub.execute_input": "2025-07-20T12:19:06.537724Z",
     "iopub.status.busy": "2025-07-20T12:19:06.537394Z",
     "iopub.status.idle": "2025-07-20T12:19:06.544689Z",
     "shell.execute_reply": "2025-07-20T12:19:06.543796Z"
    },
    "executionInfo": {
     "elapsed": 18,
     "status": "ok",
     "timestamp": 1753012656853,
     "user": {
      "displayName": "Adnan Alaref",
      "userId": "03256264963634723986"
     },
     "user_tz": -180
    },
    "id": "tDSYlub_isJN",
    "papermill": {
     "duration": 0.020021,
     "end_time": "2025-07-20T12:19:06.546169",
     "exception": false,
     "start_time": "2025-07-20T12:19:06.526148",
     "status": "completed"
    },
    "tags": []
   },
   "outputs": [],
   "source": [
    "# Note To avoid This error ValueError: Index contains duplicate entries, cannot reshape\n",
    "# We create two povit table one for uniform weigth and another for distance\n",
    "df_uniform = results_df[results_df['param_weights'] == 'uniform']\n",
    "df_distace = results_df[results_df['param_weights'] == 'distance']"
   ]
  },
  {
   "cell_type": "code",
   "execution_count": 12,
   "id": "623ced38",
   "metadata": {
    "execution": {
     "iopub.execute_input": "2025-07-20T12:19:06.567656Z",
     "iopub.status.busy": "2025-07-20T12:19:06.567308Z",
     "iopub.status.idle": "2025-07-20T12:19:06.592203Z",
     "shell.execute_reply": "2025-07-20T12:19:06.591372Z"
    },
    "executionInfo": {
     "elapsed": 22,
     "status": "ok",
     "timestamp": 1753012659550,
     "user": {
      "displayName": "Adnan Alaref",
      "userId": "03256264963634723986"
     },
     "user_tz": -180
    },
    "id": "z_thomZKS2to",
    "papermill": {
     "duration": 0.037605,
     "end_time": "2025-07-20T12:19:06.593957",
     "exception": false,
     "start_time": "2025-07-20T12:19:06.556352",
     "status": "completed"
    },
    "tags": []
   },
   "outputs": [],
   "source": [
    "pivot_uniform = df_uniform.pivot(\n",
    "    index='param_n_neighbors',\n",
    "    columns='param_metric',\n",
    "    values='mean_test_score'\n",
    ").sort_index()\n",
    "\n",
    "pivot_distance = df_distace.pivot(\n",
    "    index='param_n_neighbors',\n",
    "    columns='param_metric',\n",
    "    values='mean_test_score'\n",
    ").sort_index()"
   ]
  },
  {
   "cell_type": "markdown",
   "id": "67f3d332",
   "metadata": {
    "id": "Jd_XHqzvS3Ss",
    "papermill": {
     "duration": 0.009931,
     "end_time": "2025-07-20T12:19:06.614930",
     "exception": false,
     "start_time": "2025-07-20T12:19:06.604999",
     "status": "completed"
    },
    "tags": []
   },
   "source": [
    " **4- Plot the heatmap.**"
   ]
  },
  {
   "cell_type": "code",
   "execution_count": 13,
   "id": "8399e975",
   "metadata": {
    "execution": {
     "iopub.execute_input": "2025-07-20T12:19:06.637801Z",
     "iopub.status.busy": "2025-07-20T12:19:06.637460Z",
     "iopub.status.idle": "2025-07-20T12:19:07.946893Z",
     "shell.execute_reply": "2025-07-20T12:19:07.945928Z"
    },
    "executionInfo": {
     "elapsed": 1230,
     "status": "ok",
     "timestamp": 1753012663900,
     "user": {
      "displayName": "Adnan Alaref",
      "userId": "03256264963634723986"
     },
     "user_tz": -180
    },
    "id": "zUzlzwLeQU_Z",
    "outputId": "4b66bc21-52c1-47b9-8911-785941c2811c",
    "papermill": {
     "duration": 1.324956,
     "end_time": "2025-07-20T12:19:07.950627",
     "exception": false,
     "start_time": "2025-07-20T12:19:06.625671",
     "status": "completed"
    },
    "tags": []
   },
   "outputs": [
    {
     "data": {
      "image/png": "[encoded data removed]",
      "text/plain": [
       "<Figure size 1600x600 with 4 Axes>"
      ]
     },
     "metadata": {},
     "output_type": "display_data"
    }
   ],
   "source": [
    "fig ,ax = plt.subplots(nrows=1, ncols=2, figsize = (16,6))\n",
    "\n",
    "sns.heatmap(\n",
    "    pivot_uniform,\n",
    "    annot=True, fmt=\".4f\", cmap=\"YlGnBu\",\n",
    "    cbar_kws={'label': 'Mean CV Accuracy'},\n",
    "    ax=ax[0]\n",
    ")\n",
    "ax[0].set_title(\"CV Accuracy: k vs Metric (weights='uniform')\")\n",
    "ax[0].set_xlabel(\"Metric\")\n",
    "ax[0].set_ylabel(\"Number of Neighbors (k)\")\n",
    "\n",
    "sns.heatmap(\n",
    "    pivot_distance,\n",
    "    annot=True, fmt=\".4f\", cmap=\"YlGnBu\",\n",
    "    cbar_kws={'label': 'Mean CV Accuracy'},\n",
    "    ax=ax[1]\n",
    ")\n",
    "ax[1].set_title(\"CV Accuracy: k vs Metric (weights='distance')\")\n",
    "ax[1].set_xlabel(\"Metric\")\n",
    "ax[1].set_ylabel(\"\")\n",
    "\n",
    "plt.tight_layout()\n",
    "plt.show()\n"
   ]
  },
  {
   "cell_type": "markdown",
   "id": "8200029d",
   "metadata": {
    "id": "6O8Rvx6hUZy-",
    "papermill": {
     "duration": 0.015213,
     "end_time": "2025-07-20T12:19:07.981871",
     "exception": false,
     "start_time": "2025-07-20T12:19:07.966658",
     "status": "completed"
    },
    "tags": []
   },
   "source": [
    "## **📖 Summary:**"
   ]
  },
  {
   "cell_type": "markdown",
   "id": "a14b3dc4",
   "metadata": {
    "id": "LJ5lWunHUS01",
    "papermill": {
     "duration": 0.014544,
     "end_time": "2025-07-20T12:19:08.011942",
     "exception": false,
     "start_time": "2025-07-20T12:19:07.997398",
     "status": "completed"
    },
    "tags": []
   },
   "source": [
    "| **Method**         | **Best k** | **Why**                                       |\n",
    "|---------------------|------------|-----------------------------------------------|\n",
    "| Test set only       | k = 7     | Overfits to test split                       |\n",
    "| Manual CV only      | k = 15     | Reasonable, but ignores weights             |\n",
    "| GridSearchCV        | k = 20     | Best CV accuracy with more parameters       |\n",
    "\n",
    "✅ **Correct approach**: Use **k = 20** from GridSearchCV, then evaluate on the test set.\n"
   ]
  },
  {
   "cell_type": "markdown",
   "id": "8d96582c",
   "metadata": {
    "id": "XMK1bhCJqthe",
    "papermill": {
     "duration": 0.014459,
     "end_time": "2025-07-20T12:19:08.041231",
     "exception": false,
     "start_time": "2025-07-20T12:19:08.026772",
     "status": "completed"
    },
    "tags": []
   },
   "source": [
    "# **◍ Step 5: Train The Final Model.**"
   ]
  },
  {
   "cell_type": "code",
   "execution_count": 14,
   "id": "88f74562",
   "metadata": {
    "execution": {
     "iopub.execute_input": "2025-07-20T12:19:08.072177Z",
     "iopub.status.busy": "2025-07-20T12:19:08.071811Z",
     "iopub.status.idle": "2025-07-20T12:19:09.473485Z",
     "shell.execute_reply": "2025-07-20T12:19:09.472345Z"
    },
    "executionInfo": {
     "elapsed": 1645,
     "status": "ok",
     "timestamp": 1753012670420,
     "user": {
      "displayName": "Adnan Alaref",
      "userId": "03256264963634723986"
     },
     "user_tz": -180
    },
    "id": "i4XCZ-wwmkwz",
    "outputId": "a9a44529-acf7-4cbc-d152-fbaca1963162",
    "papermill": {
     "duration": 1.419,
     "end_time": "2025-07-20T12:19:09.474954",
     "exception": false,
     "start_time": "2025-07-20T12:19:08.055954",
     "status": "completed"
    },
    "tags": []
   },
   "outputs": [
    {
     "name": "stdout",
     "output_type": "stream",
     "text": [
      "✅ Test set accuracy: 0.9300\n",
      "\n",
      "Classification Report : \n",
      "               precision    recall  f1-score   support\n",
      "\n",
      "           0       0.94      0.91      0.93       997\n",
      "           1       0.92      0.95      0.93      1003\n",
      "\n",
      "    accuracy                           0.93      2000\n",
      "   macro avg       0.93      0.93      0.93      2000\n",
      "weighted avg       0.93      0.93      0.93      2000\n",
      "\n"
     ]
    }
   ],
   "source": [
    "best_knn = grid.best_estimator_\n",
    "best_knn.fit(X_train_scaled, y_train)\n",
    "\n",
    "# Predict on the test set\n",
    "preds = best_knn.predict(X_test_scaled)\n",
    "\n",
    " # Get distances and indices of the K nearest neighbors\n",
    "distances ,indxs = best_knn.kneighbors(X_test_scaled)\n",
    "\n",
    "# Evaluate the performance\n",
    "test_score = best_knn.score(X_test_scaled, y_test)\n",
    "print(f\"✅ Test set accuracy: {test_score:.4f}\\n\")\n",
    "\n",
    "print(f\"Classification Report : \\n {classification_report(y_test,preds)}\")"
   ]
  },
  {
   "cell_type": "code",
   "execution_count": 15,
   "id": "c37acf5d",
   "metadata": {
    "execution": {
     "iopub.execute_input": "2025-07-20T12:19:09.506236Z",
     "iopub.status.busy": "2025-07-20T12:19:09.505813Z",
     "iopub.status.idle": "2025-07-20T12:19:10.166683Z",
     "shell.execute_reply": "2025-07-20T12:19:10.165773Z"
    },
    "executionInfo": {
     "elapsed": 656,
     "status": "ok",
     "timestamp": 1753012675501,
     "user": {
      "displayName": "Adnan Alaref",
      "userId": "03256264963634723986"
     },
     "user_tz": -180
    },
    "id": "eSm7U9mYqI0G",
    "outputId": "ff1f0134-3f94-42dd-ef9f-57285c0c2715",
    "papermill": {
     "duration": 0.678396,
     "end_time": "2025-07-20T12:19:10.168346",
     "exception": false,
     "start_time": "2025-07-20T12:19:09.489950",
     "status": "completed"
    },
    "tags": []
   },
   "outputs": [
    {
     "data": {
      "image/png": "[encoded data removed]",
      "text/plain": [
       "<Figure size 640x480 with 2 Axes>"
      ]
     },
     "metadata": {},
     "output_type": "display_data"
    }
   ],
   "source": [
    "ConfusionMatrixDisplay.from_estimator(best_knn, X_test_scaled, y_test, cmap=\"Blues\")\n",
    "plt.show()"
   ]
  },
  {
   "cell_type": "markdown",
   "id": "3c1ed939",
   "metadata": {
    "id": "wCVbgLgm_0rX",
    "papermill": {
     "duration": 0.015537,
     "end_time": "2025-07-20T12:19:10.200219",
     "exception": false,
     "start_time": "2025-07-20T12:19:10.184682",
     "status": "completed"
    },
    "tags": []
   },
   "source": [
    "# **◍ Step 6: Custom Knn Implemintaion.**"
   ]
  },
  {
   "cell_type": "code",
   "execution_count": 16,
   "id": "96d8c00b",
   "metadata": {
    "execution": {
     "iopub.execute_input": "2025-07-20T12:19:10.234249Z",
     "iopub.status.busy": "2025-07-20T12:19:10.233887Z",
     "iopub.status.idle": "2025-07-20T12:19:10.242372Z",
     "shell.execute_reply": "2025-07-20T12:19:10.241439Z"
    },
    "executionInfo": {
     "elapsed": 20,
     "status": "ok",
     "timestamp": 1753012682564,
     "user": {
      "displayName": "Adnan Alaref",
      "userId": "03256264963634723986"
     },
     "user_tz": -180
    },
    "id": "P_RXn9B1_0U9",
    "papermill": {
     "duration": 0.026943,
     "end_time": "2025-07-20T12:19:10.244022",
     "exception": false,
     "start_time": "2025-07-20T12:19:10.217079",
     "status": "completed"
    },
    "tags": []
   },
   "outputs": [],
   "source": [
    "class KNN:\n",
    "  def __init__(self, k = 3, task = \"Classification\"):\n",
    "    self.k = k\n",
    "    self.task = task.lower()\n",
    "\n",
    "  # Just store data\n",
    "  def fit(self, X, y):\n",
    "    self.X_train, self.y_train = X , y\n",
    "\n",
    "  def predict(self, X):\n",
    "    return np.array([self._predict(x) for x in X])\n",
    "\n",
    "  def _predict(self, x):\n",
    "    distances = [np.sum((x - x_train)**2) for x_train in self.X_train]\n",
    "    k_indxes = np.argsort(distances)[:self.k]\n",
    "\n",
    "    knn_outputs = [self.y_train[i] for i in k_indxes]\n",
    "\n",
    "    if self.task==\"classification\":\n",
    "      most_freq = Counter(knn_outputs).most_common(1) # [(lable, freqs)]\n",
    "      return most_freq[0][0]  # Return lable\n",
    "\n",
    "    elif self.task == \"regression\":\n",
    "      avg = np.mean(knn_outputs)\n",
    "      return avg\n",
    "\n",
    "  # Using KNN for decover anomalies data\n",
    "  def is_anomly(self, x):\n",
    "    threshold = 1.0\n",
    "    distance = [np.sum((x-x_train)**2) for x_train in X_train]\n",
    "    kth_distances = np.sort(distance)[self.k-1]\n",
    "    return kth_distances > threshold * threshold   # Code track because when not take sqrt() when we calc Euclidean distance"
   ]
  },
  {
   "cell_type": "markdown",
   "id": "f203b15d",
   "metadata": {
    "id": "_gqUfU52UgLq",
    "papermill": {
     "duration": 0.015274,
     "end_time": "2025-07-20T12:19:10.274888",
     "exception": false,
     "start_time": "2025-07-20T12:19:10.259614",
     "status": "completed"
    },
    "tags": []
   },
   "source": [
    "## **🔷 Try Custom Implemintaion For Classification Task:**"
   ]
  },
  {
   "cell_type": "code",
   "execution_count": 17,
   "id": "91a09429",
   "metadata": {
    "execution": {
     "iopub.execute_input": "2025-07-20T12:19:10.307232Z",
     "iopub.status.busy": "2025-07-20T12:19:10.306849Z",
     "iopub.status.idle": "2025-07-20T12:19:10.523928Z",
     "shell.execute_reply": "2025-07-20T12:19:10.522750Z"
    },
    "executionInfo": {
     "elapsed": 627,
     "status": "ok",
     "timestamp": 1753012790070,
     "user": {
      "displayName": "Adnan Alaref",
      "userId": "03256264963634723986"
     },
     "user_tz": -180
    },
    "id": "xXXOrzvdUAdS",
    "outputId": "552c603a-21c9-47c5-b091-7c1f0624b587",
    "papermill": {
     "duration": 0.235361,
     "end_time": "2025-07-20T12:19:10.525913",
     "exception": false,
     "start_time": "2025-07-20T12:19:10.290552",
     "status": "completed"
    },
    "tags": []
   },
   "outputs": [
    {
     "name": "stdout",
     "output_type": "stream",
     "text": [
      "\n",
      "K = 3 - Classification Accuracy: 96.00%\n",
      "\n"
     ]
    }
   ],
   "source": [
    "X_class,y_class = make_classification(n_samples=500, n_features=2, n_redundant=0, n_clusters_per_class=1, random_state=42)\n",
    "X_train_class, X_test_class, y_train_class, y_test_class = train_test_split(X_class, y_class, test_size=0.2, random_state=42)\n",
    "\n",
    "scaler = StandardScaler()\n",
    "X_train_class_scaled = scaler.fit_transform(X_train_class)\n",
    "X_test_class_scaled = scaler.transform(X_test_class)\n",
    "\n",
    "knn_custom = KNN(k=3,task=\"Classification\")\n",
    "knn_custom.fit(X_train_class_scaled,y_train_class)\n",
    "\n",
    "y_pred = knn_custom.predict(X_test_class_scaled)\n",
    "\n",
    "acc = accuracy_score(y_test_class, y_pred)\n",
    "print(f\"\\nK = {knn_custom.k} - Classification Accuracy: {acc * 100:.2f}%\\n\")"
   ]
  },
  {
   "cell_type": "markdown",
   "id": "942a66d7",
   "metadata": {
    "id": "jl-6K1QtJhh_",
    "papermill": {
     "duration": 0.015216,
     "end_time": "2025-07-20T12:19:10.557652",
     "exception": false,
     "start_time": "2025-07-20T12:19:10.542436",
     "status": "completed"
    },
    "tags": []
   },
   "source": [
    "## **🔷 Try Custom Implemintaion For Regression Task:**"
   ]
  },
  {
   "cell_type": "code",
   "execution_count": 18,
   "id": "9c5abe28",
   "metadata": {
    "execution": {
     "iopub.execute_input": "2025-07-20T12:19:10.590756Z",
     "iopub.status.busy": "2025-07-20T12:19:10.589673Z",
     "iopub.status.idle": "2025-07-20T12:19:10.815483Z",
     "shell.execute_reply": "2025-07-20T12:19:10.814360Z"
    },
    "executionInfo": {
     "elapsed": 506,
     "status": "ok",
     "timestamp": 1753012972155,
     "user": {
      "displayName": "Adnan Alaref",
      "userId": "03256264963634723986"
     },
     "user_tz": -180
    },
    "id": "fUGfjv4vUAac",
    "outputId": "0fd4deb6-71ae-4789-e80b-7d6d020b3fe1",
    "papermill": {
     "duration": 0.244228,
     "end_time": "2025-07-20T12:19:10.817197",
     "exception": false,
     "start_time": "2025-07-20T12:19:10.572969",
     "status": "completed"
    },
    "tags": []
   },
   "outputs": [
    {
     "name": "stdout",
     "output_type": "stream",
     "text": [
      "Regression MSE: 2.92\n"
     ]
    }
   ],
   "source": [
    "# Generate and test on regression dataset\n",
    "X_regress, y_regress = make_regression(n_samples=500, n_features=2, noise=0.1, random_state=42)\n",
    "X_train_regress, X_test_regress, y_train_regress, y_test_regress = train_test_split(X_regress, y_regress, test_size=0.2,\n",
    "                                                                                    random_state=42)\n",
    "scaler = StandardScaler()\n",
    "X_train_regrss_scaled = scaler.fit_transform(X_train_regress)\n",
    "X_test_class_scaled = scaler.transform(X_test_regress)\n",
    "\n",
    "knn_regress = KNN(k=3, task='Regression')\n",
    "knn_regress.fit(X_train_regress, y_train_regress)\n",
    "\n",
    "y_pred_regress = knn_regress.predict(X_test_regress)\n",
    "mse = mean_squared_error(y_test_regress, y_pred_regress)\n",
    "print(f\"Regression MSE: {mse:.2f}\")"
   ]
  },
  {
   "cell_type": "markdown",
   "id": "6bc778e5",
   "metadata": {
    "papermill": {
     "duration": 0.015333,
     "end_time": "2025-07-20T12:19:10.848128",
     "exception": false,
     "start_time": "2025-07-20T12:19:10.832795",
     "status": "completed"
    },
    "tags": []
   },
   "source": [
    "**📌 Conclusion**   \n",
    "We implemented a custom K-Nearest Neighbors classifier from scratch, demonstrating its core concepts: storing data, computing distances, and majority voting. This hands-on approach deepens understanding of KNN’s mechanics and shows its simplicity and effectiveness. For larger datasets, further optimizations and vectorized computations are recommended."
   ]
  },
  {
   "cell_type": "markdown",
   "id": "08f77a21",
   "metadata": {
    "id": "H6Ixr-doH5w1",
    "papermill": {
     "duration": 0.015185,
     "end_time": "2025-07-20T12:19:10.878927",
     "exception": false,
     "start_time": "2025-07-20T12:19:10.863742",
     "status": "completed"
    },
    "tags": []
   },
   "source": [
    "<a id=\"Import\"></a>\n",
    "<p style=\"background-color: #000000; font-family: 'Verdana', sans-serif; color: #FFFFFF; font-size: 160%; text-align: center; border-radius: 25px; padding: 12px 20px; margin-top: 20px; border: 2px solid transparent; background-image: linear-gradient(black, black), linear-gradient(45deg, #FF00FF, #00FFFF, #FFFF00, #FF4500); background-origin: border-box; background-clip: content-box, border-box; box-shadow: 0px 4px 20px rgba(255, 105, 180, 0.8);\">\n",
    "   Thanks & Upvote ❤️</p>"
   ]
  }
 ],
 "metadata": {
  "colab": {
   "authorship_tag": "ABX9TyNzth3Z31jPtoqxz8wmtVB+",
   "provenance": [],
   "toc_visible": true
  },
  "kaggle": {
   "accelerator": "none",
   "dataSources": [],
   "dockerImageVersionId": 31089,
   "isGpuEnabled": false,
   "isInternetEnabled": true,
   "language": "python",
   "sourceType": "notebook"
  },
  "kernelspec": {
   "display_name": "Python 3",
   "language": "python",
   "name": "python3"
  },
  "language_info": {
   "codemirror_mode": {
    "name": "ipython",
    "version": 3
   },
   "file_extension": ".py",
   "mimetype": "text/x-python",
   "name": "python",
   "nbconvert_exporter": "python",
   "pygments_lexer": "ipython3",
   "version": "3.11.13"
  },
  "papermill": {
   "default_parameters": {},
   "duration": 136.87271,
   "end_time": "2025-07-20T12:19:13.514742",
   "environment_variables": {},
   "exception": null,
   "input_path": "__notebook__.ipynb",
   "output_path": "__notebook__.ipynb",
   "parameters": {},
   "start_time": "2025-07-20T12:16:56.642032",
   "version": "2.6.0"
  }
 },
 "nbformat": 4,
 "nbformat_minor": 5
}
